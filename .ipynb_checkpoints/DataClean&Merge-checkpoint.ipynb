{
 "cells": [
  {
   "cell_type": "markdown",
   "metadata": {},
   "source": [
    "# MB2 Data Cleaning and Merging"
   ]
  },
  {
   "cell_type": "code",
   "execution_count": 3,
   "metadata": {},
   "outputs": [
    {
     "name": "stderr",
     "output_type": "stream",
     "text": [
      "-- \u001b[1mAttaching packages\u001b[22m --------------------------------------- tidyverse 1.3.0 --\n",
      "\n",
      "\u001b[32mv\u001b[39m \u001b[34mggplot2\u001b[39m 3.3.2     \u001b[32mv\u001b[39m \u001b[34mpurrr  \u001b[39m 0.3.4\n",
      "\u001b[32mv\u001b[39m \u001b[34mtibble \u001b[39m 3.0.1     \u001b[32mv\u001b[39m \u001b[34mdplyr  \u001b[39m 1.0.0\n",
      "\u001b[32mv\u001b[39m \u001b[34mtidyr  \u001b[39m 1.1.0     \u001b[32mv\u001b[39m \u001b[34mstringr\u001b[39m 1.4.0\n",
      "\u001b[32mv\u001b[39m \u001b[34mreadr  \u001b[39m 1.3.1     \u001b[32mv\u001b[39m \u001b[34mforcats\u001b[39m 0.5.0\n",
      "\n",
      "-- \u001b[1mConflicts\u001b[22m ------------------------------------------ tidyverse_conflicts() --\n",
      "\u001b[31mx\u001b[39m \u001b[34mdplyr\u001b[39m::\u001b[32mfilter()\u001b[39m masks \u001b[34mstats\u001b[39m::filter()\n",
      "\u001b[31mx\u001b[39m \u001b[34mdplyr\u001b[39m::\u001b[32mlag()\u001b[39m    masks \u001b[34mstats\u001b[39m::lag()\n",
      "\n"
     ]
    }
   ],
   "source": [
    "library(tidyverse)\n",
    "library(RStoolbox)\n",
    "library(dplyr)"
   ]
  },
  {
   "cell_type": "code",
   "execution_count": 4,
   "metadata": {},
   "outputs": [],
   "source": [
    "setwd(\"C:/Users/s1526/Dropbox/EAGLE_Assessments/MB3_Geoinfo/MB3_FINAL\")"
   ]
  },
  {
   "cell_type": "markdown",
   "metadata": {},
   "source": [
    "## 1. Data Cleaning"
   ]
  },
  {
   "cell_type": "markdown",
   "metadata": {},
   "source": [
    "### 1.1. Read data"
   ]
  },
  {
   "cell_type": "code",
   "execution_count": 103,
   "metadata": {},
   "outputs": [
    {
     "name": "stderr",
     "output_type": "stream",
     "text": [
      "Parsed with column specification:\n",
      "cols(\n",
      "  ID = \u001b[32mcol_double()\u001b[39m,\n",
      "  Latitude = \u001b[32mcol_double()\u001b[39m,\n",
      "  Longitude = \u001b[32mcol_double()\u001b[39m,\n",
      "  ClassID = \u001b[31mcol_character()\u001b[39m,\n",
      "  Class = \u001b[31mcol_character()\u001b[39m,\n",
      "  Name = \u001b[31mcol_character()\u001b[39m,\n",
      "  Note = \u001b[31mcol_character()\u001b[39m\n",
      ")\n",
      "\n",
      "Parsed with column specification:\n",
      "cols(\n",
      "  ID = \u001b[32mcol_double()\u001b[39m,\n",
      "  latitude = \u001b[32mcol_double()\u001b[39m,\n",
      "  longitude = \u001b[32mcol_double()\u001b[39m,\n",
      "  ClassID = \u001b[32mcol_double()\u001b[39m,\n",
      "  Class = \u001b[31mcol_character()\u001b[39m,\n",
      "  Surveyor = \u001b[31mcol_character()\u001b[39m,\n",
      "  Notes = \u001b[31mcol_character()\u001b[39m\n",
      ")\n",
      "\n",
      "Parsed with column specification:\n",
      "cols(\n",
      "  ID = \u001b[32mcol_double()\u001b[39m,\n",
      "  Latitude = \u001b[32mcol_double()\u001b[39m,\n",
      "  Longitude = \u001b[32mcol_double()\u001b[39m,\n",
      "  Class_id = \u001b[32mcol_double()\u001b[39m,\n",
      "  Notes = \u001b[31mcol_character()\u001b[39m,\n",
      "  Class = \u001b[31mcol_character()\u001b[39m,\n",
      "  DMS = \u001b[31mcol_character()\u001b[39m,\n",
      "  UTM = \u001b[31mcol_character()\u001b[39m,\n",
      "  MGRS = \u001b[31mcol_character()\u001b[39m,\n",
      "  Photo = \u001b[32mcol_double()\u001b[39m,\n",
      "  Comments = \u001b[31mcol_character()\u001b[39m\n",
      ")\n",
      "\n",
      "Parsed with column specification:\n",
      "cols(\n",
      "  ID = \u001b[32mcol_double()\u001b[39m,\n",
      "  Latitude = \u001b[32mcol_double()\u001b[39m,\n",
      "  Longitude = \u001b[32mcol_double()\u001b[39m,\n",
      "  class_Id = \u001b[32mcol_double()\u001b[39m,\n",
      "  Notes = \u001b[31mcol_character()\u001b[39m,\n",
      "  DMS = \u001b[31mcol_character()\u001b[39m,\n",
      "  UTM = \u001b[31mcol_character()\u001b[39m,\n",
      "  MGRS = \u001b[31mcol_character()\u001b[39m,\n",
      "  CRS = \u001b[31mcol_character()\u001b[39m,\n",
      "  `Elevation(MSL)` = \u001b[31mcol_character()\u001b[39m,\n",
      "  Address = \u001b[31mcol_character()\u001b[39m,\n",
      "  `Date Record` = \u001b[31mcol_character()\u001b[39m,\n",
      "  `GPS Accuracy(m)` = \u001b[31mcol_character()\u001b[39m,\n",
      "  Photo = \u001b[31mcol_character()\u001b[39m\n",
      ")\n",
      "\n",
      "Parsed with column specification:\n",
      "cols(\n",
      "  ID = \u001b[32mcol_double()\u001b[39m,\n",
      "  Latitude = \u001b[32mcol_double()\u001b[39m,\n",
      "  Longitude = \u001b[32mcol_double()\u001b[39m,\n",
      "  ClassID = \u001b[32mcol_double()\u001b[39m,\n",
      "  Class = \u001b[31mcol_character()\u001b[39m,\n",
      "  Name = \u001b[31mcol_character()\u001b[39m,\n",
      "  Notes = \u001b[31mcol_character()\u001b[39m\n",
      ")\n",
      "\n",
      "Parsed with column specification:\n",
      "cols(\n",
      "  ID = \u001b[32mcol_double()\u001b[39m,\n",
      "  latitude = \u001b[32mcol_double()\u001b[39m,\n",
      "  longitude = \u001b[32mcol_double()\u001b[39m,\n",
      "  ClassID = \u001b[32mcol_double()\u001b[39m,\n",
      "  Class = \u001b[31mcol_character()\u001b[39m,\n",
      "  Surveyor = \u001b[31mcol_character()\u001b[39m,\n",
      "  Notes = \u001b[31mcol_character()\u001b[39m\n",
      ")\n",
      "\n",
      "Parsed with column specification:\n",
      "cols(\n",
      "  ID = \u001b[32mcol_double()\u001b[39m,\n",
      "  Latitude = \u001b[32mcol_double()\u001b[39m,\n",
      "  Longitude = \u001b[32mcol_double()\u001b[39m,\n",
      "  `Class ID` = \u001b[32mcol_double()\u001b[39m,\n",
      "  Notes = \u001b[31mcol_character()\u001b[39m,\n",
      "  Class = \u001b[31mcol_character()\u001b[39m,\n",
      "  DMS = \u001b[31mcol_character()\u001b[39m,\n",
      "  UTM = \u001b[31mcol_character()\u001b[39m,\n",
      "  MGRS = \u001b[31mcol_character()\u001b[39m,\n",
      "  Photo = \u001b[33mcol_logical()\u001b[39m,\n",
      "  Comments = \u001b[33mcol_logical()\u001b[39m\n",
      ")\n",
      "\n",
      "Parsed with column specification:\n",
      "cols(\n",
      "  ID = \u001b[32mcol_double()\u001b[39m,\n",
      "  latitude = \u001b[32mcol_double()\u001b[39m,\n",
      "  longitude = \u001b[32mcol_double()\u001b[39m,\n",
      "  class_id = \u001b[32mcol_double()\u001b[39m,\n",
      "  class_name = \u001b[31mcol_character()\u001b[39m,\n",
      "  Notes = \u001b[31mcol_character()\u001b[39m,\n",
      "  Surveyor = \u001b[31mcol_character()\u001b[39m\n",
      ")\n",
      "\n",
      "Parsed with column specification:\n",
      "cols(\n",
      "  ID = \u001b[32mcol_double()\u001b[39m,\n",
      "  Latitude = \u001b[32mcol_double()\u001b[39m,\n",
      "  Longitude = \u001b[32mcol_double()\u001b[39m,\n",
      "  ClassID = \u001b[32mcol_double()\u001b[39m,\n",
      "  Class = \u001b[31mcol_character()\u001b[39m,\n",
      "  Name = \u001b[31mcol_character()\u001b[39m,\n",
      "  Notes = \u001b[31mcol_character()\u001b[39m\n",
      ")\n",
      "\n",
      "Parsed with column specification:\n",
      "cols(\n",
      "  ID = \u001b[32mcol_double()\u001b[39m,\n",
      "  Latitude = \u001b[32mcol_double()\u001b[39m,\n",
      "  Longitude = \u001b[32mcol_double()\u001b[39m,\n",
      "  ClassID = \u001b[32mcol_double()\u001b[39m,\n",
      "  Class = \u001b[31mcol_character()\u001b[39m,\n",
      "  Surveyor = \u001b[31mcol_character()\u001b[39m,\n",
      "  Notes = \u001b[31mcol_character()\u001b[39m,\n",
      "  DMS = \u001b[31mcol_character()\u001b[39m,\n",
      "  UTM = \u001b[31mcol_character()\u001b[39m,\n",
      "  MGRS = \u001b[31mcol_character()\u001b[39m\n",
      ")\n",
      "\n"
     ]
    }
   ],
   "source": [
    "Chris_data <- read_csv(file.path(\"Data\", \"Chris_Samples\", \"Chris_Samples.csv\"))\n",
    "Antonio_data <- read_csv(file.path(\"Data\", \"Collection_Antonio\", \"samples_Antonio.csv\"))\n",
    "Diego_data <- read_csv(file.path(\"Data\", \"Collection_Diego\", \"collection_Diego.csv\"))\n",
    "Kevin_data <- read_csv(file.path(\"Data\", \"Collection_kevin\", \"Collection_kevin.csv\"))\n",
    "Lui_data <- read_csv(file.path(\"Data\", \"Luis_FieldSurvey\", \"Field Survey.csv\"))\n",
    "Nils_data <- read_csv(file.path(\"Data\", \"Nils_Point_images\", \"Nils_samples.csv\"))\n",
    "Jakob_data <- read_csv(file.path(\"Data\", \"Samples_Jakob\", \"Samples_Jakob.csv\"))\n",
    "KM_data <- read_csv(file.path(\"Data\", \"Samples_KM\", \"sample_KM.csv\"))\n",
    "Maurius_data <- read_csv(file.path(\"Data\", \"Samples_Maurius\", \"Samples_Marius.csv\"))\n",
    "Sofia_data <- read_csv(file.path(\"Data\", \"Samples_Sofia\", \"samples_Sofia.csv\"))"
   ]
  },
  {
   "cell_type": "markdown",
   "metadata": {},
   "source": [
    "### 1.2.  Batch rename tables"
   ]
  },
  {
   "cell_type": "markdown",
   "metadata": {},
   "source": [
    "Standard for dataframe names:\n",
    "\n",
    "ID, Latitude, Longitude, Class_ID"
   ]
  },
  {
   "cell_type": "code",
   "execution_count": 104,
   "metadata": {},
   "outputs": [
    {
     "data": {
      "text/html": [
       "<style>\n",
       ".list-inline {list-style: none; margin:0; padding: 0}\n",
       ".list-inline>li {display: inline-block}\n",
       ".list-inline>li:not(:last-child)::after {content: \"\\00b7\"; padding: 0 .5ex}\n",
       "</style>\n",
       "<ol class=list-inline><li>'ID'</li><li>'Latitude'</li><li>'Longitude'</li><li>'Class_ID'</li></ol>\n"
      ],
      "text/latex": [
       "\\begin{enumerate*}\n",
       "\\item 'ID'\n",
       "\\item 'Latitude'\n",
       "\\item 'Longitude'\n",
       "\\item 'Class\\_ID'\n",
       "\\end{enumerate*}\n"
      ],
      "text/markdown": [
       "1. 'ID'\n",
       "2. 'Latitude'\n",
       "3. 'Longitude'\n",
       "4. 'Class_ID'\n",
       "\n",
       "\n"
      ],
      "text/plain": [
       "[1] \"ID\"        \"Latitude\"  \"Longitude\" \"Class_ID\" "
      ]
     },
     "metadata": {},
     "output_type": "display_data"
    }
   ],
   "source": [
    "colnames_vec <- c(\"ID\", \"Latitude\", \"Longitude\", \"Class_ID\")\n",
    "\n",
    "colnames_vec"
   ]
  },
  {
   "cell_type": "code",
   "execution_count": 105,
   "metadata": {},
   "outputs": [],
   "source": [
    "colnames(Chris_data)[1:4] <- colnames_vec\n",
    "colnames(Antonio_data)[1:4] <- colnames_vec\n",
    "colnames(Diego_data)[1:4] <- colnames_vec\n",
    "colnames(Kevin_data)[1:4] <- colnames_vec\n",
    "colnames(Lui_data)[1:4] <- colnames_vec\n",
    "colnames(Nils_data)[1:4] <- colnames_vec\n",
    "colnames(Jakob_data)[1:4] <- colnames_vec\n",
    "colnames(KM_data)[1:4] <- colnames_vec\n",
    "colnames(Maurius_data)[1:4] <- colnames_vec\n",
    "colnames(Sofia_data)[1:4] <- colnames_vec"
   ]
  },
  {
   "cell_type": "code",
   "execution_count": 107,
   "metadata": {},
   "outputs": [
    {
     "data": {
      "text/html": [
       "<ol>\n",
       "\t<li><table>\n",
       "<caption>A spec_tbl_df: 20 × 11</caption>\n",
       "<thead>\n",
       "\t<tr><th scope=col>ID</th><th scope=col>Latitude</th><th scope=col>Longitude</th><th scope=col>Class_ID</th><th scope=col>Notes</th><th scope=col>Class</th><th scope=col>DMS</th><th scope=col>UTM</th><th scope=col>MGRS</th><th scope=col>Photo</th><th scope=col>Comments</th></tr>\n",
       "\t<tr><th scope=col>&lt;dbl&gt;</th><th scope=col>&lt;dbl&gt;</th><th scope=col>&lt;dbl&gt;</th><th scope=col>&lt;dbl&gt;</th><th scope=col>&lt;chr&gt;</th><th scope=col>&lt;chr&gt;</th><th scope=col>&lt;chr&gt;</th><th scope=col>&lt;chr&gt;</th><th scope=col>&lt;chr&gt;</th><th scope=col>&lt;lgl&gt;</th><th scope=col>&lt;lgl&gt;</th></tr>\n",
       "</thead>\n",
       "<tbody>\n",
       "\t<tr><td>136</td><td>49.78206</td><td>9.974650</td><td>1</td><td>JA</td><td>Built-up </td><td>49° 46' 55.41'' N | 9° 58' 28.74'' E</td><td>570165.0E 5514855.0N 32U</td><td>32UNA 70165 14855</td><td>NA</td><td>NA</td></tr>\n",
       "\t<tr><td> 93</td><td>49.78096</td><td>9.976711</td><td>1</td><td>JA</td><td>Built-up </td><td>49° 46' 51.46'' N | 9° 58' 36.16'' E</td><td>570315.0E 5514735.0N 32U</td><td>32UNA 70315 14735</td><td>NA</td><td>NA</td></tr>\n",
       "\t<tr><td> 88</td><td>49.78178</td><td>9.975061</td><td>1</td><td>JA</td><td>Built-up </td><td>49° 46' 54.42'' N | 9° 58' 30.22'' E</td><td>570195.0E 5514825.0N 32U</td><td>32UNA 70195 14825</td><td>NA</td><td>NA</td></tr>\n",
       "\t<tr><td> 66</td><td>49.78370</td><td>9.972182</td><td>1</td><td>JA</td><td>Built-up </td><td>49° 47' 1.31'' N | 9° 58' 19.86'' E </td><td>569985.0E 5515035.0N 32U</td><td>32UNA 69985 15035</td><td>NA</td><td>NA</td></tr>\n",
       "\t<tr><td> 42</td><td>49.78232</td><td>9.975905</td><td>1</td><td>JA</td><td>Built-up </td><td>49° 46' 56.34'' N | 9° 58' 33.26'' E</td><td>570255.0E 5514885.0N 32U</td><td>32UNA 70255 14885</td><td>NA</td><td>NA</td></tr>\n",
       "\t<tr><td> 94</td><td>49.78237</td><td>9.969655</td><td>3</td><td>JA</td><td>Grassland</td><td>49° 46' 56.53'' N | 9° 58' 10.76'' E</td><td>569805.0E 5514885.0N 32U</td><td>32UNA 69805 14885</td><td>NA</td><td>NA</td></tr>\n",
       "\t<tr><td>117</td><td>49.78180</td><td>9.972978</td><td>1</td><td>JA</td><td>Built-up </td><td>49° 46' 54.48'' N | 9° 58' 22.72'' E</td><td>570045.0E 5514825.0N 32U</td><td>32UNA 70045 14825</td><td>NA</td><td>NA</td></tr>\n",
       "\t<tr><td> 91</td><td>49.78277</td><td>9.985499</td><td>1</td><td>JA</td><td>Built-up </td><td>49° 46' 57.99'' N | 9° 59' 7.8'' E  </td><td>570945.0E 5514945.0N 32U</td><td>32UNA 70945 14945</td><td>NA</td><td>NA</td></tr>\n",
       "\t<tr><td>141</td><td>49.78149</td><td>9.977556</td><td>1</td><td>JA</td><td>Built-up </td><td>49° 46' 53.37'' N | 9° 58' 39.2'' E </td><td>570375.0E 5514795.0N 32U</td><td>32UNA 70375 14795</td><td>NA</td><td>NA</td></tr>\n",
       "\t<tr><td> 60</td><td>49.78319</td><td>9.968005</td><td>3</td><td>JA</td><td>Grassland</td><td>49° 46' 59.49'' N | 9° 58' 4.82'' E </td><td>569685.0E 5514975.0N 32U</td><td>32UNA 69685 14975</td><td>NA</td><td>NA</td></tr>\n",
       "\t<tr><td>129</td><td>49.78636</td><td>9.976403</td><td>1</td><td>JA</td><td>Built-up </td><td>49° 47' 10.9'' N | 9° 58' 35.05'' E </td><td>570285.0E 5515335.0N 32U</td><td>32UNA 70285 15335</td><td>NA</td><td>NA</td></tr>\n",
       "\t<tr><td> 63</td><td>49.78372</td><td>9.969682</td><td>3</td><td>JA</td><td>Grassland</td><td>49° 47' 1.38'' N | 9° 58' 10.86'' E </td><td>569805.0E 5515035.0N 32U</td><td>32UNA 69805 15035</td><td>NA</td><td>NA</td></tr>\n",
       "\t<tr><td>120</td><td>49.78066</td><td>9.980456</td><td>1</td><td>JA</td><td>Built-up </td><td>49° 46' 50.37'' N | 9° 58' 49.64'' E</td><td>570585.0E 5514705.0N 32U</td><td>32UNA 70585 14705</td><td>NA</td><td>NA</td></tr>\n",
       "\t<tr><td>184</td><td>49.78095</td><td>9.978378</td><td>1</td><td>JA</td><td>Built-up </td><td>49° 46' 51.41'' N | 9° 58' 42.16'' E</td><td>570435.0E 5514735.0N 32U</td><td>32UNA 70435 14735</td><td>NA</td><td>NA</td></tr>\n",
       "\t<tr><td>122</td><td>49.78447</td><td>9.975949</td><td>1</td><td>JA</td><td>Built-up </td><td>49° 47' 4.11'' N | 9° 58' 33.41'' E </td><td>570255.0E 5515125.0N 32U</td><td>32UNA 70255 15125</td><td>NA</td><td>NA</td></tr>\n",
       "\t<tr><td>111</td><td>49.78346</td><td>9.968010</td><td>3</td><td>JA</td><td>Grassland</td><td>49° 47' 0.46'' N | 9° 58' 4.84'' E  </td><td>569685.0E 5515005.0N 32U</td><td>32UNA 69685 15005</td><td>NA</td><td>NA</td></tr>\n",
       "\t<tr><td> 92</td><td>49.78143</td><td>9.985472</td><td>1</td><td>JA</td><td>Built-up </td><td>49° 46' 53.13'' N | 9° 59' 7.7'' E  </td><td>570945.0E 5514795.0N 32U</td><td>32UNA 70945 14795</td><td>NA</td><td>NA</td></tr>\n",
       "\t<tr><td> 65</td><td>49.78208</td><td>9.971733</td><td>1</td><td>JA</td><td>Built-up </td><td>49° 46' 55.49'' N | 9° 58' 18.24'' E</td><td>569955.0E 5514855.0N 32U</td><td>32UNA 69955 14855</td><td>NA</td><td>NA</td></tr>\n",
       "\t<tr><td> 75</td><td>49.78265</td><td>9.967994</td><td>1</td><td>JA</td><td>Built-up </td><td>49° 46' 57.55'' N | 9° 58' 4.78'' E </td><td>569685.0E 5514915.0N 32U</td><td>32UNA 69685 14915</td><td>NA</td><td>NA</td></tr>\n",
       "\t<tr><td>119</td><td>49.78067</td><td>9.979623</td><td>1</td><td>JA</td><td>Built-up </td><td>49° 46' 50.4'' N | 9° 58' 46.64'' E </td><td>570525.0E 5514705.0N 32U</td><td>32UNA 70525 14705</td><td>NA</td><td>NA</td></tr>\n",
       "</tbody>\n",
       "</table>\n",
       "</li>\n",
       "</ol>\n"
      ],
      "text/latex": [
       "\\begin{enumerate}\n",
       "\\item A spec\\_tbl\\_df: 20 × 11\n",
       "\\begin{tabular}{lllllllllll}\n",
       " ID & Latitude & Longitude & Class\\_ID & Notes & Class & DMS & UTM & MGRS & Photo & Comments\\\\\n",
       " <dbl> & <dbl> & <dbl> & <dbl> & <chr> & <chr> & <chr> & <chr> & <chr> & <lgl> & <lgl>\\\\\n",
       "\\hline\n",
       "\t 136 & 49.78206 & 9.974650 & 1 & JA & Built-up  & 49° 46' 55.41'' N \\textbar{} 9° 58' 28.74'' E & 570165.0E 5514855.0N 32U & 32UNA 70165 14855 & NA & NA\\\\\n",
       "\t  93 & 49.78096 & 9.976711 & 1 & JA & Built-up  & 49° 46' 51.46'' N \\textbar{} 9° 58' 36.16'' E & 570315.0E 5514735.0N 32U & 32UNA 70315 14735 & NA & NA\\\\\n",
       "\t  88 & 49.78178 & 9.975061 & 1 & JA & Built-up  & 49° 46' 54.42'' N \\textbar{} 9° 58' 30.22'' E & 570195.0E 5514825.0N 32U & 32UNA 70195 14825 & NA & NA\\\\\n",
       "\t  66 & 49.78370 & 9.972182 & 1 & JA & Built-up  & 49° 47' 1.31'' N \\textbar{} 9° 58' 19.86'' E  & 569985.0E 5515035.0N 32U & 32UNA 69985 15035 & NA & NA\\\\\n",
       "\t  42 & 49.78232 & 9.975905 & 1 & JA & Built-up  & 49° 46' 56.34'' N \\textbar{} 9° 58' 33.26'' E & 570255.0E 5514885.0N 32U & 32UNA 70255 14885 & NA & NA\\\\\n",
       "\t  94 & 49.78237 & 9.969655 & 3 & JA & Grassland & 49° 46' 56.53'' N \\textbar{} 9° 58' 10.76'' E & 569805.0E 5514885.0N 32U & 32UNA 69805 14885 & NA & NA\\\\\n",
       "\t 117 & 49.78180 & 9.972978 & 1 & JA & Built-up  & 49° 46' 54.48'' N \\textbar{} 9° 58' 22.72'' E & 570045.0E 5514825.0N 32U & 32UNA 70045 14825 & NA & NA\\\\\n",
       "\t  91 & 49.78277 & 9.985499 & 1 & JA & Built-up  & 49° 46' 57.99'' N \\textbar{} 9° 59' 7.8'' E   & 570945.0E 5514945.0N 32U & 32UNA 70945 14945 & NA & NA\\\\\n",
       "\t 141 & 49.78149 & 9.977556 & 1 & JA & Built-up  & 49° 46' 53.37'' N \\textbar{} 9° 58' 39.2'' E  & 570375.0E 5514795.0N 32U & 32UNA 70375 14795 & NA & NA\\\\\n",
       "\t  60 & 49.78319 & 9.968005 & 3 & JA & Grassland & 49° 46' 59.49'' N \\textbar{} 9° 58' 4.82'' E  & 569685.0E 5514975.0N 32U & 32UNA 69685 14975 & NA & NA\\\\\n",
       "\t 129 & 49.78636 & 9.976403 & 1 & JA & Built-up  & 49° 47' 10.9'' N \\textbar{} 9° 58' 35.05'' E  & 570285.0E 5515335.0N 32U & 32UNA 70285 15335 & NA & NA\\\\\n",
       "\t  63 & 49.78372 & 9.969682 & 3 & JA & Grassland & 49° 47' 1.38'' N \\textbar{} 9° 58' 10.86'' E  & 569805.0E 5515035.0N 32U & 32UNA 69805 15035 & NA & NA\\\\\n",
       "\t 120 & 49.78066 & 9.980456 & 1 & JA & Built-up  & 49° 46' 50.37'' N \\textbar{} 9° 58' 49.64'' E & 570585.0E 5514705.0N 32U & 32UNA 70585 14705 & NA & NA\\\\\n",
       "\t 184 & 49.78095 & 9.978378 & 1 & JA & Built-up  & 49° 46' 51.41'' N \\textbar{} 9° 58' 42.16'' E & 570435.0E 5514735.0N 32U & 32UNA 70435 14735 & NA & NA\\\\\n",
       "\t 122 & 49.78447 & 9.975949 & 1 & JA & Built-up  & 49° 47' 4.11'' N \\textbar{} 9° 58' 33.41'' E  & 570255.0E 5515125.0N 32U & 32UNA 70255 15125 & NA & NA\\\\\n",
       "\t 111 & 49.78346 & 9.968010 & 3 & JA & Grassland & 49° 47' 0.46'' N \\textbar{} 9° 58' 4.84'' E   & 569685.0E 5515005.0N 32U & 32UNA 69685 15005 & NA & NA\\\\\n",
       "\t  92 & 49.78143 & 9.985472 & 1 & JA & Built-up  & 49° 46' 53.13'' N \\textbar{} 9° 59' 7.7'' E   & 570945.0E 5514795.0N 32U & 32UNA 70945 14795 & NA & NA\\\\\n",
       "\t  65 & 49.78208 & 9.971733 & 1 & JA & Built-up  & 49° 46' 55.49'' N \\textbar{} 9° 58' 18.24'' E & 569955.0E 5514855.0N 32U & 32UNA 69955 14855 & NA & NA\\\\\n",
       "\t  75 & 49.78265 & 9.967994 & 1 & JA & Built-up  & 49° 46' 57.55'' N \\textbar{} 9° 58' 4.78'' E  & 569685.0E 5514915.0N 32U & 32UNA 69685 14915 & NA & NA\\\\\n",
       "\t 119 & 49.78067 & 9.979623 & 1 & JA & Built-up  & 49° 46' 50.4'' N \\textbar{} 9° 58' 46.64'' E  & 570525.0E 5514705.0N 32U & 32UNA 70525 14705 & NA & NA\\\\\n",
       "\\end{tabular}\n",
       "\n",
       "\\end{enumerate}\n"
      ],
      "text/markdown": [
       "1. \n",
       "A spec_tbl_df: 20 × 11\n",
       "\n",
       "| ID &lt;dbl&gt; | Latitude &lt;dbl&gt; | Longitude &lt;dbl&gt; | Class_ID &lt;dbl&gt; | Notes &lt;chr&gt; | Class &lt;chr&gt; | DMS &lt;chr&gt; | UTM &lt;chr&gt; | MGRS &lt;chr&gt; | Photo &lt;lgl&gt; | Comments &lt;lgl&gt; |\n",
       "|---|---|---|---|---|---|---|---|---|---|---|\n",
       "| 136 | 49.78206 | 9.974650 | 1 | JA | Built-up  | 49° 46' 55.41'' N | 9° 58' 28.74'' E | 570165.0E 5514855.0N 32U | 32UNA 70165 14855 | NA | NA |\n",
       "|  93 | 49.78096 | 9.976711 | 1 | JA | Built-up  | 49° 46' 51.46'' N | 9° 58' 36.16'' E | 570315.0E 5514735.0N 32U | 32UNA 70315 14735 | NA | NA |\n",
       "|  88 | 49.78178 | 9.975061 | 1 | JA | Built-up  | 49° 46' 54.42'' N | 9° 58' 30.22'' E | 570195.0E 5514825.0N 32U | 32UNA 70195 14825 | NA | NA |\n",
       "|  66 | 49.78370 | 9.972182 | 1 | JA | Built-up  | 49° 47' 1.31'' N | 9° 58' 19.86'' E  | 569985.0E 5515035.0N 32U | 32UNA 69985 15035 | NA | NA |\n",
       "|  42 | 49.78232 | 9.975905 | 1 | JA | Built-up  | 49° 46' 56.34'' N | 9° 58' 33.26'' E | 570255.0E 5514885.0N 32U | 32UNA 70255 14885 | NA | NA |\n",
       "|  94 | 49.78237 | 9.969655 | 3 | JA | Grassland | 49° 46' 56.53'' N | 9° 58' 10.76'' E | 569805.0E 5514885.0N 32U | 32UNA 69805 14885 | NA | NA |\n",
       "| 117 | 49.78180 | 9.972978 | 1 | JA | Built-up  | 49° 46' 54.48'' N | 9° 58' 22.72'' E | 570045.0E 5514825.0N 32U | 32UNA 70045 14825 | NA | NA |\n",
       "|  91 | 49.78277 | 9.985499 | 1 | JA | Built-up  | 49° 46' 57.99'' N | 9° 59' 7.8'' E   | 570945.0E 5514945.0N 32U | 32UNA 70945 14945 | NA | NA |\n",
       "| 141 | 49.78149 | 9.977556 | 1 | JA | Built-up  | 49° 46' 53.37'' N | 9° 58' 39.2'' E  | 570375.0E 5514795.0N 32U | 32UNA 70375 14795 | NA | NA |\n",
       "|  60 | 49.78319 | 9.968005 | 3 | JA | Grassland | 49° 46' 59.49'' N | 9° 58' 4.82'' E  | 569685.0E 5514975.0N 32U | 32UNA 69685 14975 | NA | NA |\n",
       "| 129 | 49.78636 | 9.976403 | 1 | JA | Built-up  | 49° 47' 10.9'' N | 9° 58' 35.05'' E  | 570285.0E 5515335.0N 32U | 32UNA 70285 15335 | NA | NA |\n",
       "|  63 | 49.78372 | 9.969682 | 3 | JA | Grassland | 49° 47' 1.38'' N | 9° 58' 10.86'' E  | 569805.0E 5515035.0N 32U | 32UNA 69805 15035 | NA | NA |\n",
       "| 120 | 49.78066 | 9.980456 | 1 | JA | Built-up  | 49° 46' 50.37'' N | 9° 58' 49.64'' E | 570585.0E 5514705.0N 32U | 32UNA 70585 14705 | NA | NA |\n",
       "| 184 | 49.78095 | 9.978378 | 1 | JA | Built-up  | 49° 46' 51.41'' N | 9° 58' 42.16'' E | 570435.0E 5514735.0N 32U | 32UNA 70435 14735 | NA | NA |\n",
       "| 122 | 49.78447 | 9.975949 | 1 | JA | Built-up  | 49° 47' 4.11'' N | 9° 58' 33.41'' E  | 570255.0E 5515125.0N 32U | 32UNA 70255 15125 | NA | NA |\n",
       "| 111 | 49.78346 | 9.968010 | 3 | JA | Grassland | 49° 47' 0.46'' N | 9° 58' 4.84'' E   | 569685.0E 5515005.0N 32U | 32UNA 69685 15005 | NA | NA |\n",
       "|  92 | 49.78143 | 9.985472 | 1 | JA | Built-up  | 49° 46' 53.13'' N | 9° 59' 7.7'' E   | 570945.0E 5514795.0N 32U | 32UNA 70945 14795 | NA | NA |\n",
       "|  65 | 49.78208 | 9.971733 | 1 | JA | Built-up  | 49° 46' 55.49'' N | 9° 58' 18.24'' E | 569955.0E 5514855.0N 32U | 32UNA 69955 14855 | NA | NA |\n",
       "|  75 | 49.78265 | 9.967994 | 1 | JA | Built-up  | 49° 46' 57.55'' N | 9° 58' 4.78'' E  | 569685.0E 5514915.0N 32U | 32UNA 69685 14915 | NA | NA |\n",
       "| 119 | 49.78067 | 9.979623 | 1 | JA | Built-up  | 49° 46' 50.4'' N | 9° 58' 46.64'' E  | 570525.0E 5514705.0N 32U | 32UNA 70525 14705 | NA | NA |\n",
       "\n",
       "\n",
       "\n",
       "\n"
      ],
      "text/plain": [
       "[[1]]\n",
       "\u001b[90m# A tibble: 20 x 11\u001b[39m\n",
       "      ID Latitude Longitude Class_ID Notes Class DMS   UTM   MGRS  Photo\n",
       "   \u001b[3m\u001b[90m<dbl>\u001b[39m\u001b[23m    \u001b[3m\u001b[90m<dbl>\u001b[39m\u001b[23m     \u001b[3m\u001b[90m<dbl>\u001b[39m\u001b[23m    \u001b[3m\u001b[90m<dbl>\u001b[39m\u001b[23m \u001b[3m\u001b[90m<chr>\u001b[39m\u001b[23m \u001b[3m\u001b[90m<chr>\u001b[39m\u001b[23m \u001b[3m\u001b[90m<chr>\u001b[39m\u001b[23m \u001b[3m\u001b[90m<chr>\u001b[39m\u001b[23m \u001b[3m\u001b[90m<chr>\u001b[39m\u001b[23m \u001b[3m\u001b[90m<lgl>\u001b[39m\u001b[23m\n",
       "\u001b[90m 1\u001b[39m   136     49.8      9.97        1 JA    Buil~ 49° ~ 5701~ 32UN~ \u001b[31mNA\u001b[39m   \n",
       "\u001b[90m 2\u001b[39m    93     49.8      9.98        1 JA    Buil~ 49° ~ 5703~ 32UN~ \u001b[31mNA\u001b[39m   \n",
       "\u001b[90m 3\u001b[39m    88     49.8      9.98        1 JA    Buil~ 49° ~ 5701~ 32UN~ \u001b[31mNA\u001b[39m   \n",
       "\u001b[90m 4\u001b[39m    66     49.8      9.97        1 JA    Buil~ 49° ~ 5699~ 32UN~ \u001b[31mNA\u001b[39m   \n",
       "\u001b[90m 5\u001b[39m    42     49.8      9.98        1 JA    Buil~ 49° ~ 5702~ 32UN~ \u001b[31mNA\u001b[39m   \n",
       "\u001b[90m 6\u001b[39m    94     49.8      9.97        3 JA    Gras~ 49° ~ 5698~ 32UN~ \u001b[31mNA\u001b[39m   \n",
       "\u001b[90m 7\u001b[39m   117     49.8      9.97        1 JA    Buil~ 49° ~ 5700~ 32UN~ \u001b[31mNA\u001b[39m   \n",
       "\u001b[90m 8\u001b[39m    91     49.8      9.99        1 JA    Buil~ 49° ~ 5709~ 32UN~ \u001b[31mNA\u001b[39m   \n",
       "\u001b[90m 9\u001b[39m   141     49.8      9.98        1 JA    Buil~ 49° ~ 5703~ 32UN~ \u001b[31mNA\u001b[39m   \n",
       "\u001b[90m10\u001b[39m    60     49.8      9.97        3 JA    Gras~ 49° ~ 5696~ 32UN~ \u001b[31mNA\u001b[39m   \n",
       "\u001b[90m11\u001b[39m   129     49.8      9.98        1 JA    Buil~ 49° ~ 5702~ 32UN~ \u001b[31mNA\u001b[39m   \n",
       "\u001b[90m12\u001b[39m    63     49.8      9.97        3 JA    Gras~ 49° ~ 5698~ 32UN~ \u001b[31mNA\u001b[39m   \n",
       "\u001b[90m13\u001b[39m   120     49.8      9.98        1 JA    Buil~ 49° ~ 5705~ 32UN~ \u001b[31mNA\u001b[39m   \n",
       "\u001b[90m14\u001b[39m   184     49.8      9.98        1 JA    Buil~ 49° ~ 5704~ 32UN~ \u001b[31mNA\u001b[39m   \n",
       "\u001b[90m15\u001b[39m   122     49.8      9.98        1 JA    Buil~ 49° ~ 5702~ 32UN~ \u001b[31mNA\u001b[39m   \n",
       "\u001b[90m16\u001b[39m   111     49.8      9.97        3 JA    Gras~ 49° ~ 5696~ 32UN~ \u001b[31mNA\u001b[39m   \n",
       "\u001b[90m17\u001b[39m    92     49.8      9.99        1 JA    Buil~ 49° ~ 5709~ 32UN~ \u001b[31mNA\u001b[39m   \n",
       "\u001b[90m18\u001b[39m    65     49.8      9.97        1 JA    Buil~ 49° ~ 5699~ 32UN~ \u001b[31mNA\u001b[39m   \n",
       "\u001b[90m19\u001b[39m    75     49.8      9.97        1 JA    Buil~ 49° ~ 5696~ 32UN~ \u001b[31mNA\u001b[39m   \n",
       "\u001b[90m20\u001b[39m   119     49.8      9.98        1 JA    Buil~ 49° ~ 5705~ 32UN~ \u001b[31mNA\u001b[39m   \n",
       "\u001b[90m# ... with 1 more variable: Comments \u001b[3m\u001b[90m<lgl>\u001b[90m\u001b[23m\u001b[39m\n"
      ]
     },
     "metadata": {},
     "output_type": "display_data"
    }
   ],
   "source": [
    "All_data <- list(Chris_data, Antonio_data, Diego_data, Kevin_data, Lui_data, Nils_data, Jakob_data, KM_data, Maurius_data, Sofia_data)\n",
    "\n",
    "All_data[7]"
   ]
  },
  {
   "cell_type": "markdown",
   "metadata": {},
   "source": [
    "## 2. Data Merging"
   ]
  },
  {
   "cell_type": "markdown",
   "metadata": {},
   "source": [
    "### 2.1. Grepping 1st 4 cols of each dataframe"
   ]
  },
  {
   "cell_type": "code",
   "execution_count": 132,
   "metadata": {},
   "outputs": [
    {
     "ename": "ERROR",
     "evalue": "Error in parse(text = x, srcfile = src): <text>:1:28: unexpected '='\n1: Merge_df <- if (colnames() =\n                               ^\n",
     "output_type": "error",
     "traceback": [
      "Error in parse(text = x, srcfile = src): <text>:1:28: unexpected '='\n1: Merge_df <- if (colnames() =\n                               ^\nTraceback:\n"
     ]
    }
   ],
   "source": [
    "Merge_df <- if (colnames() = \"ID\", \"Latitude\", \"Longitude\", \"Class_ID\"){\n",
    "    cbind(Chris_data, Antonio_data, Diego_data, Kevin_data, Lui_data, Nils_data, Jakob_data, KM_data, Maurius_data, Sofia_data)\n",
    "}\n",
    "\n",
    "head(Merge_df)"
   ]
  }
 ],
 "metadata": {
  "kernelspec": {
   "display_name": "R",
   "language": "R",
   "name": "ir"
  },
  "language_info": {
   "codemirror_mode": "r",
   "file_extension": ".r",
   "mimetype": "text/x-r-source",
   "name": "R",
   "pygments_lexer": "r",
   "version": "4.0.2"
  }
 },
 "nbformat": 4,
 "nbformat_minor": 4
}
