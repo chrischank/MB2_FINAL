{
 "cells": [
  {
   "cell_type": "markdown",
   "metadata": {},
   "source": [
    "# MB2 Data Cleaning and Merging"
   ]
  },
  {
   "cell_type": "code",
   "execution_count": 1,
   "metadata": {},
   "outputs": [
    {
     "name": "stderr",
     "output_type": "stream",
     "text": [
      "-- \u001b[1mAttaching packages\u001b[22m --------------------------------------- tidyverse 1.3.0 --\n",
      "\n",
      "\u001b[32mv\u001b[39m \u001b[34mggplot2\u001b[39m 3.3.2     \u001b[32mv\u001b[39m \u001b[34mpurrr  \u001b[39m 0.3.4\n",
      "\u001b[32mv\u001b[39m \u001b[34mtibble \u001b[39m 3.0.1     \u001b[32mv\u001b[39m \u001b[34mdplyr  \u001b[39m 1.0.0\n",
      "\u001b[32mv\u001b[39m \u001b[34mtidyr  \u001b[39m 1.1.0     \u001b[32mv\u001b[39m \u001b[34mstringr\u001b[39m 1.4.0\n",
      "\u001b[32mv\u001b[39m \u001b[34mreadr  \u001b[39m 1.3.1     \u001b[32mv\u001b[39m \u001b[34mforcats\u001b[39m 0.5.0\n",
      "\n",
      "-- \u001b[1mConflicts\u001b[22m ------------------------------------------ tidyverse_conflicts() --\n",
      "\u001b[31mx\u001b[39m \u001b[34mdplyr\u001b[39m::\u001b[32mfilter()\u001b[39m masks \u001b[34mstats\u001b[39m::filter()\n",
      "\u001b[31mx\u001b[39m \u001b[34mdplyr\u001b[39m::\u001b[32mlag()\u001b[39m    masks \u001b[34mstats\u001b[39m::lag()\n",
      "\n"
     ]
    }
   ],
   "source": [
    "library(tidyverse)\n",
    "library(RStoolbox)"
   ]
  },
  {
   "cell_type": "code",
   "execution_count": 1,
   "metadata": {},
   "outputs": [],
   "source": [
    "setwd(\"C:/Users/s1526/Dropbox/EAGLE_Assessments/MB3_Geoinfo\")"
   ]
  },
  {
   "cell_type": "code",
   "execution_count": 2,
   "metadata": {},
   "outputs": [],
   "source": [
    "Chris_path <- file.path(\"Data\", \"Chris_Samples\")\n",
    "Antonio_path <- file.path(\"Data\", \"Collection_Antonio\")\n",
    "Diego_path <- file.path(\"Data\", \"Collection_Diego\")\n",
    "Lui_path <- file.path(\"Data\", \"Luis_FieldSurvey\")\n",
    "Nils_path <- file.path(\"Data\", \"Nils_Point_images\")\n",
    "Jakob_path <- file.path(\"Data\", \"Samples_Jakob\")\n",
    "KM_path <- file.path(\"Data\", \"Samples_KM\")\n",
    "Maurius_path <- file.path(\"Data\", \"Samples_Maurius\")\n",
    "Sofia_path <- file.path(\"Data\", \"Samples_Sofia\")\n",
    "\n",
    "All_path <- c(Chris_path, Antonio_path, Diego_path, Lui_path, Nils_path, Jakob_path, KM_path, Maurius_path, Sofia_path)"
   ]
  },
  {
   "cell_type": "code",
   "execution_count": 8,
   "metadata": {},
   "outputs": [
    {
     "data": {
      "text/html": [],
      "text/latex": [],
      "text/markdown": [],
      "text/plain": [
       "character(0)"
      ]
     },
     "metadata": {},
     "output_type": "display_data"
    }
   ],
   "source": [
    "list.files(All_path[])"
   ]
  },
  {
   "cell_type": "code",
   "execution_count": 11,
   "metadata": {},
   "outputs": [
    {
     "ename": "ERROR",
     "evalue": "Error in All_path %>% grep(\"*.csv*\"): could not find function \"%>%\"\n",
     "output_type": "error",
     "traceback": [
      "Error in All_path %>% grep(\"*.csv*\"): could not find function \"%>%\"\nTraceback:\n"
     ]
    }
   ],
   "source": [
    "csv <- list()\n",
    "\n",
    "csv[] <- All_path %>%\n",
    "            grep(\"*.csv*\")"
   ]
  }
 ],
 "metadata": {
  "kernelspec": {
   "display_name": "R",
   "language": "R",
   "name": "ir"
  },
  "language_info": {
   "codemirror_mode": "r",
   "file_extension": ".r",
   "mimetype": "text/x-r-source",
   "name": "R",
   "pygments_lexer": "r",
   "version": "4.0.2"
  }
 },
 "nbformat": 4,
 "nbformat_minor": 4
}
