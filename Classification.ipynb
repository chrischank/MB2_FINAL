{
 "cells": [
  {
   "cell_type": "markdown",
   "metadata": {},
   "source": [
    "# ML Classification from Stacked NDWI, NDVI, IBI, RGB, NIR, MIR"
   ]
  },
  {
   "cell_type": "code",
   "execution_count": 1,
   "metadata": {},
   "outputs": [
    {
     "name": "stderr",
     "output_type": "stream",
     "text": [
      "-- \u001b[1mAttaching packages\u001b[22m --------------------------------------- tidyverse 1.3.0 --\n",
      "\n",
      "\u001b[32mv\u001b[39m \u001b[34mggplot2\u001b[39m 3.3.2     \u001b[32mv\u001b[39m \u001b[34mpurrr  \u001b[39m 0.3.4\n",
      "\u001b[32mv\u001b[39m \u001b[34mtibble \u001b[39m 3.0.1     \u001b[32mv\u001b[39m \u001b[34mdplyr  \u001b[39m 1.0.0\n",
      "\u001b[32mv\u001b[39m \u001b[34mtidyr  \u001b[39m 1.1.0     \u001b[32mv\u001b[39m \u001b[34mstringr\u001b[39m 1.4.0\n",
      "\u001b[32mv\u001b[39m \u001b[34mreadr  \u001b[39m 1.3.1     \u001b[32mv\u001b[39m \u001b[34mforcats\u001b[39m 0.5.0\n",
      "\n",
      "-- \u001b[1mConflicts\u001b[22m ------------------------------------------ tidyverse_conflicts() --\n",
      "\u001b[31mx\u001b[39m \u001b[34mdplyr\u001b[39m::\u001b[32mfilter()\u001b[39m masks \u001b[34mstats\u001b[39m::filter()\n",
      "\u001b[31mx\u001b[39m \u001b[34mdplyr\u001b[39m::\u001b[32mlag()\u001b[39m    masks \u001b[34mstats\u001b[39m::lag()\n",
      "\n",
      "randomForest 4.6-14\n",
      "\n",
      "Type rfNews() to see new features/changes/bug fixes.\n",
      "\n",
      "\n",
      "Attaching package: 'randomForest'\n",
      "\n",
      "\n",
      "The following object is masked from 'package:dplyr':\n",
      "\n",
      "    combine\n",
      "\n",
      "\n",
      "The following object is masked from 'package:ggplot2':\n",
      "\n",
      "    margin\n",
      "\n",
      "\n",
      "Loading required package: raster\n",
      "\n",
      "\n",
      "Attaching package: 'raster'\n",
      "\n",
      "\n",
      "The following object is masked from 'package:e1071':\n",
      "\n",
      "    interpolate\n",
      "\n",
      "\n",
      "The following object is masked from 'package:dplyr':\n",
      "\n",
      "    select\n",
      "\n",
      "\n",
      "The following object is masked from 'package:tidyr':\n",
      "\n",
      "    extract\n",
      "\n",
      "\n",
      "Loading required package: lattice\n",
      "\n",
      "Loading required package: latticeExtra\n",
      "\n",
      "\n",
      "Attaching package: 'latticeExtra'\n",
      "\n",
      "\n",
      "The following object is masked from 'package:ggplot2':\n",
      "\n",
      "    layer\n",
      "\n",
      "\n",
      "rgdal: version: 1.5-12, (SVN revision 1018)\n",
      "Geospatial Data Abstraction Library extensions to R successfully loaded\n",
      "Loaded GDAL runtime: GDAL 3.0.4, released 2020/01/28\n",
      "Path to GDAL shared files: C:/Users/s1526/OneDrive/Documents/R/win-library/4.0/rgdal/gdal\n",
      "GDAL binary built with GEOS: TRUE \n",
      "Loaded PROJ runtime: Rel. 6.3.1, February 10th, 2020, [PJ_VERSION: 631]\n",
      "Path to PROJ shared files: C:\\ProgramData\\Miniconda3\\Library\\share\\proj\n",
      "Linking to sp version:1.4-2\n",
      "To mute warnings of possible GDAL/OSR exportToProj4() degradation,\n",
      "use options(\"rgdal_show_exportToProj4_warnings\"=\"none\") before loading rgdal.\n",
      "Overwritten PROJ_LIB was C:\\ProgramData\\Miniconda3\\Library\\share\\proj\n",
      "\n",
      "\n",
      "Attaching package: 'geojsonio'\n",
      "\n",
      "\n",
      "The following object is masked from 'package:base':\n",
      "\n",
      "    pretty\n",
      "\n",
      "\n",
      "\n",
      "Attaching package: 'caret'\n",
      "\n",
      "\n",
      "The following object is masked from 'package:purrr':\n",
      "\n",
      "    lift\n",
      "\n",
      "\n",
      "Loading required package: gtools\n",
      "\n",
      "\n",
      "Attaching package: 'gtools'\n",
      "\n",
      "\n",
      "The following object is masked from 'package:e1071':\n",
      "\n",
      "    permutations\n",
      "\n",
      "\n"
     ]
    }
   ],
   "source": [
    "library(RStoolbox)\n",
    "library(sp)\n",
    "library(tidyverse)\n",
    "library(e1071)\n",
    "library(randomForest)\n",
    "library(rasterVis)\n",
    "library(rgdal)\n",
    "library(geojsonio)\n",
    "library(caret)\n",
    "library(ClusterR)\n",
    "library(snow)\n",
    "library(nnet)"
   ]
  },
  {
   "cell_type": "code",
   "execution_count": 2,
   "metadata": {},
   "outputs": [],
   "source": [
    "setwd(\"C:/Users/s1526/Dropbox/EAGLE_Assessments/MB3_Geoinfo/MB3_FINAL/Data\")"
   ]
  },
  {
   "cell_type": "markdown",
   "metadata": {},
   "source": [
    "## Read in raster and vector data"
   ]
  },
  {
   "cell_type": "code",
   "execution_count": 3,
   "metadata": {},
   "outputs": [
    {
     "data": {
      "text/html": [
       "<style>\n",
       ".list-inline {list-style: none; margin:0; padding: 0}\n",
       ".list-inline>li {display: inline-block}\n",
       ".list-inline>li:not(:last-child)::after {content: \"\\00b7\"; padding: 0 .5ex}\n",
       "</style>\n",
       "<ol class=list-inline><li>'Chris_Samples'</li><li>'Collection_Antonio'</li><li>'Collection_Diego'</li><li>'Collection_kevin'</li><li>'Luis_FieldSurvey'</li><li>'Merge_df.csv'</li><li>'Merge_df.dbf'</li><li>'Merge_df.shp'</li><li>'Merge_df.shx'</li><li>'Nils_Point_images'</li><li>'Samples_Jakob'</li><li>'Samples_KM'</li><li>'Samples_Maurius'</li><li>'Samples_Sofia'</li><li>'stack_ROI_indices.tif'</li><li>'Training'</li><li>'Wue_ROI_IBI.tif'</li><li>'Wue_ROI_NDVI.tif'</li><li>'Wue_ROI_NDWI.tif'</li><li>'Wue_ROI_RGB.tif'</li></ol>\n"
      ],
      "text/latex": [
       "\\begin{enumerate*}\n",
       "\\item 'Chris\\_Samples'\n",
       "\\item 'Collection\\_Antonio'\n",
       "\\item 'Collection\\_Diego'\n",
       "\\item 'Collection\\_kevin'\n",
       "\\item 'Luis\\_FieldSurvey'\n",
       "\\item 'Merge\\_df.csv'\n",
       "\\item 'Merge\\_df.dbf'\n",
       "\\item 'Merge\\_df.shp'\n",
       "\\item 'Merge\\_df.shx'\n",
       "\\item 'Nils\\_Point\\_images'\n",
       "\\item 'Samples\\_Jakob'\n",
       "\\item 'Samples\\_KM'\n",
       "\\item 'Samples\\_Maurius'\n",
       "\\item 'Samples\\_Sofia'\n",
       "\\item 'stack\\_ROI\\_indices.tif'\n",
       "\\item 'Training'\n",
       "\\item 'Wue\\_ROI\\_IBI.tif'\n",
       "\\item 'Wue\\_ROI\\_NDVI.tif'\n",
       "\\item 'Wue\\_ROI\\_NDWI.tif'\n",
       "\\item 'Wue\\_ROI\\_RGB.tif'\n",
       "\\end{enumerate*}\n"
      ],
      "text/markdown": [
       "1. 'Chris_Samples'\n",
       "2. 'Collection_Antonio'\n",
       "3. 'Collection_Diego'\n",
       "4. 'Collection_kevin'\n",
       "5. 'Luis_FieldSurvey'\n",
       "6. 'Merge_df.csv'\n",
       "7. 'Merge_df.dbf'\n",
       "8. 'Merge_df.shp'\n",
       "9. 'Merge_df.shx'\n",
       "10. 'Nils_Point_images'\n",
       "11. 'Samples_Jakob'\n",
       "12. 'Samples_KM'\n",
       "13. 'Samples_Maurius'\n",
       "14. 'Samples_Sofia'\n",
       "15. 'stack_ROI_indices.tif'\n",
       "16. 'Training'\n",
       "17. 'Wue_ROI_IBI.tif'\n",
       "18. 'Wue_ROI_NDVI.tif'\n",
       "19. 'Wue_ROI_NDWI.tif'\n",
       "20. 'Wue_ROI_RGB.tif'\n",
       "\n",
       "\n"
      ],
      "text/plain": [
       " [1] \"Chris_Samples\"         \"Collection_Antonio\"    \"Collection_Diego\"     \n",
       " [4] \"Collection_kevin\"      \"Luis_FieldSurvey\"      \"Merge_df.csv\"         \n",
       " [7] \"Merge_df.dbf\"          \"Merge_df.shp\"          \"Merge_df.shx\"         \n",
       "[10] \"Nils_Point_images\"     \"Samples_Jakob\"         \"Samples_KM\"           \n",
       "[13] \"Samples_Maurius\"       \"Samples_Sofia\"         \"stack_ROI_indices.tif\"\n",
       "[16] \"Training\"              \"Wue_ROI_IBI.tif\"       \"Wue_ROI_NDVI.tif\"     \n",
       "[19] \"Wue_ROI_NDWI.tif\"      \"Wue_ROI_RGB.tif\"      "
      ]
     },
     "metadata": {},
     "output_type": "display_data"
    }
   ],
   "source": [
    "list.files()"
   ]
  },
  {
   "cell_type": "code",
   "execution_count": 4,
   "metadata": {},
   "outputs": [
    {
     "name": "stdout",
     "output_type": "stream",
     "text": [
      "OGR data source with driver: ESRI Shapefile \n",
      "Source: \"C:\\Users\\s1526\\Dropbox\\EAGLE_Assessments\\MB3_Geoinfo\\MB3_FINAL\\Data\\Training\", layer: \"Sample_Buffer\"\n",
      "with 202 features\n",
      "It has 7 fields\n"
     ]
    }
   ],
   "source": [
    "ROI_wue_indices <- raster(\"stack_ROI_indices.tif\", layer=8)\n",
    "Sample_buffer <- readOGR(\"C:/Users/s1526/Dropbox/EAGLE_Assessments/MB3_Geoinfo/MB3_FINAL/Data/Training\")"
   ]
  },
  {
   "cell_type": "code",
   "execution_count": 5,
   "metadata": {},
   "outputs": [
    {
     "data": {
      "text/plain": [
       "class      : RasterLayer \n",
       "band       : 1  (of  8  bands)\n",
       "dimensions : 732, 1326, 970632  (nrow, ncol, ncell)\n",
       "resolution : 10, 10  (x, y)\n",
       "extent     : 563520, 576780, 5510400, 5517720  (xmin, xmax, ymin, ymax)\n",
       "crs        : +proj=utm +zone=32 +datum=WGS84 +units=m +no_defs \n",
       "source     : C:/Users/s1526/Dropbox/EAGLE_Assessments/MB3_Geoinfo/MB3_FINAL/Data/stack_ROI_indices.tif \n",
       "names      : stack_ROI_indices \n",
       "values     : 0.284402, 0.9865591  (min, max)\n"
      ]
     },
     "metadata": {},
     "output_type": "display_data"
    }
   ],
   "source": [
    "ROI_wue_indices"
   ]
  },
  {
   "cell_type": "code",
   "execution_count": 6,
   "metadata": {},
   "outputs": [],
   "source": [
    "td <- Sample_buffer"
   ]
  },
  {
   "cell_type": "code",
   "execution_count": 7,
   "metadata": {},
   "outputs": [
    {
     "name": "stderr",
     "output_type": "stream",
     "text": [
      "Warning message in proj4string(x):\n",
      "\"CRS object has comment, which is lost in output\"\n"
     ]
    },
    {
     "data": {
      "application/geo+json": {
       "features": [
        {
         "geometry": {
          "coordinates": [
           [
            [
             569685,
             5515305.0005
            ],
            [
             569685,
             5515245.0005
            ],
            [
             569625,
             5515245.0005
            ],
            [
             569625,
             5515305.0005
            ],
            [
             569685,
             5515305.0005
            ]
           ]
          ],
          "type": "Polygon"
         },
         "properties": {
          "Class": "Built-up",
          "Class_ID": "1",
          "ID": "134",
          "Latitude": "49.78589364",
          "Longitude": "9.967641802",
          "x": 569655,
          "y": 5515275.0005
         },
         "type": "Feature"
        },
        {
         "geometry": {
          "coordinates": [
           [
            [
             568755,
             5515394.9999
            ],
            [
             568755,
             5515334.9999
            ],
            [
             568695,
             5515334.9999
            ],
            [
             568695,
             5515394.9999
            ],
            [
             568755,
             5515394.9999
            ]
           ]
          ],
          "type": "Polygon"
         },
         "properties": {
          "Class": "Built-up",
          "Class_ID": "1",
          "ID": "41",
          "Latitude": "49.78681017",
          "Longitude": "9.954740131",
          "x": 568725,
          "y": 5515364.9999
         },
         "type": "Feature"
        },
        {
         "geometry": {
          "coordinates": [
           [
            [
             569355,
             5515815
            ],
            [
             569355,
             5515755
            ],
            [
             569295,
             5515755
            ],
            [
             569295,
             5515815
            ],
            [
             569355,
             5515815
            ]
           ]
          ],
          "type": "Polygon"
         },
         "properties": {
          "Class": "Built-up",
          "Class_ID": "1",
          "ID": "140",
          "Latitude": "49.79051831",
          "Longitude": "9.963149099",
          "x": 569325,
          "y": 5515785
         },
         "type": "Feature"
        },
        {
         "geometry": {
          "coordinates": [
           [
            [
             568755,
             5515365.0003
            ],
            [
             568755,
             5515305.0003
            ],
            [
             568695,
             5515305.0003
            ],
            [
             568695,
             5515365.0003
            ],
            [
             568755,
             5515365.0003
            ]
           ]
          ],
          "type": "Polygon"
         },
         "properties": {
          "Class": "Built-up",
          "Class_ID": "1",
          "ID": "124",
          "Latitude": "49.78654038",
          "Longitude": "9.954734828",
          "x": 568725,
          "y": 5515335.0003
         },
         "type": "Feature"
        },
        {
         "geometry": {
          "coordinates": [
           [
            [
             569085,
             5515665.0005
            ],
            [
             569085,
             5515605.0005
            ],
            [
             569025,
             5515605.0005
            ],
            [
             569025,
             5515665.0005
            ],
            [
             569085,
             5515665.0005
            ]
           ]
          ],
          "type": "Polygon"
         },
         "properties": {
          "Class": "Built-up",
          "Class_ID": "1",
          "ID": "157",
          "Latitude": "49.78920046",
          "Longitude": "9.959371833",
          "x": 569055,
          "y": 5515635.0005
         },
         "type": "Feature"
        },
        {
         "geometry": {
          "coordinates": [
           [
            [
             568875,
             5515545.0005
            ],
            [
             568875,
             5515485.0005
            ],
            [
             568815,
             5515485.0005
            ],
            [
             568815,
             5515545.0005
            ],
            [
             568875,
             5515545.0005
            ]
           ]
          ],
          "type": "Polygon"
         },
         "properties": {
          "Class": "Built-up",
          "Class_ID": "1",
          "ID": "74",
          "Latitude": "49.7881454",
          "Longitude": "9.95643351",
          "x": 568845,
          "y": 5515515.0005
         },
         "type": "Feature"
        },
        {
         "geometry": {
          "coordinates": [
           [
            [
             569265,
             5515094.9999
            ],
            [
             569265,
             5515034.9999
            ],
            [
             569205,
             5515034.9999
            ],
            [
             569205,
             5515094.9999
            ],
            [
             569265,
             5515094.9999
            ]
           ]
          ],
          "type": "Polygon"
         },
         "properties": {
          "Class": "Built-up",
          "Class_ID": "1",
          "ID": "61",
          "Latitude": "49.78405365",
          "Longitude": "9.961770673",
          "x": 569235,
          "y": 5515064.9999
         },
         "type": "Feature"
        },
        {
         "geometry": {
          "coordinates": [
           [
            [
             569205,
             5515334.9995
            ],
            [
             569205,
             5515274.9995
            ],
            [
             569145,
             5515274.9995
            ],
            [
             569145,
             5515334.9995
            ],
            [
             569205,
             5515334.9995
            ]
           ]
          ],
          "type": "Polygon"
         },
         "properties": {
          "Class": "Built-up",
          "Class_ID": "1",
          "ID": "149",
          "Latitude": "49.78621891",
          "Longitude": "9.960980011",
          "x": 569175,
          "y": 5515304.9995
         },
         "type": "Feature"
        },
        {
         "geometry": {
          "coordinates": [
           [
            [
             569265,
             5515604.9999
            ],
            [
             569265,
             5515544.9999
            ],
            [
             569205,
             5515544.9999
            ],
            [
             569205,
             5515604.9999
            ],
            [
             569265,
             5515604.9999
            ]
           ]
          ],
          "type": "Polygon"
         },
         "properties": {
          "Class": "Built-up",
          "Class_ID": "1",
          "ID": "183",
          "Latitude": "49.78864014",
          "Longitude": "9.961861491",
          "x": 569235,
          "y": 5515574.9999
         },
         "type": "Feature"
        },
        {
         "geometry": {
          "coordinates": [
           [
            [
             569655,
             5515425.0003
            ],
            [
             569655,
             5515365.0003
            ],
            [
             569595,
             5515365.0003
            ],
            [
             569595,
             5515425.0003
            ],
            [
             569655,
             5515425.0003
            ]
           ]
          ],
          "type": "Polygon"
         },
         "properties": {
          "Class": "Built-up",
          "Class_ID": "1",
          "ID": "51",
          "Latitude": "49.78697629",
          "Longitude": "9.967246596",
          "x": 569625,
          "y": 5515395.0003
         },
         "type": "Feature"
        },
        {
         "geometry": {
          "coordinates": [
           [
            [
             568755,
             5515784.9996
            ],
            [
             568755,
             5515724.9996
            ],
            [
             568695,
             5515724.9996
            ],
            [
             568695,
             5515784.9996
            ],
            [
             568755,
             5515784.9996
            ]
           ]
          ],
          "type": "Polygon"
         },
         "properties": {
          "Class": "Built-up",
          "Class_ID": "1",
          "ID": "22",
          "Latitude": "49.79031749",
          "Longitude": "9.954809077",
          "x": 568725,
          "y": 5515754.9996
         },
         "type": "Feature"
        },
        {
         "geometry": {
          "coordinates": [
           [
            [
             569475,
             5515274.9995
            ],
            [
             569475,
             5515214.9995
            ],
            [
             569415,
             5515214.9995
            ],
            [
             569415,
             5515274.9995
            ],
            [
             569475,
             5515274.9995
            ]
           ]
          ],
          "type": "Polygon"
         },
         "properties": {
          "Class": "Built-up",
          "Class_ID": "1",
          "ID": "24",
          "Latitude": "49.78564816",
          "Longitude": "9.964719577",
          "x": 569445,
          "y": 5515244.9995
         },
         "type": "Feature"
        },
        {
         "geometry": {
          "coordinates": [
           [
            [
             568935,
             5515874.9995
            ],
            [
             568935,
             5515814.9995
            ],
            [
             568875,
             5515814.9995
            ],
            [
             568875,
             5515874.9995
            ],
            [
             568935,
             5515874.9995
            ]
           ]
          ],
          "type": "Polygon"
         },
         "properties": {
          "Class": "Built-up",
          "Class_ID": "1",
          "ID": "52",
          "Latitude": "49.79110624",
          "Longitude": "9.957325436",
          "x": 568905,
          "y": 5515844.9995
         },
         "type": "Feature"
        },
        {
         "geometry": {
          "coordinates": [
           [
            [
             568845,
             5515394.9995
            ],
            [
             568845,
             5515334.9995
            ],
            [
             568785,
             5515334.9995
            ],
            [
             568785,
             5515394.9995
            ],
            [
             568845,
             5515394.9995
            ]
           ]
          ],
          "type": "Polygon"
         },
         "properties": {
          "Class": "Built-up",
          "Class_ID": "1",
          "ID": "58",
          "Latitude": "49.78679986",
          "Longitude": "9.955990243",
          "x": 568815,
          "y": 5515364.9995
         },
         "type": "Feature"
        },
        {
         "geometry": {
          "coordinates": [
           [
            [
             568875,
             5515575.0001
            ],
            [
             568875,
             5515515.0001
            ],
            [
             568815,
             5515515.0001
            ],
            [
             568815,
             5515575.0001
            ],
            [
             568875,
             5515575.0001
            ]
           ]
          ],
          "type": "Polygon"
         },
         "properties": {
          "Class": "Built-up",
          "Class_ID": "1",
          "ID": "182",
          "Latitude": "49.78841519",
          "Longitude": "9.956438822",
          "x": 568845,
          "y": 5515545.0001
         },
         "type": "Feature"
        },
        {
         "geometry": {
          "coordinates": [
           [
            [
             569565,
             5515065.0004
            ],
            [
             569565,
             5515005.0004
            ],
            [
             569505,
             5515005.0004
            ],
            [
             569505,
             5515065.0004
            ],
            [
             569565,
             5515065.0004
            ]
           ]
          ],
          "type": "Polygon"
         },
         "properties": {
          "Class": "Built-up",
          "Class_ID": "1",
          "ID": "39",
          "Latitude": "49.7837492",
          "Longitude": "9.965932102",
          "x": 569535,
          "y": 5515035.0004
         },
         "type": "Feature"
        },
        {
         "geometry": {
          "coordinates": [
           [
            [
             569385,
             5515154.9998
            ],
            [
             569385,
             5515094.9998
            ],
            [
             569325,
             5515094.9998
            ],
            [
             569325,
             5515154.9998
            ],
            [
             569385,
             5515154.9998
            ]
           ]
          ],
          "type": "Polygon"
         },
         "properties": {
          "Class": "Built-up",
          "Class_ID": "1",
          "ID": "53",
          "Latitude": "49.78457939",
          "Longitude": "9.963448093",
          "x": 569355,
          "y": 5515124.9998
         },
         "type": "Feature"
        },
        {
         "geometry": {
          "coordinates": [
           [
            [
             569055,
             5515665.0005
            ],
            [
             569055,
             5515605.0005
            ],
            [
             568995,
             5515605.0005
            ],
            [
             568995,
             5515665.0005
            ],
            [
             569055,
             5515665.0005
            ]
           ]
          ],
          "type": "Polygon"
         },
         "properties": {
          "Class": "Built-up",
          "Class_ID": "1",
          "ID": "127",
          "Latitude": "49.78920391",
          "Longitude": "9.958955108",
          "x": 569025,
          "y": 5515635.0005
         },
         "type": "Feature"
        },
        {
         "geometry": {
          "coordinates": [
           [
            [
             569505,
             5515215.0003
            ],
            [
             569505,
             5515155.0003
            ],
            [
             569445,
             5515155.0003
            ],
            [
             569445,
             5515215.0003
            ],
            [
             569505,
             5515215.0003
            ]
           ]
          ],
          "type": "Polygon"
         },
         "properties": {
          "Class": "Grassland",
          "Class_ID": "3",
          "ID": "176",
          "Latitude": "49.78510511",
          "Longitude": "9.965125549",
          "x": 569475,
          "y": 5515185.0003
         },
         "type": "Feature"
        },
        {
         "geometry": {
          "coordinates": [
           [
            [
             568755,
             5515784.9996
            ],
            [
             568755,
             5515724.9996
            ],
            [
             568695,
             5515724.9996
            ],
            [
             568695,
             5515784.9996
            ],
            [
             568755,
             5515784.9996
            ]
           ]
          ],
          "type": "Polygon"
         },
         "properties": {
          "Class": "Built-up",
          "Class_ID": "1",
          "ID": "109",
          "Latitude": "49.79031749",
          "Longitude": "9.954809077",
          "x": 568725,
          "y": 5515754.9996
         },
         "type": "Feature"
        },
        {
         "geometry": {
          "coordinates": [
           [
            [
             569654.9815,
             5514015.4448
            ],
            [
             569654.9815,
             5513955.4448
            ],
            [
             569594.9815,
             5513955.4448
            ],
            [
             569594.9815,
             5514015.4448
            ],
            [
             569654.9815,
             5514015.4448
            ]
           ]
          ],
          "type": "Polygon"
         },
         "properties": {
          "Class": "Grassland",
          "Class_ID": "3",
          "ID": "17",
          "Latitude": "49.7743",
          "Longitude": "9.966994",
          "x": 569624.9815,
          "y": 5513985.4448
         },
         "type": "Feature"
        },
        {
         "geometry": {
          "coordinates": [
           [
            [
             569871.5675,
             5514396.3074
            ],
            [
             569871.5675,
             5514336.3074
            ],
            [
             569811.5675,
             5514336.3074
            ],
            [
             569811.5675,
             5514396.3074
            ],
            [
             569871.5675,
             5514396.3074
            ]
           ]
          ],
          "type": "Polygon"
         },
         "properties": {
          "Class": "Grassland",
          "Class_ID": "3",
          "ID": "18",
          "Latitude": "49.7777",
          "Longitude": "9.97007",
          "x": 569841.5675,
          "y": 5514366.3074
         },
         "type": "Feature"
        },
        {
         "geometry": {
          "coordinates": [
           [
            [
             569654.9969,
             5514254.5166
            ],
            [
             569654.9969,
             5514194.5166
            ],
            [
             569594.9969,
             5514194.5166
            ],
            [
             569594.9969,
             5514254.5166
            ],
            [
             569654.9969,
             5514254.5166
            ]
           ]
          ],
          "type": "Polygon"
         },
         "properties": {
          "Class": "Agriculture",
          "Class_ID": "5",
          "ID": "29",
          "Latitude": "49.77645",
          "Longitude": "9.967037",
          "x": 569624.9969,
          "y": 5514224.5166
         },
         "type": "Feature"
        },
        {
         "geometry": {
          "coordinates": [
           [
            [
             569318.1239,
             5514036.6892
            ],
            [
             569318.1239,
             5513976.6892
            ],
            [
             569258.1239,
             5513976.6892
            ],
            [
             569258.1239,
             5514036.6892
            ],
            [
             569318.1239,
             5514036.6892
            ]
           ]
          ],
          "type": "Polygon"
         },
         "properties": {
          "Class": "Trees",
          "Class_ID": "2",
          "ID": "54",
          "Latitude": "49.77453",
          "Longitude": "9.96232",
          "x": 569288.1239,
          "y": 5514006.6892
         },
         "type": "Feature"
        },
        {
         "geometry": {
          "coordinates": [
           [
            [
             569924.9762,
             5514614.9429
            ],
            [
             569924.9762,
             5514554.9429
            ],
            [
             569864.9762,
             5514554.9429
            ],
            [
             569864.9762,
             5514614.9429
            ],
            [
             569924.9762,
             5514614.9429
            ]
           ]
          ],
          "type": "Polygon"
         },
         "properties": {
          "Class": "Built-up",
          "Class_ID": "1",
          "ID": "56",
          "Latitude": "49.77966",
          "Longitude": "9.970851",
          "x": 569894.9762,
          "y": 5514584.9429
         },
         "type": "Feature"
        },
        {
         "geometry": {
          "coordinates": [
           [
            [
             569318.1239,
             5514036.6892
            ],
            [
             569318.1239,
             5513976.6892
            ],
            [
             569258.1239,
             5513976.6892
            ],
            [
             569258.1239,
             5514036.6892
            ],
            [
             569318.1239,
             5514036.6892
            ]
           ]
          ],
          "type": "Polygon"
         },
         "properties": {
          "Class": "Grassland",
          "Class_ID": "3",
          "ID": "95",
          "Latitude": "49.77453",
          "Longitude": "9.96232",
          "x": 569288.1239,
          "y": 5514006.6892
         },
         "type": "Feature"
        },
        {
         "geometry": {
          "coordinates": [
           [
            [
             569955.0118,
             5514675.3776
            ],
            [
             569955.0118,
             5514615.3776
            ],
            [
             569895.0118,
             5514615.3776
            ],
            [
             569895.0118,
             5514675.3776
            ],
            [
             569955.0118,
             5514675.3776
            ]
           ]
          ],
          "type": "Polygon"
         },
         "properties": {
          "Class": "Built-up",
          "Class_ID": "1",
          "ID": "98",
          "Latitude": "49.7802",
          "Longitude": "9.971279",
          "x": 569925.0118,
          "y": 5514645.3776
         },
         "type": "Feature"
        },
        {
         "geometry": {
          "coordinates": [
           [
            [
             569205.0256,
             5514225.3849
            ],
            [
             569205.0256,
             5514165.3849
            ],
            [
             569145.0256,
             5514165.3849
            ],
            [
             569145.0256,
             5514225.3849
            ],
            [
             569205.0256,
             5514225.3849
            ]
           ]
          ],
          "type": "Polygon"
         },
         "properties": {
          "Class": "Built-up",
          "Class_ID": "1",
          "ID": "106",
          "Latitude": "49.77624",
          "Longitude": "9.960783",
          "x": 569175.0256,
          "y": 5514195.3849
         },
         "type": "Feature"
        },
        {
         "geometry": {
          "coordinates": [
           [
            [
             569144.9797,
             5514224.6164
            ],
            [
             569144.9797,
             5514164.6164
            ],
            [
             569084.9797,
             5514164.6164
            ],
            [
             569084.9797,
             5514224.6164
            ],
            [
             569144.9797,
             5514224.6164
            ]
           ]
          ],
          "type": "Polygon"
         },
         "properties": {
          "Class": "Trees",
          "Class_ID": "2",
          "ID": "112",
          "Latitude": "49.77624",
          "Longitude": "9.959949",
          "x": 569114.9797,
          "y": 5514194.6164
         },
         "type": "Feature"
        },
        {
         "geometry": {
          "coordinates": [
           [
            [
             569909.3436,
             5513980.922
            ],
            [
             569909.3436,
             5513920.922
            ],
            [
             569849.3436,
             5513920.922
            ],
            [
             569849.3436,
             5513980.922
            ],
            [
             569909.3436,
             5513980.922
            ]
           ]
          ],
          "type": "Polygon"
         },
         "properties": {
          "Class": "Grassland",
          "Class_ID": "3",
          "ID": "118",
          "Latitude": "49.77396",
          "Longitude": "9.97052",
          "x": 569879.3436,
          "y": 5513950.922
         },
         "type": "Feature"
        },
        {
         "geometry": {
          "coordinates": [
           [
            [
             569625.0027,
             5514045.0814
            ],
            [
             569625.0027,
             5513985.0814
            ],
            [
             569565.0027,
             5513985.0814
            ],
            [
             569565.0027,
             5514045.0814
            ],
            [
             569625.0027,
             5514045.0814
            ]
           ]
          ],
          "type": "Polygon"
         },
         "properties": {
          "Class": "Vineyards",
          "Class_ID": "4",
          "ID": "125",
          "Latitude": "49.77457",
          "Longitude": "9.966583",
          "x": 569595.0027,
          "y": 5514015.0814
         },
         "type": "Feature"
        },
        {
         "geometry": {
          "coordinates": [
           [
            [
             569918.9821,
             5514293.5081
            ],
            [
             569918.9821,
             5514233.5081
            ],
            [
             569858.9821,
             5514233.5081
            ],
            [
             569858.9821,
             5514293.5081
            ],
            [
             569918.9821,
             5514293.5081
            ]
           ]
          ],
          "type": "Polygon"
         },
         "properties": {
          "Class": "Built-up",
          "Class_ID": "1",
          "ID": "131",
          "Latitude": "49.77677",
          "Longitude": "9.97071",
          "x": 569888.9821,
          "y": 5514263.5081
         },
         "type": "Feature"
        },
        {
         "geometry": {
          "coordinates": [
           [
            [
             569318.1239,
             5514036.6892
            ],
            [
             569318.1239,
             5513976.6892
            ],
            [
             569258.1239,
             5513976.6892
            ],
            [
             569258.1239,
             5514036.6892
            ],
            [
             569318.1239,
             5514036.6892
            ]
           ]
          ],
          "type": "Polygon"
         },
         "properties": {
          "Class": "Grassland",
          "Class_ID": "3",
          "ID": "146",
          "Latitude": "49.77453",
          "Longitude": "9.96232",
          "x": 569288.1239,
          "y": 5514006.6892
         },
         "type": "Feature"
        },
        {
         "geometry": {
          "coordinates": [
           [
            [
             569871.5675,
             5514396.3074
            ],
            [
             569871.5675,
             5514336.3074
            ],
            [
             569811.5675,
             5514336.3074
            ],
            [
             569811.5675,
             5514396.3074
            ],
            [
             569871.5675,
             5514396.3074
            ]
           ]
          ],
          "type": "Polygon"
         },
         "properties": {
          "Class": "Grassland",
          "Class_ID": "3",
          "ID": "151",
          "Latitude": "49.7777",
          "Longitude": "9.97007",
          "x": 569841.5675,
          "y": 5514366.3074
         },
         "type": "Feature"
        },
        {
         "geometry": {
          "coordinates": [
           [
            [
             569909.3436,
             5513980.922
            ],
            [
             569909.3436,
             5513920.922
            ],
            [
             569849.3436,
             5513920.922
            ],
            [
             569849.3436,
             5513980.922
            ],
            [
             569909.3436,
             5513980.922
            ]
           ]
          ],
          "type": "Polygon"
         },
         "properties": {
          "Class": "Grassland",
          "Class_ID": "3",
          "ID": "159",
          "Latitude": "49.77396",
          "Longitude": "9.97052",
          "x": 569879.3436,
          "y": 5513950.922
         },
         "type": "Feature"
        },
        {
         "geometry": {
          "coordinates": [
           [
            [
             569858.1065,
             5513933.5572
            ],
            [
             569858.1065,
             5513873.5572
            ],
            [
             569798.1065,
             5513873.5572
            ],
            [
             569798.1065,
             5513933.5572
            ],
            [
             569858.1065,
             5513933.5572
            ]
           ]
          ],
          "type": "Polygon"
         },
         "properties": {
          "Class": "Grassland",
          "Class_ID": "3",
          "ID": "164",
          "Latitude": "49.77354",
          "Longitude": "9.9698",
          "x": 569828.1065,
          "y": 5513903.5572
         },
         "type": "Feature"
        },
        {
         "geometry": {
          "coordinates": [
           [
            [
             569688.099,
             5514217.1366
            ],
            [
             569688.099,
             5514157.1366
            ],
            [
             569628.099,
             5514157.1366
            ],
            [
             569628.099,
             5514217.1366
            ],
            [
             569688.099,
             5514217.1366
            ]
           ]
          ],
          "type": "Polygon"
         },
         "properties": {
          "Class": "Built-up",
          "Class_ID": "1",
          "ID": "174",
          "Latitude": "49.77611",
          "Longitude": "9.96749",
          "x": 569658.099,
          "y": 5514187.1366
         },
         "type": "Feature"
        },
        {
         "geometry": {
          "coordinates": [
           [
            [
             569991.7993,
             5514119.8725
            ],
            [
             569991.7993,
             5514059.8725
            ],
            [
             569931.7993,
             5514059.8725
            ],
            [
             569931.7993,
             5514119.8725
            ],
            [
             569991.7993,
             5514119.8725
            ]
           ]
          ],
          "type": "Polygon"
         },
         "properties": {
          "Class": "Grassland",
          "Class_ID": "3",
          "ID": "185",
          "Latitude": "49.7752",
          "Longitude": "9.97169",
          "x": 569961.7993,
          "y": 5514089.8725
         },
         "type": "Feature"
        },
        {
         "geometry": {
          "coordinates": [
           [
            [
             570283.3371,
             5514404.9826
            ],
            [
             570283.3371,
             5514344.9826
            ],
            [
             570223.3371,
             5514344.9826
            ],
            [
             570223.3371,
             5514404.9826
            ],
            [
             570283.3371,
             5514404.9826
            ]
           ]
          ],
          "type": "Polygon"
         },
         "properties": {
          "Class": "Agriculture",
          "Class_ID": "5",
          "ID": "187",
          "Latitude": "49.77773",
          "Longitude": "9.97579",
          "x": 570253.3371,
          "y": 5514374.9826
         },
         "type": "Feature"
        },
        {
         "geometry": {
          "coordinates": [
           [
            [
             569331.4478,
             5513952.3512
            ],
            [
             569331.4478,
             5513892.3512
            ],
            [
             569271.4478,
             5513892.3512
            ],
            [
             569271.4478,
             5513952.3512
            ],
            [
             569331.4478,
             5513952.3512
            ]
           ]
          ],
          "type": "Polygon"
         },
         "properties": {
          "Class": "Vineyards",
          "Class_ID": "4",
          "ID": "191",
          "Latitude": "49.77377",
          "Longitude": "9.96249",
          "x": 569301.4478,
          "y": 5513922.3512
         },
         "type": "Feature"
        },
        {
         "geometry": {
          "coordinates": [
           [
            [
             568935,
             5513655.0004
            ],
            [
             568935,
             5513595.0004
            ],
            [
             568875,
             5513595.0004
            ],
            [
             568875,
             5513655.0004
            ],
            [
             568935,
             5513655.0004
            ]
           ]
          ],
          "type": "Polygon"
         },
         "properties": {
          "Class": "Build-up",
          "Class_ID": "1",
          "ID": "7",
          "Latitude": "49.77114148",
          "Longitude": "9.956932109",
          "x": 568905,
          "y": 5513625.0004
         },
         "type": "Feature"
        },
        {
         "geometry": {
          "coordinates": [
           [
            [
             568785,
             5513744.9994
            ],
            [
             568785,
             5513684.9994
            ],
            [
             568725,
             5513684.9994
            ],
            [
             568725,
             5513744.9994
            ],
            [
             568785,
             5513744.9994
            ]
           ]
          ],
          "type": "Polygon"
         },
         "properties": {
          "Class": "Build-up",
          "Class_ID": "1",
          "ID": "23",
          "Latitude": "49.77196804",
          "Longitude": "9.954865162",
          "x": 568755,
          "y": 5513714.9994
         },
         "type": "Feature"
        },
        {
         "geometry": {
          "coordinates": [
           [
            [
             569655,
             5513685.0004
            ],
            [
             569655,
             5513625.0004
            ],
            [
             569595,
             5513625.0004
            ],
            [
             569595,
             5513685.0004
            ],
            [
             569655,
             5513685.0004
            ]
           ]
          ],
          "type": "Polygon"
         },
         "properties": {
          "Class": "Vineyards",
          "Class_ID": "4",
          "ID": "26",
          "Latitude": "49.77132827",
          "Longitude": "9.966935127",
          "x": 569625,
          "y": 5513655.0004
         },
         "type": "Feature"
        },
        {
         "geometry": {
          "coordinates": [
           [
            [
             568785,
             5513625.0005
            ],
            [
             568785,
             5513565.0005
            ],
            [
             568725,
             5513565.0005
            ],
            [
             568725,
             5513625.0005
            ],
            [
             568785,
             5513625.0005
            ]
           ]
          ],
          "type": "Polygon"
         },
         "properties": {
          "Class": "Vineyards",
          "Class_ID": "4",
          "ID": "27",
          "Latitude": "49.77088887",
          "Longitude": "9.954843959",
          "x": 568755,
          "y": 5513595.0005
         },
         "type": "Feature"
        },
        {
         "geometry": {
          "coordinates": [
           [
            [
             568815,
             5513684.9998
            ],
            [
             568815,
             5513624.9998
            ],
            [
             568755,
             5513624.9998
            ],
            [
             568755,
             5513684.9998
            ],
            [
             568815,
             5513684.9998
            ]
           ]
          ],
          "type": "Polygon"
         },
         "properties": {
          "Class": "Build-up",
          "Class_ID": "1",
          "ID": "35",
          "Latitude": "49.77142502",
          "Longitude": "9.955271133",
          "x": 568785,
          "y": 5513654.9998
         },
         "type": "Feature"
        },
        {
         "geometry": {
          "coordinates": [
           [
            [
             569655,
             5513714.9999
            ],
            [
             569655,
             5513654.9999
            ],
            [
             569595,
             5513654.9999
            ],
            [
             569595,
             5513714.9999
            ],
            [
             569655,
             5513714.9999
            ]
           ]
          ],
          "type": "Polygon"
         },
         "properties": {
          "Class": "Vineyards",
          "Class_ID": "4",
          "ID": "73",
          "Latitude": "49.77159806",
          "Longitude": "9.966940494",
          "x": 569625,
          "y": 5513684.9999
         },
         "type": "Feature"
        },
        {
         "geometry": {
          "coordinates": [
           [
            [
             569685,
             5513474.9997
            ],
            [
             569685,
             5513414.9997
            ],
            [
             569625,
             5513414.9997
            ],
            [
             569625,
             5513474.9997
            ],
            [
             569685,
             5513474.9997
            ]
           ]
          ],
          "type": "Polygon"
         },
         "properties": {
          "Class": "Agriculture",
          "Class_ID": "5",
          "ID": "78",
          "Latitude": "49.76943623",
          "Longitude": "9.967314108",
          "x": 569655,
          "y": 5513444.9997
         },
         "type": "Feature"
        },
        {
         "geometry": {
          "coordinates": [
           [
            [
             568905,
             5513805
            ],
            [
             568905,
             5513745
            ],
            [
             568845,
             5513745
            ],
            [
             568845,
             5513805
            ],
            [
             568905,
             5513805
            ]
           ]
          ],
          "type": "Polygon"
         },
         "properties": {
          "Class": "Build-up",
          "Class_ID": "1",
          "ID": "79",
          "Latitude": "49.77249389",
          "Longitude": "9.95654209",
          "x": 568875,
          "y": 5513775
         },
         "type": "Feature"
        },
        {
         "geometry": {
          "coordinates": [
           [
            [
             569955,
             5513685.0003
            ],
            [
             569955,
             5513625.0003
            ],
            [
             569895,
             5513625.0003
            ],
            [
             569895,
             5513685.0003
            ],
            [
             569955,
             5513685.0003
            ]
           ]
          ],
          "type": "Polygon"
         },
         "properties": {
          "Class": "Agriculture",
          "Class_ID": "5",
          "ID": "81",
          "Latitude": "49.77129343",
          "Longitude": "9.971100823",
          "x": 569925,
          "y": 5513655.0003
         },
         "type": "Feature"
        },
        {
         "geometry": {
          "coordinates": [
           [
            [
             569715,
             5513684.9999
            ],
            [
             569715,
             5513624.9999
            ],
            [
             569655,
             5513624.9999
            ],
            [
             569655,
             5513684.9999
            ],
            [
             569715,
             5513684.9999
            ]
           ]
          ],
          "type": "Polygon"
         },
         "properties": {
          "Class": "Agriculture",
          "Class_ID": "5",
          "ID": "89",
          "Latitude": "49.77132131",
          "Longitude": "9.967768267",
          "x": 569685,
          "y": 5513654.9999
         },
         "type": "Feature"
        },
        {
         "geometry": {
          "coordinates": [
           [
            [
             569985,
             5513264.9995
            ],
            [
             569985,
             5513204.9995
            ],
            [
             569925,
             5513204.9995
            ],
            [
             569925,
             5513264.9995
            ],
            [
             569985,
             5513264.9995
            ]
           ]
          ],
          "type": "Polygon"
         },
         "properties": {
          "Class": "Vineyards",
          "Class_ID": "4",
          "ID": "103",
          "Latitude": "49.76751282",
          "Longitude": "9.971441895",
          "x": 569955,
          "y": 5513234.9995
         },
         "type": "Feature"
        },
        {
         "geometry": {
          "coordinates": [
           [
            [
             568995,
             5513505
            ],
            [
             568995,
             5513445
            ],
            [
             568935,
             5513445
            ],
            [
             568935,
             5513505
            ],
            [
             568995,
             5513505
            ]
           ]
          ],
          "type": "Polygon"
         },
         "properties": {
          "Class": "Vineyards",
          "Class_ID": "4",
          "ID": "105",
          "Latitude": "49.76978562",
          "Longitude": "9.957738665",
          "x": 568965,
          "y": 5513475
         },
         "type": "Feature"
        },
        {
         "geometry": {
          "coordinates": [
           [
            [
             568755,
             5514044.9995
            ],
            [
             568755,
             5513984.9995
            ],
            [
             568695,
             5513984.9995
            ],
            [
             568695,
             5514044.9995
            ],
            [
             568755,
             5514044.9995
            ]
           ]
          ],
          "type": "Polygon"
         },
         "properties": {
          "Class": "Build-up",
          "Class_ID": "1",
          "ID": "107",
          "Latitude": "49.77466942",
          "Longitude": "9.954501575",
          "x": 568725,
          "y": 5514014.9995
         },
         "type": "Feature"
        },
        {
         "geometry": {
          "coordinates": [
           [
            [
             569235,
             5513655.0004
            ],
            [
             569235,
             5513595.0004
            ],
            [
             569175,
             5513595.0004
            ],
            [
             569175,
             5513655.0004
            ],
            [
             569235,
             5513655.0004
            ]
           ]
          ],
          "type": "Polygon"
         },
         "properties": {
          "Class": "Vineyards",
          "Class_ID": "4",
          "ID": "165",
          "Latitude": "49.771107",
          "Longitude": "9.961097802",
          "x": 569205,
          "y": 5513625.0004
         },
         "type": "Feature"
        },
        {
         "geometry": {
          "coordinates": [
           [
            [
             568815,
             5513715.0004
            ],
            [
             568815,
             5513655.0004
            ],
            [
             568755,
             5513655.0004
            ],
            [
             568755,
             5513715.0004
            ],
            [
             568815,
             5513715.0004
            ]
           ]
          ],
          "type": "Polygon"
         },
         "properties": {
          "Class": "Build-up",
          "Class_ID": "1",
          "ID": "175",
          "Latitude": "49.77169482",
          "Longitude": "9.955276436",
          "x": 568785,
          "y": 5513685.0004
         },
         "type": "Feature"
        },
        {
         "geometry": {
          "coordinates": [
           [
            [
             568875,
             5513985.0005
            ],
            [
             568875,
             5513925.0005
            ],
            [
             568815,
             5513925.0005
            ],
            [
             568815,
             5513985.0005
            ],
            [
             568875,
             5513985.0005
            ]
           ]
          ],
          "type": "Polygon"
         },
         "properties": {
          "Class": "Build-up",
          "Class_ID": "1",
          "ID": "178",
          "Latitude": "49.7741161",
          "Longitude": "9.956157358",
          "x": 568845,
          "y": 5513955.0005
         },
         "type": "Feature"
        },
        {
         "geometry": {
          "coordinates": [
           [
            [
             569415,
             5513714.9995
            ],
            [
             569415,
             5513654.9995
            ],
            [
             569355,
             5513654.9995
            ],
            [
             569355,
             5513714.9995
            ],
            [
             569415,
             5513714.9995
            ]
           ]
          ],
          "type": "Polygon"
         },
         "properties": {
          "Class": "Trees",
          "Class_ID": "2",
          "ID": "180",
          "Latitude": "49.77162582",
          "Longitude": "9.963607913",
          "x": 569385,
          "y": 5513684.9995
         },
         "type": "Feature"
        },
        {
         "geometry": {
          "coordinates": [
           [
            [
             569055,
             5513625.0002
            ],
            [
             569055,
             5513565.0002
            ],
            [
             568995,
             5513565.0002
            ],
            [
             568995,
             5513625.0002
            ],
            [
             569055,
             5513625.0002
            ]
           ]
          ],
          "type": "Polygon"
         },
         "properties": {
          "Class": "Trees",
          "Class_ID": "2",
          "ID": "189",
          "Latitude": "49.77085791",
          "Longitude": "9.958593066",
          "x": 569025,
          "y": 5513595.0002
         },
         "type": "Feature"
        },
        {
         "geometry": {
          "coordinates": [
           [
            [
             568845,
             5513924.9996
            ],
            [
             568845,
             5513864.9996
            ],
            [
             568785,
             5513864.9996
            ],
            [
             568785,
             5513924.9996
            ],
            [
             568845,
             5513924.9996
            ]
           ]
          ],
          "type": "Polygon"
         },
         "properties": {
          "Class": "Build-up",
          "Class_ID": "1",
          "ID": "197",
          "Latitude": "49.77357994",
          "Longitude": "9.955730151",
          "x": 568815,
          "y": 5513894.9996
         },
         "type": "Feature"
        },
        {
         "geometry": {
          "coordinates": [
           [
            [
             570015,
             5513385.0005
            ],
            [
             570015,
             5513325.0005
            ],
            [
             569955,
             5513325.0005
            ],
            [
             569955,
             5513385.0005
            ],
            [
             570015,
             5513385.0005
            ]
           ]
          ],
          "type": "Polygon"
         },
         "properties": {
          "Class": "Vineyards",
          "Class_ID": "4",
          "ID": "198",
          "Latitude": "49.76858851",
          "Longitude": "9.97188001",
          "x": 569985,
          "y": 5513355.0005
         },
         "type": "Feature"
        },
        {
         "geometry": {
          "coordinates": [
           [
            [
             568815,
             5512695.0003
            ],
            [
             568815,
             5512635.0003
            ],
            [
             568755,
             5512635.0003
            ],
            [
             568755,
             5512695.0003
            ],
            [
             568815,
             5512695.0003
            ]
           ]
          ],
          "type": "Polygon"
         },
         "properties": {
          "Class": "Built-up",
          "Class_ID": "1",
          "ID": "8",
          "Latitude": "49.76252179",
          "Longitude": "9.955096174",
          "x": 568785,
          "y": 5512665.0003
         },
         "type": "Feature"
        },
        {
         "geometry": {
          "coordinates": [
           [
            [
             569235,
             5513115.0003
            ],
            [
             569235,
             5513055.0003
            ],
            [
             569175,
             5513055.0003
            ],
            [
             569175,
             5513115.0003
            ],
            [
             569235,
             5513115.0003
            ]
           ]
          ],
          "type": "Polygon"
         },
         "properties": {
          "Class": "Grassland",
          "Class_ID": "3",
          "ID": "10",
          "Latitude": "49.7662507",
          "Longitude": "9.961001778",
          "x": 569205,
          "y": 5513085.0003
         },
         "type": "Feature"
        },
        {
         "geometry": {
          "coordinates": [
           [
            [
             568935,
             5512874.9998
            ],
            [
             568935,
             5512814.9998
            ],
            [
             568875,
             5512814.9998
            ],
            [
             568875,
             5512874.9998
            ],
            [
             568935,
             5512874.9998
            ]
           ]
          ],
          "type": "Polygon"
         },
         "properties": {
          "Class": "tree",
          "Class_ID": "2",
          "ID": "12",
          "Latitude": "49.76412681",
          "Longitude": "9.956794018",
          "x": 568905,
          "y": 5512844.9998
         },
         "type": "Feature"
        },
        {
         "geometry": {
          "coordinates": [
           [
            [
             568815,
             5513384.9996
            ],
            [
             568815,
             5513324.9996
            ],
            [
             568755,
             5513324.9996
            ],
            [
             568755,
             5513384.9996
            ],
            [
             568815,
             5513384.9996
            ]
           ]
          ],
          "type": "Polygon"
         },
         "properties": {
          "Class": "vineyard",
          "Class_ID": "4",
          "ID": "20",
          "Latitude": "49.76872707",
          "Longitude": "9.955218106",
          "x": 568785,
          "y": 5513354.9996
         },
         "type": "Feature"
        },
        {
         "geometry": {
          "coordinates": [
           [
            [
             568845,
             5513114.9995
            ],
            [
             568845,
             5513054.9995
            ],
            [
             568785,
             5513054.9995
            ],
            [
             568785,
             5513114.9995
            ],
            [
             568845,
             5513114.9995
            ]
           ]
          ],
          "type": "Polygon"
         },
         "properties": {
          "Class": "tree",
          "Class_ID": "2",
          "ID": "21",
          "Latitude": "49.76629548",
          "Longitude": "9.955586917",
          "x": 568815,
          "y": 5513084.9995
         },
         "type": "Feature"
        },
        {
         "geometry": {
          "coordinates": [
           [
            [
             569175,
             5513145.0002
            ],
            [
             569175,
             5513085.0002
            ],
            [
             569115,
             5513085.0002
            ],
            [
             569115,
             5513145.0002
            ],
            [
             569175,
             5513145.0002
            ]
           ]
          ],
          "type": "Polygon"
         },
         "properties": {
          "Class": "Built-up",
          "Class_ID": "1",
          "ID": "37",
          "Latitude": "49.7665274",
          "Longitude": "9.960174053",
          "x": 569145,
          "y": 5513115.0002
         },
         "type": "Feature"
        },
        {
         "geometry": {
          "coordinates": [
           [
            [
             569715,
             5513234.9997
            ],
            [
             569715,
             5513174.9997
            ],
            [
             569655,
             5513174.9997
            ],
            [
             569655,
             5513234.9997
            ],
            [
             569715,
             5513234.9997
            ]
           ]
          ],
          "type": "Polygon"
         },
         "properties": {
          "Class": "vineyard",
          "Class_ID": "4",
          "ID": "69",
          "Latitude": "49.7672744",
          "Longitude": "9.967687689",
          "x": 569685,
          "y": 5513204.9997
         },
         "type": "Feature"
        },
        {
         "geometry": {
          "coordinates": [
           [
            [
             569205,
             5513324.9997
            ],
            [
             569205,
             5513264.9997
            ],
            [
             569145,
             5513264.9997
            ],
            [
             569145,
             5513324.9997
            ],
            [
             569205,
             5513324.9997
            ]
           ]
          ],
          "type": "Polygon"
         },
         "properties": {
          "Class": "Built-up",
          "Class_ID": "1",
          "ID": "76",
          "Latitude": "49.76814271",
          "Longitude": "9.960622574",
          "x": 569175,
          "y": 5513294.9997
         },
         "type": "Feature"
        },
        {
         "geometry": {
          "coordinates": [
           [
            [
             568965,
             5512934.9999
            ],
            [
             568965,
             5512874.9999
            ],
            [
             568905,
             5512874.9999
            ],
            [
             568905,
             5512934.9999
            ],
            [
             568965,
             5512934.9999
            ]
           ]
          ],
          "type": "Polygon"
         },
         "properties": {
          "Class": "water",
          "Class_ID": "6",
          "ID": "77",
          "Latitude": "49.76466296",
          "Longitude": "9.957221152",
          "x": 568935,
          "y": 5512904.9999
         },
         "type": "Feature"
        },
        {
         "geometry": {
          "coordinates": [
           [
            [
             569115,
             5513174.9996
            ],
            [
             569115,
             5513114.9996
            ],
            [
             569055,
             5513114.9996
            ],
            [
             569055,
             5513174.9996
            ],
            [
             569115,
             5513174.9996
            ]
           ]
          ],
          "type": "Polygon"
         },
         "properties": {
          "Class": "Grassland",
          "Class_ID": "3",
          "ID": "80",
          "Latitude": "49.76680409",
          "Longitude": "9.959346318",
          "x": 569085,
          "y": 5513144.9996
         },
         "type": "Feature"
        },
        {
         "geometry": {
          "coordinates": [
           [
            [
             569145,
             5512964.9998
            ],
            [
             569145,
             5512904.9998
            ],
            [
             569085,
             5512904.9998
            ],
            [
             569085,
             5512964.9998
            ],
            [
             569145,
             5512964.9998
            ]
           ]
          ],
          "type": "Polygon"
         },
         "properties": {
          "Class": "Built-up",
          "Class_ID": "1",
          "ID": "99",
          "Latitude": "49.76491208",
          "Longitude": "9.959725562",
          "x": 569115,
          "y": 5512934.9998
         },
         "type": "Feature"
        },
        {
         "geometry": {
          "coordinates": [
           [
            [
             569205,
             5512664.9999
            ],
            [
             569205,
             5512604.9999
            ],
            [
             569145,
             5512604.9999
            ],
            [
             569145,
             5512664.9999
            ],
            [
             569205,
             5512664.9999
            ]
           ]
          ],
          "type": "Polygon"
         },
         "properties": {
          "Class": "Built-up",
          "Class_ID": "1",
          "ID": "102",
          "Latitude": "49.76220723",
          "Longitude": "9.960505286",
          "x": 569175,
          "y": 5512634.9999
         },
         "type": "Feature"
        },
        {
         "geometry": {
          "coordinates": [
           [
            [
             569775,
             5513295.0001
            ],
            [
             569775,
             5513235.0001
            ],
            [
             569715,
             5513235.0001
            ],
            [
             569715,
             5513295.0001
            ],
            [
             569775,
             5513295.0001
            ]
           ]
          ],
          "type": "Polygon"
         },
         "properties": {
          "Class": "vineyard",
          "Class_ID": "4",
          "ID": "115",
          "Latitude": "49.76780703",
          "Longitude": "9.968531511",
          "x": 569745,
          "y": 5513265.0001
         },
         "type": "Feature"
        },
        {
         "geometry": {
          "coordinates": [
           [
            [
             569025,
             5512755.0004
            ],
            [
             569025,
             5512695.0004
            ],
            [
             568965,
             5512695.0004
            ],
            [
             568965,
             5512755.0004
            ],
            [
             569025,
             5512755.0004
            ]
           ]
          ],
          "type": "Polygon"
         },
         "properties": {
          "Class": "Grassland",
          "Class_ID": "3",
          "ID": "116",
          "Latitude": "49.76303731",
          "Longitude": "9.958022278",
          "x": 568995,
          "y": 5512725.0004
         },
         "type": "Feature"
        },
        {
         "geometry": {
          "coordinates": [
           [
            [
             569535,
             5513054.9995
            ],
            [
             569535,
             5512994.9995
            ],
            [
             569475,
             5512994.9995
            ],
            [
             569475,
             5513054.9995
            ],
            [
             569535,
             5513054.9995
            ]
           ]
          ],
          "type": "Polygon"
         },
         "properties": {
          "Class": "vineyard",
          "Class_ID": "4",
          "ID": "128",
          "Latitude": "49.76567648",
          "Longitude": "9.965156333",
          "x": 569505,
          "y": 5513024.9995
         },
         "type": "Feature"
        },
        {
         "geometry": {
          "coordinates": [
           [
            [
             569625,
             5513084.9997
            ],
            [
             569625,
             5513024.9997
            ],
            [
             569565,
             5513024.9997
            ],
            [
             569565,
             5513084.9997
            ],
            [
             569625,
             5513084.9997
            ]
           ]
          ],
          "type": "Polygon"
         },
         "properties": {
          "Class": "Grassland",
          "Class_ID": "3",
          "ID": "132",
          "Latitude": "49.76593586",
          "Longitude": "9.966411262",
          "x": 569595,
          "y": 5513054.9997
         },
         "type": "Feature"
        },
        {
         "geometry": {
          "coordinates": [
           [
            [
             569265,
             5513324.9997
            ],
            [
             569265,
             5513264.9997
            ],
            [
             569205,
             5513264.9997
            ],
            [
             569205,
             5513324.9997
            ],
            [
             569265,
             5513324.9997
            ]
           ]
          ],
          "type": "Polygon"
         },
         "properties": {
          "Class": "vineyard",
          "Class_ID": "4",
          "ID": "148",
          "Latitude": "49.7681358",
          "Longitude": "9.961455661",
          "x": 569235,
          "y": 5513294.9997
         },
         "type": "Feature"
        },
        {
         "geometry": {
          "coordinates": [
           [
            [
             569265,
             5513114.9999
            ],
            [
             569265,
             5513054.9999
            ],
            [
             569205,
             5513054.9999
            ],
            [
             569205,
             5513114.9999
            ],
            [
             569265,
             5513114.9999
            ]
           ]
          ],
          "type": "Polygon"
         },
         "properties": {
          "Class": "Built-up",
          "Class_ID": "1",
          "ID": "156",
          "Latitude": "49.76624724",
          "Longitude": "9.961418306",
          "x": 569235,
          "y": 5513084.9999
         },
         "type": "Feature"
        },
        {
         "geometry": {
          "coordinates": [
           [
            [
             569505,
             5513445.0002
            ],
            [
             569505,
             5513385.0002
            ],
            [
             569445,
             5513385.0002
            ],
            [
             569445,
             5513445.0002
            ],
            [
             569505,
             5513445.0002
            ]
           ]
          ],
          "type": "Polygon"
         },
         "properties": {
          "Class": "vineyard",
          "Class_ID": "4",
          "ID": "192",
          "Latitude": "49.76918728",
          "Longitude": "9.964809428",
          "x": 569475,
          "y": 5513415.0002
         },
         "type": "Feature"
        },
        {
         "geometry": {
          "coordinates": [
           [
            [
             568785,
             5512845.0004
            ],
            [
             568785,
             5512785.0004
            ],
            [
             568725,
             5512785.0004
            ],
            [
             568725,
             5512845.0004
            ],
            [
             568785,
             5512845.0004
            ]
           ]
          ],
          "type": "Polygon"
         },
         "properties": {
          "Class": "Grassland",
          "Class_ID": "3",
          "ID": "196",
          "Latitude": "49.7638742",
          "Longitude": "9.95470617",
          "x": 568755,
          "y": 5512815.0004
         },
         "type": "Feature"
        },
        {
         "geometry": {
          "coordinates": [
           [
            [
             570975,
             5513775.0002
            ],
            [
             570975,
             5513715.0002
            ],
            [
             570915,
             5513715.0002
            ],
            [
             570915,
             5513775.0002
            ],
            [
             570975,
             5513775.0002
            ]
           ]
          ],
          "type": "Polygon"
         },
         "properties": {
          "Class": "Agriculture",
          "Class_ID": "5",
          "ID": "19",
          "Latitude": "49.77198323",
          "Longitude": "9.98528054",
          "x": 570945,
          "y": 5513745.0002
         },
         "type": "Feature"
        },
        {
         "geometry": {
          "coordinates": [
           [
            [
             570615,
             5513294.9994
            ],
            [
             570615,
             5513234.9994
            ],
            [
             570555,
             5513234.9994
            ],
            [
             570555,
             5513294.9994
            ],
            [
             570615,
             5513294.9994
            ]
           ]
          ],
          "type": "Polygon"
         },
         "properties": {
          "Class": "Agriculture",
          "Class_ID": "5",
          "ID": "31",
          "Latitude": "49.76770894",
          "Longitude": "9.980194591",
          "x": 570585,
          "y": 5513264.9994
         },
         "type": "Feature"
        },
        {
         "geometry": {
          "coordinates": [
           [
            [
             570615,
             5513535.0002
            ],
            [
             570615,
             5513475.0002
            ],
            [
             570555,
             5513475.0002
            ],
            [
             570555,
             5513535.0002
            ],
            [
             570615,
             5513535.0002
            ]
           ]
          ],
          "type": "Polygon"
         },
         "properties": {
          "Class": "Agriculture",
          "Class_ID": "5",
          "ID": "40",
          "Latitude": "49.76986729",
          "Longitude": "9.980238119",
          "x": 570585,
          "y": 5513505.0002
         },
         "type": "Feature"
        },
        {
         "geometry": {
          "coordinates": [
           [
            [
             570405,
             5513235
            ],
            [
             570405,
             5513175
            ],
            [
             570345,
             5513175
            ],
            [
             570345,
             5513235
            ],
            [
             570405,
             5513235
            ]
           ]
          ],
          "type": "Polygon"
         },
         "properties": {
          "Class": "Agriculture",
          "Class_ID": "5",
          "ID": "55",
          "Latitude": "49.76719399",
          "Longitude": "9.977267978",
          "x": 570375,
          "y": 5513205
         },
         "type": "Feature"
        },
        {
         "geometry": {
          "coordinates": [
           [
            [
             570735,
             5513325
            ],
            [
             570735,
             5513265
            ],
            [
             570675,
             5513265
            ],
            [
             570675,
             5513325
            ],
            [
             570735,
             5513325
            ]
           ]
          ],
          "type": "Polygon"
         },
         "properties": {
          "Class": "Agriculture",
          "Class_ID": "5",
          "ID": "60",
          "Latitude": "49.76796463",
          "Longitude": "9.98186619",
          "x": 570705,
          "y": 5513295
         },
         "type": "Feature"
        },
        {
         "geometry": {
          "coordinates": [
           [
            [
             570345,
             5513714.9995
            ],
            [
             570345,
             5513654.9995
            ],
            [
             570285,
             5513654.9995
            ],
            [
             570285,
             5513714.9995
            ],
            [
             570345,
             5513714.9995
            ]
           ]
          ],
          "type": "Polygon"
         },
         "properties": {
          "Class": "Agriculture",
          "Class_ID": "5",
          "ID": "70",
          "Latitude": "49.7715177",
          "Longitude": "9.976521638",
          "x": 570315,
          "y": 5513684.9995
         },
         "type": "Feature"
        },
        {
         "geometry": {
          "coordinates": [
           [
            [
             570555,
             5513985.0005
            ],
            [
             570555,
             5513925.0005
            ],
            [
             570495,
             5513925.0005
            ],
            [
             570495,
             5513985.0005
            ],
            [
             570555,
             5513985.0005
            ]
           ]
          ],
          "type": "Polygon"
         },
         "properties": {
          "Class": "Grassland",
          "Class_ID": "3",
          "ID": "72",
          "Latitude": "49.77392123",
          "Longitude": "9.979486568",
          "x": 570525,
          "y": 5513955.0005
         },
         "type": "Feature"
        },
        {
         "geometry": {
          "coordinates": [
           [
            [
             570255,
             5513415.0002
            ],
            [
             570255,
             5513355.0002
            ],
            [
             570195,
             5513355.0002
            ],
            [
             570195,
             5513415.0002
            ],
            [
             570255,
             5513415.0002
            ]
           ]
          ],
          "type": "Polygon"
         },
         "properties": {
          "Class": "Vineyards",
          "Class_ID": "4",
          "ID": "87",
          "Latitude": "49.7688303",
          "Longitude": "9.975217789",
          "x": 570225,
          "y": 5513385.0002
         },
         "type": "Feature"
        },
        {
         "geometry": {
          "coordinates": [
           [
            [
             570915,
             5513444.9996
            ],
            [
             570915,
             5513384.9996
            ],
            [
             570855,
             5513384.9996
            ],
            [
             570855,
             5513444.9996
            ],
            [
             570915,
             5513444.9996
            ]
           ]
          ],
          "type": "Polygon"
         },
         "properties": {
          "Class": "Agriculture",
          "Class_ID": "5",
          "ID": "104",
          "Latitude": "49.76902259",
          "Longitude": "9.984387281",
          "x": 570885,
          "y": 5513414.9996
         },
         "type": "Feature"
        },
        {
         "geometry": {
          "coordinates": [
           [
            [
             570465,
             5513864.9997
            ],
            [
             570465,
             5513804.9997
            ],
            [
             570405,
             5513804.9997
            ],
            [
             570405,
             5513864.9997
            ],
            [
             570465,
             5513864.9997
            ]
           ]
          ],
          "type": "Polygon"
         },
         "properties": {
          "Class": "Built-up",
          "Class_ID": "1",
          "ID": "126",
          "Latitude": "49.77285261",
          "Longitude": "9.978215072",
          "x": 570435,
          "y": 5513834.9997
         },
         "type": "Feature"
        },
        {
         "geometry": {
          "coordinates": [
           [
            [
             570135,
             5513835.0003
            ],
            [
             570135,
             5513775.0003
            ],
            [
             570075,
             5513775.0003
            ],
            [
             570075,
             5513835.0003
            ],
            [
             570135,
             5513835.0003
            ]
           ]
          ],
          "type": "Polygon"
         },
         "properties": {
          "Class": "Trees",
          "Class_ID": "2",
          "ID": "142",
          "Latitude": "49.77262142",
          "Longitude": "9.973627262",
          "x": 570105,
          "y": 5513805.0003
         },
         "type": "Feature"
        },
        {
         "geometry": {
          "coordinates": [
           [
            [
             570795,
             5513864.9996
            ],
            [
             570795,
             5513804.9996
            ],
            [
             570735,
             5513804.9996
            ],
            [
             570735,
             5513864.9996
            ],
            [
             570795,
             5513864.9996
            ]
           ]
          ],
          "type": "Polygon"
         },
         "properties": {
          "Class": "Agriculture",
          "Class_ID": "5",
          "ID": "143",
          "Latitude": "49.77281383",
          "Longitude": "9.982797466",
          "x": 570765,
          "y": 5513834.9996
         },
         "type": "Feature"
        },
        {
         "geometry": {
          "coordinates": [
           [
            [
             570285,
             5513804.9997
            ],
            [
             570285,
             5513744.9997
            ],
            [
             570225,
             5513744.9997
            ],
            [
             570225,
             5513804.9997
            ],
            [
             570285,
             5513804.9997
            ]
           ]
          ],
          "type": "Polygon"
         },
         "properties": {
          "Class": "Trees",
          "Class_ID": "2",
          "ID": "145",
          "Latitude": "49.7723341",
          "Longitude": "9.975704746",
          "x": 570255,
          "y": 5513774.9997
         },
         "type": "Feature"
        },
        {
         "geometry": {
          "coordinates": [
           [
            [
             570435,
             5513984.9999
            ],
            [
             570435,
             5513924.9999
            ],
            [
             570375,
             5513924.9999
            ],
            [
             570375,
             5513984.9999
            ],
            [
             570435,
             5513984.9999
            ]
           ]
          ],
          "type": "Polygon"
         },
         "properties": {
          "Class": "Grassland",
          "Class_ID": "3",
          "ID": "152",
          "Latitude": "49.7739353",
          "Longitude": "9.977820204",
          "x": 570405,
          "y": 5513954.9999
         },
         "type": "Feature"
        },
        {
         "geometry": {
          "coordinates": [
           [
            [
             570645,
             5513954.9999
            ],
            [
             570645,
             5513894.9999
            ],
            [
             570585,
             5513894.9999
            ],
            [
             570585,
             5513954.9999
            ],
            [
             570645,
             5513954.9999
            ]
           ]
          ],
          "type": "Polygon"
         },
         "properties": {
          "Class": "Agriculture",
          "Class_ID": "5",
          "ID": "155",
          "Latitude": "49.77364086",
          "Longitude": "9.980730895",
          "x": 570615,
          "y": 5513924.9999
         },
         "type": "Feature"
        },
        {
         "geometry": {
          "coordinates": [
           [
            [
             570825,
             5513414.9999
            ],
            [
             570825,
             5513354.9999
            ],
            [
             570765,
             5513354.9999
            ],
            [
             570765,
             5513414.9999
            ],
            [
             570825,
             5513414.9999
            ]
           ]
          ],
          "type": "Polygon"
         },
         "properties": {
          "Class": "Agriculture",
          "Class_ID": "5",
          "ID": "158",
          "Latitude": "49.76876341",
          "Longitude": "9.983132179",
          "x": 570795,
          "y": 5513384.9999
         },
         "type": "Feature"
        },
        {
         "geometry": {
          "coordinates": [
           [
            [
             570765,
             5513594.9996
            ],
            [
             570765,
             5513534.9996
            ],
            [
             570705,
             5513534.9996
            ],
            [
             570705,
             5513594.9996
            ],
            [
             570765,
             5513594.9996
            ]
           ]
          ],
          "type": "Polygon"
         },
         "properties": {
          "Class": "Agriculture",
          "Class_ID": "5",
          "ID": "173",
          "Latitude": "49.77038923",
          "Longitude": "9.982331804",
          "x": 570735,
          "y": 5513564.9996
         },
         "type": "Feature"
        },
        {
         "geometry": {
          "coordinates": [
           [
            [
             570225,
             5513925.0002
            ],
            [
             570225,
             5513865.0002
            ],
            [
             570165,
             5513865.0002
            ],
            [
             570165,
             5513925.0002
            ],
            [
             570225,
             5513925.0002
            ]
           ]
          ],
          "type": "Polygon"
         },
         "properties": {
          "Class": "Trees",
          "Class_ID": "2",
          "ID": "177",
          "Latitude": "49.77342029",
          "Longitude": "9.97489324",
          "x": 570195,
          "y": 5513895.0002
         },
         "type": "Feature"
        },
        {
         "geometry": {
          "coordinates": [
           [
            [
             570615,
             5513804.9996
            ],
            [
             570615,
             5513744.9996
            ],
            [
             570555,
             5513744.9996
            ],
            [
             570555,
             5513804.9996
            ],
            [
             570615,
             5513804.9996
            ]
           ]
          ],
          "type": "Polygon"
         },
         "properties": {
          "Class": "Agriculture",
          "Class_ID": "5",
          "ID": "194",
          "Latitude": "49.77229542",
          "Longitude": "9.980287095",
          "x": 570585,
          "y": 5513774.9996
         },
         "type": "Feature"
        },
        {
         "geometry": {
          "coordinates": [
           [
            [
             570255,
             5513624.9999
            ],
            [
             570255,
             5513564.9999
            ],
            [
             570195,
             5513564.9999
            ],
            [
             570195,
             5513624.9999
            ],
            [
             570255,
             5513624.9999
            ]
           ]
          ],
          "type": "Polygon"
         },
         "properties": {
          "Class": "Agriculture",
          "Class_ID": "5",
          "ID": "199",
          "Latitude": "49.77071885",
          "Longitude": "9.975255684",
          "x": 570225,
          "y": 5513594.9999
         },
         "type": "Feature"
        },
        {
         "geometry": {
          "coordinates": [
           [
            [
             570555,
             5512815
            ],
            [
             570555,
             5512755
            ],
            [
             570495,
             5512755
            ],
            [
             570495,
             5512815
            ],
            [
             570555,
             5512815
            ]
           ]
          ],
          "type": "Polygon"
         },
         "properties": {
          "Class": "Vineyards",
          "Class_ID": "4",
          "ID": "2",
          "Latitude": "49.7633993",
          "Longitude": "9.979274549",
          "x": 570525,
          "y": 5512785
         },
         "type": "Feature"
        },
        {
         "geometry": {
          "coordinates": [
           [
            [
             570975,
             5512874.9997
            ],
            [
             570975,
             5512814.9997
            ],
            [
             570915,
             5512814.9997
            ],
            [
             570915,
             5512874.9997
            ],
            [
             570975,
             5512874.9997
            ]
           ]
          ],
          "type": "Polygon"
         },
         "properties": {
          "Class": "Vineyards",
          "Class_ID": "4",
          "ID": "3",
          "Latitude": "49.76388945",
          "Longitude": "9.985116484",
          "x": 570945,
          "y": 5512844.9997
         },
         "type": "Feature"
        },
        {
         "geometry": {
          "coordinates": [
           [
            [
             569925,
             5512635.0005
            ],
            [
             569925,
             5512575.0005
            ],
            [
             569865,
             5512575.0005
            ],
            [
             569865,
             5512635.0005
            ],
            [
             569925,
             5512635.0005
            ]
           ]
          ],
          "type": "Polygon"
         },
         "properties": {
          "Class": "Water",
          "Class_ID": "2",
          "ID": "11",
          "Latitude": "49.76185414",
          "Longitude": "9.970495702",
          "x": 569895,
          "y": 5512605.0005
         },
         "type": "Feature"
        },
        {
         "geometry": {
          "coordinates": [
           [
            [
             570555,
             5513085.0002
            ],
            [
             570555,
             5513025.0002
            ],
            [
             570495,
             5513025.0002
            ],
            [
             570495,
             5513085.0002
            ],
            [
             570555,
             5513085.0002
            ]
           ]
          ],
          "type": "Polygon"
         },
         "properties": {
          "Class": "Agriculture",
          "Class_ID": "5",
          "ID": "13",
          "Latitude": "49.76582744",
          "Longitude": "9.979323465",
          "x": 570525,
          "y": 5513055.0002
         },
         "type": "Feature"
        },
        {
         "geometry": {
          "coordinates": [
           [
            [
             569865,
             5513145.0003
            ],
            [
             569865,
             5513085.0003
            ],
            [
             569805,
             5513085.0003
            ],
            [
             569805,
             5513145.0003
            ],
            [
             569865,
             5513145.0003
            ]
           ]
          ],
          "type": "Polygon"
         },
         "properties": {
          "Class": "Vineyards",
          "Class_ID": "4",
          "ID": "33",
          "Latitude": "49.76644761",
          "Longitude": "9.969754216",
          "x": 569835,
          "y": 5513115.0003
         },
         "type": "Feature"
        },
        {
         "geometry": {
          "coordinates": [
           [
            [
             569895,
             5512994.9999
            ],
            [
             569895,
             5512934.9999
            ],
            [
             569835,
             5512934.9999
            ],
            [
             569835,
             5512994.9999
            ],
            [
             569895,
             5512994.9999
            ]
           ]
          ],
          "type": "Polygon"
         },
         "properties": {
          "Class": "Agriculture",
          "Class_ID": "5",
          "ID": "34",
          "Latitude": "49.76509515",
          "Longitude": "9.970143821",
          "x": 569865,
          "y": 5512964.9999
         },
         "type": "Feature"
        },
        {
         "geometry": {
          "coordinates": [
           [
            [
             570405,
             5513084.9996
            ],
            [
             570405,
             5513024.9996
            ],
            [
             570345,
             5513024.9996
            ],
            [
             570345,
             5513084.9996
            ],
            [
             570405,
             5513084.9996
            ]
           ]
          ],
          "type": "Polygon"
         },
         "properties": {
          "Class": "Agriculture",
          "Class_ID": "5",
          "ID": "36",
          "Latitude": "49.76584502",
          "Longitude": "9.977240857",
          "x": 570375,
          "y": 5513054.9996
         },
         "type": "Feature"
        },
        {
         "geometry": {
          "coordinates": [
           [
            [
             570195,
             5512844.9999
            ],
            [
             570195,
             5512784.9999
            ],
            [
             570135,
             5512784.9999
            ],
            [
             570135,
             5512844.9999
            ],
            [
             570195,
             5512844.9999
            ]
           ]
          ],
          "type": "Polygon"
         },
         "properties": {
          "Class": "Vineyards",
          "Class_ID": "4",
          "ID": "44",
          "Latitude": "49.76371123",
          "Longitude": "9.974281943",
          "x": 570165,
          "y": 5512814.9999
         },
         "type": "Feature"
        },
        {
         "geometry": {
          "coordinates": [
           [
            [
             569775,
             5512665.0005
            ],
            [
             569775,
             5512605.0005
            ],
            [
             569715,
             5512605.0005
            ],
            [
             569715,
             5512665.0005
            ],
            [
             569775,
             5512665.0005
            ]
           ]
          ],
          "type": "Polygon"
         },
         "properties": {
          "Class": "Water",
          "Class_ID": "2",
          "ID": "45",
          "Latitude": "49.76214136",
          "Longitude": "9.968418633",
          "x": 569745,
          "y": 5512635.0005
         },
         "type": "Feature"
        },
        {
         "geometry": {
          "coordinates": [
           [
            [
             570045,
             5513084.9994
            ],
            [
             570045,
             5513024.9994
            ],
            [
             569985,
             5513024.9994
            ],
            [
             569985,
             5513084.9994
            ],
            [
             570045,
             5513084.9994
            ]
           ]
          ],
          "type": "Polygon"
         },
         "properties": {
          "Class": "Vineyards",
          "Class_ID": "4",
          "ID": "48",
          "Latitude": "49.76588707",
          "Longitude": "9.97224259",
          "x": 570015,
          "y": 5513054.9994
         },
         "type": "Feature"
        },
        {
         "geometry": {
          "coordinates": [
           [
            [
             570885,
             5512725.0004
            ],
            [
             570885,
             5512665.0004
            ],
            [
             570825,
             5512665.0004
            ],
            [
             570825,
             5512725.0004
            ],
            [
             570885,
             5512725.0004
            ]
           ]
          ],
          "type": "Polygon"
         },
         "properties": {
          "Class": "Vineyards",
          "Class_ID": "4",
          "ID": "50",
          "Latitude": "49.76255111",
          "Longitude": "9.98383967",
          "x": 570855,
          "y": 5512695.0004
         },
         "type": "Feature"
        },
        {
         "geometry": {
          "coordinates": [
           [
            [
             570495,
             5512635.0002
            ],
            [
             570495,
             5512575.0002
            ],
            [
             570435,
             5512575.0002
            ],
            [
             570435,
             5512635.0002
            ],
            [
             570495,
             5512635.0002
            ]
           ]
          ],
          "type": "Polygon"
         },
         "properties": {
          "Class": "Vineyards",
          "Class_ID": "4",
          "ID": "67",
          "Latitude": "49.76178758",
          "Longitude": "9.978408968",
          "x": 570465,
          "y": 5512605.0002
         },
         "type": "Feature"
        },
        {
         "geometry": {
          "coordinates": [
           [
            [
             570855,
             5513264.9997
            ],
            [
             570855,
             5513204.9997
            ],
            [
             570795,
             5513204.9997
            ],
            [
             570795,
             5513264.9997
            ],
            [
             570855,
             5513264.9997
            ]
           ]
          ],
          "type": "Polygon"
         },
         "properties": {
          "Class": "Agriculture",
          "Class_ID": "5",
          "ID": "82",
          "Latitude": "49.76741091",
          "Longitude": "9.983521428",
          "x": 570825,
          "y": 5513234.9997
         },
         "type": "Feature"
        },
        {
         "geometry": {
          "coordinates": [
           [
            [
             570405,
             5512845.0003
            ],
            [
             570405,
             5512785.0003
            ],
            [
             570345,
             5512785.0003
            ],
            [
             570345,
             5512845.0003
            ],
            [
             570405,
             5512845.0003
            ]
           ]
          ],
          "type": "Polygon"
         },
         "properties": {
          "Class": "Vineyards",
          "Class_ID": "4",
          "ID": "86",
          "Latitude": "49.76368668",
          "Longitude": "9.977197468",
          "x": 570375,
          "y": 5512815.0003
         },
         "type": "Feature"
        },
        {
         "geometry": {
          "coordinates": [
           [
            [
             570405,
             5512695
            ],
            [
             570405,
             5512635
            ],
            [
             570345,
             5512635
            ],
            [
             570345,
             5512695
            ],
            [
             570405,
             5512695
            ]
           ]
          ],
          "type": "Polygon"
         },
         "properties": {
          "Class": "Vineyards",
          "Class_ID": "4",
          "ID": "96",
          "Latitude": "49.76233771",
          "Longitude": "9.977170352",
          "x": 570375,
          "y": 5512665
         },
         "type": "Feature"
        },
        {
         "geometry": {
          "coordinates": [
           [
            [
             570375,
             5512874.9997
            ],
            [
             570375,
             5512814.9997
            ],
            [
             570315,
             5512814.9997
            ],
            [
             570315,
             5512874.9997
            ],
            [
             570375,
             5512874.9997
            ]
           ]
          ],
          "type": "Polygon"
         },
         "properties": {
          "Class": "Vineyards",
          "Class_ID": "4",
          "ID": "113",
          "Latitude": "49.76395998",
          "Longitude": "9.976786386",
          "x": 570345,
          "y": 5512844.9997
         },
         "type": "Feature"
        },
        {
         "geometry": {
          "coordinates": [
           [
            [
             570405,
             5513055
            ],
            [
             570405,
             5512995
            ],
            [
             570345,
             5512995
            ],
            [
             570345,
             5513055
            ],
            [
             570405,
             5513055
            ]
           ]
          ],
          "type": "Polygon"
         },
         "properties": {
          "Class": "Agriculture",
          "Class_ID": "5",
          "ID": "130",
          "Latitude": "49.76557523",
          "Longitude": "9.977235433",
          "x": 570375,
          "y": 5513025
         },
         "type": "Feature"
        },
        {
         "geometry": {
          "coordinates": [
           [
            [
             570015,
             5512845.0001
            ],
            [
             570015,
             5512785.0001
            ],
            [
             569955,
             5512785.0001
            ],
            [
             569955,
             5512845.0001
            ],
            [
             570015,
             5512845.0001
            ]
           ]
          ],
          "type": "Polygon"
         },
         "properties": {
          "Class": "Vineyards",
          "Class_ID": "4",
          "ID": "139",
          "Latitude": "49.76373222",
          "Longitude": "9.971782918",
          "x": 569985,
          "y": 5512815.0001
         },
         "type": "Feature"
        },
        {
         "geometry": {
          "coordinates": [
           [
            [
             570765,
             5513144.9997
            ],
            [
             570765,
             5513084.9997
            ],
            [
             570705,
             5513084.9997
            ],
            [
             570705,
             5513144.9997
            ],
            [
             570765,
             5513144.9997
            ]
           ]
          ],
          "type": "Polygon"
         },
         "properties": {
          "Class": "Agriculture",
          "Class_ID": "5",
          "ID": "163",
          "Latitude": "49.76634234",
          "Longitude": "9.982250017",
          "x": 570735,
          "y": 5513114.9997
         },
         "type": "Feature"
        },
        {
         "geometry": {
          "coordinates": [
           [
            [
             570765,
             5513085.0004
            ],
            [
             570765,
             5513025.0004
            ],
            [
             570705,
             5513025.0004
            ],
            [
             570705,
             5513085.0004
            ],
            [
             570765,
             5513085.0004
            ]
           ]
          ],
          "type": "Polygon"
         },
         "properties": {
          "Class": "Agriculture",
          "Class_ID": "5",
          "ID": "166",
          "Latitude": "49.76580276",
          "Longitude": "9.982239113",
          "x": 570735,
          "y": 5513055.0004
         },
         "type": "Feature"
        },
        {
         "geometry": {
          "coordinates": [
           [
            [
             570195,
             5514885.0004
            ],
            [
             570195,
             5514825.0004
            ],
            [
             570135,
             5514825.0004
            ],
            [
             570135,
             5514885.0004
            ],
            [
             570195,
             5514885.0004
            ]
           ]
          ],
          "type": "Polygon"
         },
         "properties": {
          "Class": "Built-up",
          "Class_ID": "1",
          "ID": "136",
          "Latitude": "49.78205717",
          "Longitude": "9.974649817",
          "x": 570165,
          "y": 5514855.0004
         },
         "type": "Feature"
        },
        {
         "geometry": {
          "coordinates": [
           [
            [
             570345,
             5514764.9996
            ],
            [
             570345,
             5514704.9996
            ],
            [
             570285,
             5514704.9996
            ],
            [
             570285,
             5514764.9996
            ],
            [
             570345,
             5514764.9996
            ]
           ]
          ],
          "type": "Polygon"
         },
         "properties": {
          "Class": "Built-up",
          "Class_ID": "1",
          "ID": "93",
          "Latitude": "49.78096045",
          "Longitude": "9.976711425",
          "x": 570315,
          "y": 5514734.9996
         },
         "type": "Feature"
        },
        {
         "geometry": {
          "coordinates": [
           [
            [
             570225,
             5514855.0002
            ],
            [
             570225,
             5514795.0002
            ],
            [
             570165,
             5514795.0002
            ],
            [
             570165,
             5514855.0002
            ],
            [
             570225,
             5514855.0002
            ]
           ]
          ],
          "type": "Polygon"
         },
         "properties": {
          "Class": "Built-up",
          "Class_ID": "1",
          "ID": "88",
          "Latitude": "49.78178387",
          "Longitude": "9.975061063",
          "x": 570195,
          "y": 5514825.0002
         },
         "type": "Feature"
        },
        {
         "geometry": {
          "coordinates": [
           [
            [
             570015,
             5515065.0005
            ],
            [
             570015,
             5515005.0005
            ],
            [
             569955,
             5515005.0005
            ],
            [
             569955,
             5515065.0005
            ],
            [
             570015,
             5515065.0005
            ]
           ]
          ],
          "type": "Polygon"
         },
         "properties": {
          "Class": "Built-up",
          "Class_ID": "1",
          "ID": "66",
          "Latitude": "49.78369693",
          "Longitude": "9.972182243",
          "x": 569985,
          "y": 5515035.0005
         },
         "type": "Feature"
        },
        {
         "geometry": {
          "coordinates": [
           [
            [
             570285,
             5514915.0002
            ],
            [
             570285,
             5514855.0002
            ],
            [
             570225,
             5514855.0002
            ],
            [
             570225,
             5514915.0002
            ],
            [
             570285,
             5514915.0002
            ]
           ]
          ],
          "type": "Polygon"
         },
         "properties": {
          "Class": "Built-up",
          "Class_ID": "1",
          "ID": "42",
          "Latitude": "49.78231644",
          "Longitude": "9.97590522",
          "x": 570255,
          "y": 5514885.0002
         },
         "type": "Feature"
        },
        {
         "geometry": {
          "coordinates": [
           [
            [
             569835,
             5514915.0001
            ],
            [
             569835,
             5514855.0001
            ],
            [
             569775,
             5514855.0001
            ],
            [
             569775,
             5514915.0001
            ],
            [
             569835,
             5514915.0001
            ]
           ]
          ],
          "type": "Polygon"
         },
         "properties": {
          "Class": "Grassland",
          "Class_ID": "3",
          "ID": "94",
          "Latitude": "49.78236891",
          "Longitude": "9.969655263",
          "x": 569805,
          "y": 5514885.0001
         },
         "type": "Feature"
        },
        {
         "geometry": {
          "coordinates": [
           [
            [
             570075,
             5514854.9999
            ],
            [
             570075,
             5514794.9999
            ],
            [
             570015,
             5514794.9999
            ],
            [
             570015,
             5514854.9999
            ],
            [
             570075,
             5514854.9999
            ]
           ]
          ],
          "type": "Polygon"
         },
         "properties": {
          "Class": "Built-up",
          "Class_ID": "1",
          "ID": "117",
          "Latitude": "49.78180138",
          "Longitude": "9.972977769",
          "x": 570045,
          "y": 5514824.9999
         },
         "type": "Feature"
        },
        {
         "geometry": {
          "coordinates": [
           [
            [
             570975,
             5514974.9999
            ],
            [
             570975,
             5514914.9999
            ],
            [
             570915,
             5514914.9999
            ],
            [
             570915,
             5514974.9999
            ],
            [
             570975,
             5514974.9999
            ]
           ]
          ],
          "type": "Polygon"
         },
         "properties": {
          "Class": "Built-up",
          "Class_ID": "1",
          "ID": "91",
          "Latitude": "49.78277491",
          "Longitude": "9.985499397",
          "x": 570945,
          "y": 5514944.9999
         },
         "type": "Feature"
        },
        {
         "geometry": {
          "coordinates": [
           [
            [
             570405,
             5514824.9999
            ],
            [
             570405,
             5514764.9999
            ],
            [
             570345,
             5514764.9999
            ],
            [
             570345,
             5514824.9999
            ],
            [
             570405,
             5514824.9999
            ]
           ]
          ],
          "type": "Polygon"
         },
         "properties": {
          "Class": "Built-up",
          "Class_ID": "1",
          "ID": "141",
          "Latitude": "49.78149301",
          "Longitude": "9.977555585",
          "x": 570375,
          "y": 5514794.9999
         },
         "type": "Feature"
        },
        {
         "geometry": {
          "coordinates": [
           [
            [
             569715,
             5515004.9996
            ],
            [
             569715,
             5514944.9996
            ],
            [
             569655,
             5514944.9996
            ],
            [
             569655,
             5515004.9996
            ],
            [
             569715,
             5515004.9996
            ]
           ]
          ],
          "type": "Polygon"
         },
         "properties": {
          "Class": "Grassland",
          "Class_ID": "3",
          "ID": "60",
          "Latitude": "49.78319222",
          "Longitude": "9.968004732",
          "x": 569685,
          "y": 5514974.9996
         },
         "type": "Feature"
        },
        {
         "geometry": {
          "coordinates": [
           [
            [
             570315,
             5515364.9994
            ],
            [
             570315,
             5515304.9994
            ],
            [
             570255,
             5515304.9994
            ],
            [
             570255,
             5515364.9994
            ],
            [
             570315,
             5515364.9994
            ]
           ]
          ],
          "type": "Polygon"
         },
         "properties": {
          "Class": "Built-up",
          "Class_ID": "1",
          "ID": "129",
          "Latitude": "49.78635981",
          "Longitude": "9.976403222",
          "x": 570285,
          "y": 5515334.9994
         },
         "type": "Feature"
        },
        {
         "geometry": {
          "coordinates": [
           [
            [
             569835,
             5515064.9995
            ],
            [
             569835,
             5515004.9995
            ],
            [
             569775,
             5515004.9995
            ],
            [
             569775,
             5515064.9995
            ],
            [
             569835,
             5515064.9995
            ]
           ]
          ],
          "type": "Polygon"
         },
         "properties": {
          "Class": "Grassland",
          "Class_ID": "3",
          "ID": "63",
          "Latitude": "49.78371787",
          "Longitude": "9.969682189",
          "x": 569805,
          "y": 5515034.9995
         },
         "type": "Feature"
        },
        {
         "geometry": {
          "coordinates": [
           [
            [
             570615,
             5514734.9999
            ],
            [
             570615,
             5514674.9999
            ],
            [
             570555,
             5514674.9999
            ],
            [
             570555,
             5514734.9999
            ],
            [
             570615,
             5514734.9999
            ]
           ]
          ],
          "type": "Polygon"
         },
         "properties": {
          "Class": "Built-up",
          "Class_ID": "1",
          "ID": "120",
          "Latitude": "49.78065899",
          "Longitude": "9.98045584",
          "x": 570585,
          "y": 5514704.9999
         },
         "type": "Feature"
        },
        {
         "geometry": {
          "coordinates": [
           [
            [
             570465,
             5514764.9997
            ],
            [
             570465,
             5514704.9997
            ],
            [
             570405,
             5514704.9997
            ],
            [
             570405,
             5514764.9997
            ],
            [
             570465,
             5514764.9997
            ]
           ]
          ],
          "type": "Polygon"
         },
         "properties": {
          "Class": "Built-up",
          "Class_ID": "1",
          "ID": "184",
          "Latitude": "49.78094639",
          "Longitude": "9.97837803",
          "x": 570435,
          "y": 5514734.9997
         },
         "type": "Feature"
        },
        {
         "geometry": {
          "coordinates": [
           [
            [
             570285,
             5515155.0002
            ],
            [
             570285,
             5515095.0002
            ],
            [
             570225,
             5515095.0002
            ],
            [
             570225,
             5515155.0002
            ],
            [
             570285,
             5515155.0002
            ]
           ]
          ],
          "type": "Polygon"
         },
         "properties": {
          "Class": "Built-up",
          "Class_ID": "1",
          "ID": "122",
          "Latitude": "49.78447478",
          "Longitude": "9.97594858",
          "x": 570255,
          "y": 5515125.0002
         },
         "type": "Feature"
        },
        {
         "geometry": {
          "coordinates": [
           [
            [
             569715,
             5515035.0003
            ],
            [
             569715,
             5514975.0003
            ],
            [
             569655,
             5514975.0003
            ],
            [
             569655,
             5515035.0003
            ],
            [
             569715,
             5515035.0003
            ]
           ]
          ],
          "type": "Polygon"
         },
         "properties": {
          "Class": "Grassland",
          "Class_ID": "3",
          "ID": "111",
          "Latitude": "49.78346202",
          "Longitude": "9.968010108",
          "x": 569685,
          "y": 5515005.0003
         },
         "type": "Feature"
        },
        {
         "geometry": {
          "coordinates": [
           [
            [
             570975,
             5514824.9998
            ],
            [
             570975,
             5514764.9998
            ],
            [
             570915,
             5514764.9998
            ],
            [
             570915,
             5514824.9998
            ],
            [
             570975,
             5514824.9998
            ]
           ]
          ],
          "type": "Polygon"
         },
         "properties": {
          "Class": "Built-up",
          "Class_ID": "1",
          "ID": "92",
          "Latitude": "49.78142595",
          "Longitude": "9.985472033",
          "x": 570945,
          "y": 5514794.9998
         },
         "type": "Feature"
        },
        {
         "geometry": {
          "coordinates": [
           [
            [
             569985,
             5514884.9997
            ],
            [
             569985,
             5514824.9997
            ],
            [
             569925,
             5514824.9997
            ],
            [
             569925,
             5514884.9997
            ],
            [
             569985,
             5514884.9997
            ]
           ]
          ],
          "type": "Polygon"
         },
         "properties": {
          "Class": "Built-up",
          "Class_ID": "1",
          "ID": "65",
          "Latitude": "49.78208166",
          "Longitude": "9.971733187",
          "x": 569955,
          "y": 5514854.9997
         },
         "type": "Feature"
        },
        {
         "geometry": {
          "coordinates": [
           [
            [
             569715,
             5514945.0003
            ],
            [
             569715,
             5514885.0003
            ],
            [
             569655,
             5514885.0003
            ],
            [
             569655,
             5514945.0003
            ],
            [
             569715,
             5514945.0003
            ]
           ]
          ],
          "type": "Polygon"
         },
         "properties": {
          "Class": "Built-up",
          "Class_ID": "1",
          "ID": "75",
          "Latitude": "49.78265264",
          "Longitude": "9.967993981",
          "x": 569685,
          "y": 5514915.0003
         },
         "type": "Feature"
        },
        {
         "geometry": {
          "coordinates": [
           [
            [
             570555,
             5514735.0001
            ],
            [
             570555,
             5514675.0001
            ],
            [
             570495,
             5514675.0001
            ],
            [
             570495,
             5514735.0001
            ],
            [
             570555,
             5514735.0001
            ]
           ]
          ],
          "type": "Polygon"
         },
         "properties": {
          "Class": "Built-up",
          "Class_ID": "1",
          "ID": "119",
          "Latitude": "49.78066604",
          "Longitude": "9.979622543",
          "x": 570525,
          "y": 5514705.0001
         },
         "type": "Feature"
        },
        {
         "geometry": {
          "coordinates": [
           [
            [
             569925,
             5515395.0002
            ],
            [
             569925,
             5515335.0002
            ],
            [
             569865,
             5515335.0002
            ],
            [
             569865,
             5515395.0002
            ],
            [
             569925,
             5515395.0002
            ]
           ]
          ],
          "type": "Polygon"
         },
         "properties": {
          "Class": "Grassland",
          "Class_ID": "3",
          "ID": "1",
          "Latitude": "49.78667513",
          "Longitude": "9.970991538",
          "x": 569895,
          "y": 5515365.0002
         },
         "type": "Feature"
        },
        {
         "geometry": {
          "coordinates": [
           [
            [
             570075,
             5515634.9999
            ],
            [
             570075,
             5515574.9999
            ],
            [
             570015,
             5515574.9999
            ],
            [
             570015,
             5515634.9999
            ],
            [
             570075,
             5515634.9999
            ]
           ]
          ],
          "type": "Polygon"
         },
         "properties": {
          "Class": "Built-up",
          "Class_ID": "1",
          "ID": "43",
          "Latitude": "49.78881599",
          "Longitude": "9.973118284",
          "x": 570045,
          "y": 5515604.9999
         },
         "type": "Feature"
        },
        {
         "geometry": {
          "coordinates": [
           [
            [
             570675,
             5515214.9998
            ],
            [
             570675,
             5515154.9998
            ],
            [
             570615,
             5515154.9998
            ],
            [
             570615,
             5515214.9998
            ],
            [
             570675,
             5515214.9998
            ]
           ]
          ],
          "type": "Polygon"
         },
         "properties": {
          "Class": "Grassland",
          "Class_ID": "3",
          "ID": "46",
          "Latitude": "49.78496861",
          "Longitude": "9.981376336",
          "x": 570645,
          "y": 5515184.9998
         },
         "type": "Feature"
        },
        {
         "geometry": {
          "coordinates": [
           [
            [
             570435,
             5515544.9999
            ],
            [
             570435,
             5515484.9999
            ],
            [
             570375,
             5515484.9999
            ],
            [
             570375,
             5515544.9999
            ],
            [
             570435,
             5515544.9999
            ]
           ]
          ],
          "type": "Polygon"
         },
         "properties": {
          "Class": "Built-up",
          "Class_ID": "1",
          "ID": "47",
          "Latitude": "49.78796451",
          "Longitude": "9.97810261",
          "x": 570405,
          "y": 5515514.9999
         },
         "type": "Feature"
        },
        {
         "geometry": {
          "coordinates": [
           [
            [
             569985,
             5515695.0002
            ],
            [
             569985,
             5515635.0002
            ],
            [
             569925,
             5515635.0002
            ],
            [
             569925,
             5515695.0002
            ],
            [
             569985,
             5515695.0002
            ]
           ]
          ],
          "type": "Polygon"
         },
         "properties": {
          "Class": "Grassland",
          "Class_ID": "3",
          "ID": "57",
          "Latitude": "49.78936607",
          "Longitude": "9.971878923",
          "x": 569955,
          "y": 5515665.0002
         },
         "type": "Feature"
        },
        {
         "geometry": {
          "coordinates": [
           [
            [
             570465,
             5515335.0003
            ],
            [
             570465,
             5515275.0003
            ],
            [
             570405,
             5515275.0003
            ],
            [
             570405,
             5515335.0003
            ],
            [
             570465,
             5515335.0003
            ]
           ]
          ],
          "type": "Polygon"
         },
         "properties": {
          "Class": "Built-up",
          "Class_ID": "1",
          "ID": "71",
          "Latitude": "49.78607245",
          "Longitude": "9.978481276",
          "x": 570435,
          "y": 5515305.0003
         },
         "type": "Feature"
        },
        {
         "geometry": {
          "coordinates": [
           [
            [
             569835,
             5515515.0002
            ],
            [
             569835,
             5515455.0002
            ],
            [
             569775,
             5515455.0002
            ],
            [
             569775,
             5515515.0002
            ],
            [
             569835,
             5515515.0002
            ]
           ]
          ],
          "type": "Polygon"
         },
         "properties": {
          "Class": "Grassland",
          "Class_ID": "3",
          "ID": "84",
          "Latitude": "49.78776477",
          "Longitude": "9.96976298",
          "x": 569805,
          "y": 5515485.0002
         },
         "type": "Feature"
        },
        {
         "geometry": {
          "coordinates": [
           [
            [
             570975,
             5515665.0001
            ],
            [
             570975,
             5515605.0001
            ],
            [
             570915,
             5515605.0001
            ],
            [
             570915,
             5515665.0001
            ],
            [
             570975,
             5515665.0001
            ]
           ]
          ],
          "type": "Polygon"
         },
         "properties": {
          "Class": "Agriculture",
          "Class_ID": "5",
          "ID": "97",
          "Latitude": "49.78898012",
          "Longitude": "9.9856253",
          "x": 570945,
          "y": 5515635.0001
         },
         "type": "Feature"
        },
        {
         "geometry": {
          "coordinates": [
           [
            [
             570255,
             5515665.0002
            ],
            [
             570255,
             5515605.0002
            ],
            [
             570195,
             5515605.0002
            ],
            [
             570195,
             5515665.0002
            ],
            [
             570255,
             5515665.0002
            ]
           ]
          ],
          "type": "Polygon"
         },
         "properties": {
          "Class": "Grassland",
          "Class_ID": "3",
          "ID": "110",
          "Latitude": "49.78906476",
          "Longitude": "9.975624017",
          "x": 570225,
          "y": 5515635.0002
         },
         "type": "Feature"
        },
        {
         "geometry": {
          "coordinates": [
           [
            [
             570435,
             5515724.9996
            ],
            [
             570435,
             5515664.9996
            ],
            [
             570375,
             5515664.9996
            ],
            [
             570375,
             5515724.9996
            ],
            [
             570435,
             5515724.9996
            ]
           ]
          ],
          "type": "Polygon"
         },
         "properties": {
          "Class": "Grassland",
          "Class_ID": "3",
          "ID": "114",
          "Latitude": "49.78958326",
          "Longitude": "9.978135209",
          "x": 570405,
          "y": 5515694.9996
         },
         "type": "Feature"
        },
        {
         "geometry": {
          "coordinates": [
           [
            [
             570975,
             5515245.0003
            ],
            [
             570975,
             5515185.0003
            ],
            [
             570915,
             5515185.0003
            ],
            [
             570915,
             5515245.0003
            ],
            [
             570975,
             5515245.0003
            ]
           ]
          ],
          "type": "Polygon"
         },
         "properties": {
          "Class": "Grassland",
          "Class_ID": "3",
          "ID": "123",
          "Latitude": "49.78520304",
          "Longitude": "9.985548658",
          "x": 570945,
          "y": 5515215.0003
         },
         "type": "Feature"
        },
        {
         "geometry": {
          "coordinates": [
           [
            [
             569595,
             5515695.0001
            ],
            [
             569595,
             5515635.0001
            ],
            [
             569535,
             5515635.0001
            ],
            [
             569535,
             5515695.0001
            ],
            [
             569595,
             5515695.0001
            ]
           ]
          ],
          "type": "Polygon"
         },
         "properties": {
          "Class": "Grassland",
          "Class_ID": "3",
          "ID": "161",
          "Latitude": "49.78941138",
          "Longitude": "9.966461502",
          "x": 569565,
          "y": 5515665.0001
         },
         "type": "Feature"
        },
        {
         "geometry": {
          "coordinates": [
           [
            [
             569715,
             5515904.9996
            ],
            [
             569715,
             5515844.9996
            ],
            [
             569655,
             5515844.9996
            ],
            [
             569655,
             5515904.9996
            ],
            [
             569715,
             5515904.9996
            ]
           ]
          ],
          "type": "Polygon"
         },
         "properties": {
          "Class": "Built-up",
          "Class_ID": "1",
          "ID": "168",
          "Latitude": "49.79128601",
          "Longitude": "9.968166049",
          "x": 569685,
          "y": 5515874.9996
         },
         "type": "Feature"
        },
        {
         "geometry": {
          "coordinates": [
           [
            [
             570435,
             5515485.0004
            ],
            [
             570435,
             5515425.0004
            ],
            [
             570375,
             5515425.0004
            ],
            [
             570375,
             5515485.0004
            ],
            [
             570435,
             5515485.0004
            ]
           ]
          ],
          "type": "Polygon"
         },
         "properties": {
          "Class": "Grassland",
          "Class_ID": "3",
          "ID": "170",
          "Latitude": "49.78742493",
          "Longitude": "9.978091744",
          "x": 570405,
          "y": 5515455.0004
         },
         "type": "Feature"
        },
        {
         "geometry": {
          "coordinates": [
           [
            [
             570345,
             5515514.9995
            ],
            [
             570345,
             5515454.9995
            ],
            [
             570285,
             5515454.9995
            ],
            [
             570285,
             5515514.9995
            ],
            [
             570345,
             5515514.9995
            ]
           ]
          ],
          "type": "Polygon"
         },
         "properties": {
          "Class": "Built-up",
          "Class_ID": "1",
          "ID": "172",
          "Latitude": "49.78770526",
          "Longitude": "9.976847049",
          "x": 570315,
          "y": 5515484.9995
         },
         "type": "Feature"
        },
        {
         "geometry": {
          "coordinates": [
           [
            [
             570525,
             5515665
            ],
            [
             570525,
             5515605
            ],
            [
             570465,
             5515605
            ],
            [
             570465,
             5515665
            ],
            [
             570525,
             5515665
            ]
           ]
          ],
          "type": "Polygon"
         },
         "properties": {
          "Class": "Built-up",
          "Class_ID": "1",
          "ID": "188",
          "Latitude": "49.78903312",
          "Longitude": "9.979374504",
          "x": 570495,
          "y": 5515635
         },
         "type": "Feature"
        },
        {
         "geometry": {
          "coordinates": [
           [
            [
             570675,
             5515244.9996
            ],
            [
             570675,
             5515184.9996
            ],
            [
             570615,
             5515184.9996
            ],
            [
             570615,
             5515244.9996
            ],
            [
             570675,
             5515244.9996
            ]
           ]
          ],
          "type": "Polygon"
         },
         "properties": {
          "Class": "Grassland",
          "Class_ID": "3",
          "ID": "190",
          "Latitude": "49.7852384",
          "Longitude": "9.981381787",
          "x": 570645,
          "y": 5515214.9996
         },
         "type": "Feature"
        },
        {
         "geometry": {
          "coordinates": [
           [
            [
             570165,
             5515905.0004
            ],
            [
             570165,
             5515845.0004
            ],
            [
             570105,
             5515845.0004
            ],
            [
             570105,
             5515905.0004
            ],
            [
             570165,
             5515905.0004
            ]
           ]
          ],
          "type": "Polygon"
         },
         "properties": {
          "Class": "Grassland",
          "Class_ID": "3",
          "ID": "193",
          "Latitude": "49.79123362",
          "Longitude": "9.974417156",
          "x": 570135,
          "y": 5515875.0004
         },
         "type": "Feature"
        },
        {
         "geometry": {
          "coordinates": [
           [
            [
             570315,
             5515604.9996
            ],
            [
             570315,
             5515544.9996
            ],
            [
             570255,
             5515544.9996
            ],
            [
             570255,
             5515604.9996
            ],
            [
             570315,
             5515604.9996
            ]
           ]
          ],
          "type": "Polygon"
         },
         "properties": {
          "Class": "Built-up",
          "Class_ID": "1",
          "ID": "200",
          "Latitude": "49.78851815",
          "Longitude": "9.976446611",
          "x": 570285,
          "y": 5515574.9996
         },
         "type": "Feature"
        },
        {
         "geometry": {
          "coordinates": [
           [
            [
             570765,
             5514584.9996
            ],
            [
             570765,
             5514524.9996
            ],
            [
             570705,
             5514524.9996
            ],
            [
             570705,
             5514584.9996
            ],
            [
             570765,
             5514584.9996
            ]
           ]
          ],
          "type": "Polygon"
         },
         "properties": {
          "Class": "Built-Up",
          "Class_ID": "1",
          "ID": "153",
          "Latitude": "49.77929238",
          "Longitude": "9.982511801",
          "x": 570735,
          "y": 5514554.9996
         },
         "type": "Feature"
        },
        {
         "geometry": {
          "coordinates": [
           [
            [
             570975,
             5513834.9997
            ],
            [
             570975,
             5513774.9997
            ],
            [
             570915,
             5513774.9997
            ],
            [
             570915,
             5513834.9997
            ],
            [
             570975,
             5513834.9997
            ]
           ]
          ],
          "type": "Polygon"
         },
         "properties": {
          "Class": "Agriculture",
          "Class_ID": "5",
          "ID": "154",
          "Latitude": "49.77252281",
          "Longitude": "9.98529148",
          "x": 570945,
          "y": 5513804.9997
         },
         "type": "Feature"
        },
        {
         "geometry": {
          "coordinates": [
           [
            [
             570585,
             5514554.9998
            ],
            [
             570585,
             5514494.9998
            ],
            [
             570525,
             5514494.9998
            ],
            [
             570525,
             5514554.9998
            ],
            [
             570585,
             5514554.9998
            ]
           ]
          ],
          "type": "Polygon"
         },
         "properties": {
          "Class": "Built-Up",
          "Class_ID": "1",
          "ID": "64",
          "Latitude": "49.77904376",
          "Longitude": "9.980006539",
          "x": 570555,
          "y": 5514524.9998
         },
         "type": "Feature"
        },
        {
         "geometry": {
          "coordinates": [
           [
            [
             570855,
             5514494.9998
            ],
            [
             570855,
             5514434.9998
            ],
            [
             570795,
             5514434.9998
            ],
            [
             570795,
             5514494.9998
            ],
            [
             570855,
             5514494.9998
            ]
           ]
          ],
          "type": "Polygon"
         },
         "properties": {
          "Class": "Built-Up",
          "Class_ID": "1",
          "ID": "15",
          "Latitude": "49.7784724",
          "Longitude": "9.983745322",
          "x": 570825,
          "y": 5514464.9998
         },
         "type": "Feature"
        },
        {
         "geometry": {
          "coordinates": [
           [
            [
             570825,
             5514315.0006
            ],
            [
             570825,
             5514255.0006
            ],
            [
             570765,
             5514255.0006
            ],
            [
             570765,
             5514315.0006
            ],
            [
             570825,
             5514315.0006
            ]
           ]
          ],
          "type": "Polygon"
         },
         "properties": {
          "Class": "Built-Up",
          "Class_ID": "1",
          "ID": "179",
          "Latitude": "49.77685719",
          "Longitude": "9.983295933",
          "x": 570795,
          "y": 5514285.0006
         },
         "type": "Feature"
        },
        {
         "geometry": {
          "coordinates": [
           [
            [
             570825,
             5514075.0004
            ],
            [
             570825,
             5514015.0004
            ],
            [
             570765,
             5514015.0004
            ],
            [
             570765,
             5514075.0004
            ],
            [
             570825,
             5514075.0004
            ]
           ]
          ],
          "type": "Polygon"
         },
         "properties": {
          "Class": "Agriculture",
          "Class_ID": "5",
          "ID": "32",
          "Latitude": "49.77469885",
          "Longitude": "9.983252258",
          "x": 570795,
          "y": 5514045.0004
         },
         "type": "Feature"
        },
        {
         "geometry": {
          "coordinates": [
           [
            [
             570765,
             5514554.9998
            ],
            [
             570765,
             5514494.9998
            ],
            [
             570705,
             5514494.9998
            ],
            [
             570705,
             5514554.9998
            ],
            [
             570765,
             5514554.9998
            ]
           ]
          ],
          "type": "Polygon"
         },
         "properties": {
          "Class": "Built-Up",
          "Class_ID": "1",
          "ID": "144",
          "Latitude": "49.77902259",
          "Longitude": "9.982506345",
          "x": 570735,
          "y": 5514524.9998
         },
         "type": "Feature"
        },
        {
         "geometry": {
          "coordinates": [
           [
            [
             570675,
             5514314.9995
            ],
            [
             570675,
             5514254.9995
            ],
            [
             570615,
             5514254.9995
            ],
            [
             570615,
             5514314.9995
            ],
            [
             570675,
             5514314.9995
            ]
           ]
          ],
          "type": "Polygon"
         },
         "properties": {
          "Class": "Grassland",
          "Class_ID": "3",
          "ID": "5",
          "Latitude": "49.77687484",
          "Longitude": "9.981212855",
          "x": 570645,
          "y": 5514284.9995
         },
         "type": "Feature"
        },
        {
         "geometry": {
          "coordinates": [
           [
            [
             570675,
             5514465.0004
            ],
            [
             570675,
             5514405.0004
            ],
            [
             570615,
             5514405.0004
            ],
            [
             570615,
             5514465.0004
            ],
            [
             570675,
             5514465.0004
            ]
           ]
          ],
          "type": "Polygon"
         },
         "properties": {
          "Class": "Built-Up",
          "Class_ID": "1",
          "ID": "90",
          "Latitude": "49.77822381",
          "Longitude": "9.981240097",
          "x": 570645,
          "y": 5514435.0004
         },
         "type": "Feature"
        },
        {
         "geometry": {
          "coordinates": [
           [
            [
             570555,
             5514615
            ],
            [
             570555,
             5514555
            ],
            [
             570495,
             5514555
            ],
            [
             570495,
             5514615
            ],
            [
             570555,
             5514615
            ]
           ]
          ],
          "type": "Polygon"
         },
         "properties": {
          "Class": "Built-Up",
          "Class_ID": "1",
          "ID": "28",
          "Latitude": "49.77958687",
          "Longitude": "9.979600784",
          "x": 570525,
          "y": 5514585
         },
         "type": "Feature"
        },
        {
         "geometry": {
          "coordinates": [
           [
            [
             570345,
             5514615
            ],
            [
             570345,
             5514555
            ],
            [
             570285,
             5514555
            ],
            [
             570285,
             5514615
            ],
            [
             570345,
             5514615
            ]
           ]
          ],
          "type": "Polygon"
         },
         "properties": {
          "Class": "Built-Up",
          "Class_ID": "1",
          "ID": "59",
          "Latitude": "49.77961149",
          "Longitude": "9.976684307",
          "x": 570315,
          "y": 5514585
         },
         "type": "Feature"
        },
        {
         "geometry": {
          "coordinates": [
           [
            [
             570495,
             5514585.0001
            ],
            [
             570495,
             5514525.0001
            ],
            [
             570435,
             5514525.0001
            ],
            [
             570435,
             5514585.0001
            ],
            [
             570495,
             5514585.0001
            ]
           ]
          ],
          "type": "Polygon"
         },
         "properties": {
          "Class": "Built-Up",
          "Class_ID": "1",
          "ID": "171",
          "Latitude": "49.77932412",
          "Longitude": "9.97876207",
          "x": 570465,
          "y": 5514555.0001
         },
         "type": "Feature"
        },
        {
         "geometry": {
          "coordinates": [
           [
            [
             570705,
             5514375
            ],
            [
             570705,
             5514315
            ],
            [
             570645,
             5514315
            ],
            [
             570645,
             5514375
            ],
            [
             570705,
             5514375
            ]
           ]
          ],
          "type": "Polygon"
         },
         "properties": {
          "Class": "Built-Up",
          "Class_ID": "1",
          "ID": "195",
          "Latitude": "49.7774109",
          "Longitude": "9.981640372",
          "x": 570675,
          "y": 5514345
         },
         "type": "Feature"
        },
        {
         "geometry": {
          "coordinates": [
           [
            [
             570225,
             5514735.0003
            ],
            [
             570225,
             5514675.0003
            ],
            [
             570165,
             5514675.0003
            ],
            [
             570165,
             5514735.0003
            ],
            [
             570225,
             5514735.0003
            ]
           ]
          ],
          "type": "Polygon"
         },
         "properties": {
          "Class": "Grassland",
          "Class_ID": "3",
          "ID": "138",
          "Latitude": "49.7807047",
          "Longitude": "9.975039404",
          "x": 570195,
          "y": 5514705.0003
         },
         "type": "Feature"
        },
        {
         "geometry": {
          "coordinates": [
           [
            [
             570285,
             5514675.0004
            ],
            [
             570285,
             5514615.0004
            ],
            [
             570225,
             5514615.0004
            ],
            [
             570225,
             5514675.0004
            ],
            [
             570285,
             5514675.0004
            ]
           ]
          ],
          "type": "Polygon"
         },
         "properties": {
          "Class": "Trees",
          "Class_ID": "2",
          "ID": "167",
          "Latitude": "49.7801581",
          "Longitude": "9.975861865",
          "x": 570255,
          "y": 5514645.0004
         },
         "type": "Feature"
        },
        {
         "geometry": {
          "coordinates": [
           [
            [
             570825,
             5514345.0003
            ],
            [
             570825,
             5514285.0003
            ],
            [
             570765,
             5514285.0003
            ],
            [
             570765,
             5514345.0003
            ],
            [
             570825,
             5514345.0003
            ]
           ]
          ],
          "type": "Polygon"
         },
         "properties": {
          "Class": "Built-Up",
          "Class_ID": "1",
          "ID": "133",
          "Latitude": "49.77712698",
          "Longitude": "9.983301393",
          "x": 570795,
          "y": 5514315.0003
         },
         "type": "Feature"
        },
        {
         "geometry": {
          "coordinates": [
           [
            [
             570915,
             5514344.9996
            ],
            [
             570915,
             5514284.9996
            ],
            [
             570855,
             5514284.9996
            ],
            [
             570855,
             5514344.9996
            ],
            [
             570915,
             5514344.9996
            ]
           ]
          ],
          "type": "Polygon"
         },
         "properties": {
          "Class": "Grassland",
          "Class_ID": "3",
          "ID": "16",
          "Latitude": "49.77711636",
          "Longitude": "9.984551246",
          "x": 570885,
          "y": 5514314.9996
         },
         "type": "Feature"
        },
        {
         "geometry": {
          "coordinates": [
           [
            [
             570675,
             5514225.0003
            ],
            [
             570675,
             5514165.0003
            ],
            [
             570615,
             5514165.0003
            ],
            [
             570615,
             5514225.0003
            ],
            [
             570675,
             5514225.0003
            ]
           ]
          ],
          "type": "Polygon"
         },
         "properties": {
          "Class": "Agriculture",
          "Class_ID": "5",
          "ID": "135",
          "Latitude": "49.77606547",
          "Longitude": "9.981196511",
          "x": 570645,
          "y": 5514195.0003
         },
         "type": "Feature"
        },
        {
         "geometry": {
          "coordinates": [
           [
            [
             570735,
             5514134.9999
            ],
            [
             570735,
             5514074.9999
            ],
            [
             570675,
             5514074.9999
            ],
            [
             570675,
             5514134.9999
            ],
            [
             570735,
             5514134.9999
            ]
           ]
          ],
          "type": "Polygon"
         },
         "properties": {
          "Class": "Trees",
          "Class_ID": "2",
          "ID": "100",
          "Latitude": "49.77524903",
          "Longitude": "9.982013371",
          "x": 570705,
          "y": 5514104.9999
         },
         "type": "Feature"
        },
        {
         "geometry": {
          "coordinates": [
           [
            [
             571005,
             5514075.0003
            ],
            [
             571005,
             5514015.0003
            ],
            [
             570945,
             5514015.0003
            ],
            [
             570945,
             5514075.0003
            ],
            [
             571005,
             5514075.0003
            ]
           ]
          ],
          "type": "Polygon"
         },
         "properties": {
          "Class": "Agriculture",
          "Class_ID": "5",
          "ID": "101",
          "Latitude": "49.77467761",
          "Longitude": "9.985751838",
          "x": 570975,
          "y": 5514045.0003
         },
         "type": "Feature"
        },
        {
         "geometry": {
          "coordinates": [
           [
            [
             569655,
             5514644.9997
            ],
            [
             569655,
             5514584.9997
            ],
            [
             569595,
             5514584.9997
            ],
            [
             569595,
             5514644.9997
            ],
            [
             569655,
             5514644.9997
            ]
           ]
          ],
          "type": "Polygon"
         },
         "properties": {
          "Class": "Grassland",
          "Class_ID": "3",
          "ID": "4",
          "Latitude": "49.77996166",
          "Longitude": "9.967106938",
          "x": 569625,
          "y": 5514614.9997
         },
         "type": "Feature"
        },
        {
         "geometry": {
          "coordinates": [
           [
            [
             568904.5283,
             5514522.7827
            ],
            [
             568904.5283,
             5514462.7827
            ],
            [
             568844.5283,
             5514462.7827
            ],
            [
             568844.5283,
             5514522.7827
            ],
            [
             568904.5283,
             5514522.7827
            ]
           ]
          ],
          "type": "Polygon"
         },
         "properties": {
          "Class": "Built-up",
          "Class_ID": "1",
          "ID": "6",
          "Latitude": "49.77894907",
          "Longitude": "9.956662618",
          "x": 568874.5283,
          "y": 5514492.7827
         },
         "type": "Feature"
        },
        {
         "geometry": {
          "coordinates": [
           [
            [
             568935,
             5514615.0002
            ],
            [
             568935,
             5514555.0002
            ],
            [
             568875,
             5514555.0002
            ],
            [
             568875,
             5514615.0002
            ],
            [
             568935,
             5514615.0002
            ]
           ]
          ],
          "type": "Polygon"
         },
         "properties": {
          "Class": "Trees",
          "Class_ID": "2",
          "ID": "9",
          "Latitude": "49.7797749",
          "Longitude": "9.957102142",
          "x": 568905,
          "y": 5514585.0002
         },
         "type": "Feature"
        },
        {
         "geometry": {
          "coordinates": [
           [
            [
             569535,
             5514644.9999
            ],
            [
             569535,
             5514584.9999
            ],
            [
             569475,
             5514584.9999
            ],
            [
             569475,
             5514644.9999
            ],
            [
             569535,
             5514644.9999
            ]
           ]
          ],
          "type": "Polygon"
         },
         "properties": {
          "Class": "Built-up",
          "Class_ID": "1",
          "ID": "14",
          "Latitude": "49.77997556",
          "Longitude": "9.965440361",
          "x": 569505,
          "y": 5514614.9999
         },
         "type": "Feature"
        },
        {
         "geometry": {
          "coordinates": [
           [
            [
             568965,
             5514374.9998
            ],
            [
             568965,
             5514314.9998
            ],
            [
             568905,
             5514314.9998
            ],
            [
             568905,
             5514374.9998
            ],
            [
             568965,
             5514374.9998
            ]
           ]
          ],
          "type": "Polygon"
         },
         "properties": {
          "Class": "Built-up",
          "Class_ID": "1",
          "ID": "25",
          "Latitude": "49.7776131",
          "Longitude": "9.957476252",
          "x": 568935,
          "y": 5514344.9998
         },
         "type": "Feature"
        },
        {
         "geometry": {
          "coordinates": [
           [
            [
             569730.4039,
             5514867.8987
            ],
            [
             569730.4039,
             5514807.8987
            ],
            [
             569670.4039,
             5514807.8987
            ],
            [
             569670.4039,
             5514867.8987
            ],
            [
             569730.4039,
             5514867.8987
            ]
           ]
          ],
          "type": "Polygon"
         },
         "properties": {
          "Class": "Built-up",
          "Class_ID": "1",
          "ID": "30",
          "Latitude": "49.78195747",
          "Longitude": "9.968194105",
          "x": 569700.4039,
          "y": 5514837.8987
         },
         "type": "Feature"
        },
        {
         "geometry": {
          "coordinates": [
           [
            [
             569445,
             5514434.9997
            ],
            [
             569445,
             5514374.9997
            ],
            [
             569385,
             5514374.9997
            ],
            [
             569385,
             5514434.9997
            ],
            [
             569445,
             5514434.9997
            ]
           ]
          ],
          "type": "Polygon"
         },
         "properties": {
          "Class": "Built-up",
          "Class_ID": "1",
          "ID": "38",
          "Latitude": "49.77809741",
          "Longitude": "9.96415295",
          "x": 569415,
          "y": 5514404.9997
         },
         "type": "Feature"
        },
        {
         "geometry": {
          "coordinates": [
           [
            [
             569385,
             5514344.9997
            ],
            [
             569385,
             5514284.9997
            ],
            [
             569325,
             5514284.9997
            ],
            [
             569325,
             5514344.9997
            ],
            [
             569385,
             5514344.9997
            ]
           ]
          ],
          "type": "Polygon"
         },
         "properties": {
          "Class": "Built-up",
          "Class_ID": "1",
          "ID": "62",
          "Latitude": "49.77729496",
          "Longitude": "9.963303646",
          "x": 569355,
          "y": 5514314.9997
         },
         "type": "Feature"
        },
        {
         "geometry": {
          "coordinates": [
           [
            [
             569475,
             5514705.0002
            ],
            [
             569475,
             5514645.0002
            ],
            [
             569415,
             5514645.0002
            ],
            [
             569415,
             5514705.0002
            ],
            [
             569475,
             5514705.0002
            ]
           ]
          ],
          "type": "Polygon"
         },
         "properties": {
          "Class": "Built-up",
          "Class_ID": "1",
          "ID": "68",
          "Latitude": "49.78052209",
          "Longitude": "9.964617786",
          "x": 569445,
          "y": 5514675.0002
         },
         "type": "Feature"
        },
        {
         "geometry": {
          "coordinates": [
           [
            [
             569175,
             5514315.0003
            ],
            [
             569175,
             5514255.0003
            ],
            [
             569115,
             5514255.0003
            ],
            [
             569115,
             5514315.0003
            ],
            [
             569175,
             5514315.0003
            ]
           ]
          ],
          "type": "Polygon"
         },
         "properties": {
          "Class": "Grassland",
          "Class_ID": "3",
          "ID": "83",
          "Latitude": "49.77704938",
          "Longitude": "9.96038196",
          "x": 569145,
          "y": 5514285.0003
         },
         "type": "Feature"
        },
        {
         "geometry": {
          "coordinates": [
           [
            [
             568961.8947,
             5514469.3476
            ],
            [
             568961.8947,
             5514409.3476
            ],
            [
             568901.8947,
             5514409.3476
            ],
            [
             568901.8947,
             5514469.3476
            ],
            [
             568961.8947,
             5514469.3476
            ]
           ]
          ],
          "type": "Polygon"
         },
         "properties": {
          "Class": "Trees",
          "Class_ID": "2",
          "ID": "85",
          "Latitude": "49.77846194",
          "Longitude": "9.957449846",
          "x": 568931.8947,
          "y": 5514439.3476
         },
         "type": "Feature"
        },
        {
         "geometry": {
          "coordinates": [
           [
            [
             568927.2566,
             5514364.8086
            ],
            [
             568927.2566,
             5514304.8086
            ],
            [
             568867.2566,
             5514304.8086
            ],
            [
             568867.2566,
             5514364.8086
            ],
            [
             568927.2566,
             5514364.8086
            ]
           ]
          ],
          "type": "Polygon"
         },
         "properties": {
          "Class": "Built-up",
          "Class_ID": "1",
          "ID": "108",
          "Latitude": "49.77752578",
          "Longitude": "9.956950285",
          "x": 568897.2566,
          "y": 5514334.8086
         },
         "type": "Feature"
        },
        {
         "geometry": {
          "coordinates": [
           [
            [
             569565,
             5514975.0004
            ],
            [
             569565,
             5514915.0004
            ],
            [
             569505,
             5514915.0004
            ],
            [
             569505,
             5514975.0004
            ],
            [
             569565,
             5514975.0004
            ]
           ]
          ],
          "type": "Polygon"
         },
         "properties": {
          "Class": "Grassland",
          "Class_ID": "3",
          "ID": "121",
          "Latitude": "49.78293982",
          "Longitude": "9.965916009",
          "x": 569535,
          "y": 5514945.0004
         },
         "type": "Feature"
        },
        {
         "geometry": {
          "coordinates": [
           [
            [
             568845,
             5514765.0002
            ],
            [
             568845,
             5514705.0002
            ],
            [
             568785,
             5514705.0002
            ],
            [
             568785,
             5514765.0002
            ],
            [
             568845,
             5514765.0002
            ]
           ]
          ],
          "type": "Polygon"
         },
         "properties": {
          "Class": "Built-up",
          "Class_ID": "1",
          "ID": "137",
          "Latitude": "49.78113419",
          "Longitude": "9.955878751",
          "x": 568815,
          "y": 5514735.0002
         },
         "type": "Feature"
        },
        {
         "geometry": {
          "coordinates": [
           [
            [
             569365.5729,
             5514446.6604
            ],
            [
             569365.5729,
             5514386.6604
            ],
            [
             569305.5729,
             5514386.6604
            ],
            [
             569305.5729,
             5514446.6604
            ],
            [
             569365.5729,
             5514446.6604
            ]
           ]
          ],
          "type": "Polygon"
         },
         "properties": {
          "Class": "Grassland",
          "Class_ID": "3",
          "ID": "147",
          "Latitude": "49.77821145",
          "Longitude": "9.963051975",
          "x": 569335.5729,
          "y": 5514416.6604
         },
         "type": "Feature"
        },
        {
         "geometry": {
          "coordinates": [
           [
            [
             569595,
             5514794.9998
            ],
            [
             569595,
             5514734.9998
            ],
            [
             569535,
             5514734.9998
            ],
            [
             569535,
             5514794.9998
            ],
            [
             569595,
             5514794.9998
            ]
           ]
          ],
          "type": "Polygon"
         },
         "properties": {
          "Class": "Built-up",
          "Class_ID": "1",
          "ID": "150",
          "Latitude": "49.78131758",
          "Longitude": "9.96630048",
          "x": 569565,
          "y": 5514764.9998
         },
         "type": "Feature"
        },
        {
         "geometry": {
          "coordinates": [
           [
            [
             569535,
             5514375.0002
            ],
            [
             569535,
             5514315.0002
            ],
            [
             569475,
             5514315.0002
            ],
            [
             569475,
             5514375.0002
            ],
            [
             569535,
             5514375.0002
            ]
           ]
          ],
          "type": "Polygon"
         },
         "properties": {
          "Class": "Agriculture",
          "Class_ID": "5",
          "ID": "162",
          "Latitude": "49.77754742",
          "Longitude": "9.965392114",
          "x": 569505,
          "y": 5514345.0002
         },
         "type": "Feature"
        },
        {
         "geometry": {
          "coordinates": [
           [
            [
             568845,
             5514884.9995
            ],
            [
             568845,
             5514824.9995
            ],
            [
             568785,
             5514824.9995
            ],
            [
             568785,
             5514884.9995
            ],
            [
             568845,
             5514884.9995
            ]
           ]
          ],
          "type": "Polygon"
         },
         "properties": {
          "Class": "Built-up",
          "Class_ID": "1",
          "ID": "169",
          "Latitude": "49.78221336",
          "Longitude": "9.955899985",
          "x": 568815,
          "y": 5514854.9995
         },
         "type": "Feature"
        },
        {
         "geometry": {
          "coordinates": [
           [
            [
             569475,
             5514644.9999
            ],
            [
             569475,
             5514584.9999
            ],
            [
             569415,
             5514584.9999
            ],
            [
             569415,
             5514644.9999
            ],
            [
             569475,
             5514644.9999
            ]
           ]
          ],
          "type": "Polygon"
         },
         "properties": {
          "Class": "Built-up",
          "Class_ID": "1",
          "ID": "181",
          "Latitude": "49.7799825",
          "Longitude": "9.964607072",
          "x": 569445,
          "y": 5514614.9999
         },
         "type": "Feature"
        },
        {
         "geometry": {
          "coordinates": [
           [
            [
             569655,
             5514464.9998
            ],
            [
             569655,
             5514404.9998
            ],
            [
             569595,
             5514404.9998
            ],
            [
             569595,
             5514464.9998
            ],
            [
             569655,
             5514464.9998
            ]
           ]
          ],
          "type": "Polygon"
         },
         "properties": {
          "Class": "Trees",
          "Class_ID": "2",
          "ID": "186",
          "Latitude": "49.7783429",
          "Longitude": "9.967074717",
          "x": 569625,
          "y": 5514434.9998
         },
         "type": "Feature"
        },
        {
         "geometry": {
          "coordinates": [
           [
            [
             569107.9865,
             5512866.3155
            ],
            [
             569107.9865,
             5512806.3155
            ],
            [
             569047.9865,
             5512806.3155
            ],
            [
             569047.9865,
             5512866.3155
            ],
            [
             569107.9865,
             5512866.3155
            ]
           ]
          ],
          "type": "Polygon"
         },
         "properties": {
          "Class": "Water",
          "Class_ID": "6",
          "ID": "201",
          "Latitude": {},
          "Longitude": {},
          "x": 569077.9865,
          "y": 5512836.3155
         },
         "type": "Feature"
        },
        {
         "geometry": {
          "coordinates": [
           [
            [
             569674.6617,
             5512729.9106
            ],
            [
             569674.6617,
             5512669.9106
            ],
            [
             569614.6617,
             5512669.9106
            ],
            [
             569614.6617,
             5512729.9106
            ],
            [
             569674.6617,
             5512729.9106
            ]
           ]
          ],
          "type": "Polygon"
         },
         "properties": {
          "Class": "Water",
          "Class_ID": "6",
          "ID": "202",
          "Latitude": {},
          "Longitude": {},
          "x": 569644.6617,
          "y": 5512699.9106
         },
         "type": "Feature"
        },
        {
         "geometry": {
          "coordinates": [
           [
            [
             570054.5813,
             5512633.7864
            ],
            [
             570054.5813,
             5512573.7864
            ],
            [
             569994.5813,
             5512573.7864
            ],
            [
             569994.5813,
             5512633.7864
            ],
            [
             570054.5813,
             5512633.7864
            ]
           ]
          ],
          "type": "Polygon"
         },
         "properties": {
          "Class": "Water",
          "Class_ID": "6",
          "ID": "203",
          "Latitude": {},
          "Longitude": {},
          "x": 570024.5813,
          "y": 5512603.7864
         },
         "type": "Feature"
        }
       ],
       "name": "file465865f8c",
       "type": "FeatureCollection"
      },
      "text/plain": [
       "class       : SpatialPolygonsDataFrame \n",
       "features    : 202 \n",
       "extent      : 568695, 571005, 5512574, 5515905  (xmin, xmax, ymin, ymax)\n",
       "crs         : +proj=utm +zone=32 +datum=WGS84 +units=m +no_defs \n",
       "variables   : 7\n",
       "names       : ID,    Latitude,   Longitude, Class_ID,       Class,                x,                y \n",
       "min values  :  1, 49.76178758, 9.954501575,        1, Agriculture, 568724.999983008, 5512603.78641672 \n",
       "max values  : 99, 49.79128601, 9.985751838,        6,       Water, 570974.999973461, 5515875.00039804 "
      ]
     },
     "metadata": {},
     "output_type": "display_data"
    }
   ],
   "source": [
    "td"
   ]
  },
  {
   "cell_type": "code",
   "execution_count": 9,
   "metadata": {},
   "outputs": [
    {
     "data": {
      "image/png": "[encoded data removed]",
      "text/plain": [
       "Plot with title \"\""
      ]
     },
     "metadata": {
      "image/png": {
       "height": 420,
       "width": 420
      }
     },
     "output_type": "display_data"
    }
   ],
   "source": [
    "plot(ROI_wue_indices)"
   ]
  },
  {
   "cell_type": "markdown",
   "metadata": {},
   "source": [
    "## NNET (This is not working too well)"
   ]
  },
  {
   "cell_type": "code",
   "execution_count": 10,
   "metadata": {},
   "outputs": [
    {
     "name": "stderr",
     "output_type": "stream",
     "text": [
      "Begin sampling training data\n",
      "\n",
      "Starting to fit model\n",
      "\n"
     ]
    },
    {
     "name": "stdout",
     "output_type": "stream",
     "text": [
      "# weights:  14\n",
      "initial  value 6018.784033 \n",
      "iter  10 value 5190.474248\n",
      "iter  20 value 5174.818165\n",
      "iter  30 value 4826.438161\n",
      "iter  40 value 4655.166602\n",
      "iter  50 value 4632.677393\n",
      "iter  60 value 4627.709653\n",
      "iter  70 value 4610.977820\n",
      "iter  80 value 4597.714659\n",
      "iter  90 value 4595.952477\n",
      "iter 100 value 4595.793394\n",
      "final  value 4595.793394 \n",
      "stopped after 100 iterations\n",
      "# weights:  30\n",
      "initial  value 5887.800198 \n",
      "iter  10 value 5127.371504\n",
      "iter  20 value 4841.560880\n",
      "iter  30 value 4500.451760\n",
      "iter  40 value 4430.665544\n",
      "iter  50 value 4416.517722\n",
      "iter  60 value 4411.515065\n",
      "iter  70 value 4410.563767\n",
      "iter  80 value 4407.875290\n",
      "iter  90 value 4406.473635\n",
      "iter 100 value 4405.383605\n",
      "final  value 4405.383605 \n",
      "stopped after 100 iterations\n",
      "# weights:  46\n",
      "initial  value 7549.139749 \n",
      "iter  10 value 5173.088413\n",
      "iter  20 value 5074.771699\n",
      "iter  30 value 4635.337135\n",
      "iter  40 value 4453.965720\n",
      "iter  50 value 4316.884513\n",
      "iter  60 value 4213.308278\n",
      "iter  70 value 4187.576012\n",
      "iter  80 value 4182.658332\n",
      "iter  90 value 4177.054752\n",
      "iter 100 value 4174.744454\n",
      "final  value 4174.744454 \n",
      "stopped after 100 iterations\n",
      "# weights:  14\n",
      "initial  value 6286.948704 \n",
      "iter  10 value 5189.053345\n",
      "iter  20 value 5171.453355\n",
      "iter  30 value 4783.197492\n",
      "iter  40 value 4722.479610\n",
      "final  value 4722.177807 \n",
      "converged\n",
      "# weights:  30\n",
      "initial  value 6188.910645 \n",
      "iter  10 value 5025.435643\n",
      "iter  20 value 4815.844942\n",
      "iter  30 value 4673.305449\n",
      "iter  40 value 4566.437035\n",
      "iter  50 value 4546.902496\n",
      "iter  60 value 4542.852082\n",
      "iter  70 value 4541.729000\n",
      "iter  80 value 4539.573636\n",
      "iter  90 value 4539.099144\n",
      "iter 100 value 4538.871805\n",
      "final  value 4538.871805 \n",
      "stopped after 100 iterations\n",
      "# weights:  46\n",
      "initial  value 5814.203618 \n",
      "iter  10 value 5073.871482\n",
      "iter  20 value 4822.652480\n",
      "iter  30 value 4657.745418\n",
      "iter  40 value 4558.783376\n",
      "iter  50 value 4500.278061\n",
      "iter  60 value 4437.349037\n",
      "iter  70 value 4418.979861\n",
      "iter  80 value 4414.814043\n",
      "iter  90 value 4413.632845\n",
      "iter 100 value 4412.375626\n",
      "final  value 4412.375626 \n",
      "stopped after 100 iterations\n",
      "# weights:  14\n",
      "initial  value 6105.556945 \n",
      "iter  10 value 5196.038268\n",
      "iter  20 value 4959.594350\n",
      "iter  30 value 4692.002939\n",
      "iter  40 value 4644.177187\n",
      "iter  50 value 4637.769827\n",
      "iter  60 value 4613.840362\n",
      "iter  70 value 4607.353165\n",
      "iter  80 value 4606.050894\n",
      "final  value 4605.946476 \n",
      "converged\n",
      "# weights:  30\n",
      "initial  value 6699.301880 \n",
      "iter  10 value 5119.215485\n",
      "iter  20 value 4819.096797\n",
      "iter  30 value 4686.858045\n",
      "iter  40 value 4520.149842\n",
      "iter  50 value 4430.311839\n",
      "iter  60 value 4360.684522\n",
      "iter  70 value 4251.507631\n",
      "iter  80 value 4228.288629\n",
      "iter  90 value 4226.539567\n",
      "iter 100 value 4224.331518\n",
      "final  value 4224.331518 \n",
      "stopped after 100 iterations\n",
      "# weights:  46\n",
      "initial  value 6564.058830 \n",
      "iter  10 value 5301.137923\n",
      "iter  20 value 4797.175398\n",
      "iter  30 value 4550.975954\n",
      "iter  40 value 4351.689769\n",
      "iter  50 value 4294.634215\n",
      "iter  60 value 4263.450854\n",
      "iter  70 value 4227.838361\n",
      "iter  80 value 4199.393309\n",
      "iter  90 value 4186.212590\n",
      "iter 100 value 4184.540129\n",
      "final  value 4184.540129 \n",
      "stopped after 100 iterations\n",
      "# weights:  14\n",
      "initial  value 5690.068386 \n",
      "iter  10 value 5189.230754\n",
      "iter  20 value 4970.376800\n",
      "iter  30 value 4810.069348\n",
      "iter  40 value 4728.808553\n",
      "iter  50 value 4663.053587\n",
      "iter  60 value 4646.425460\n",
      "iter  70 value 4644.624339\n",
      "iter  80 value 4630.411000\n",
      "iter  90 value 4624.341304\n",
      "iter 100 value 4622.617397\n",
      "final  value 4622.617397 \n",
      "stopped after 100 iterations\n",
      "# weights:  30\n",
      "initial  value 5820.629828 \n",
      "iter  10 value 5189.534872\n",
      "iter  20 value 5029.549807\n",
      "iter  30 value 4817.141955\n",
      "iter  40 value 4536.419403\n",
      "iter  50 value 4480.596986\n",
      "iter  60 value 4462.063529\n",
      "iter  70 value 4400.041348\n",
      "iter  80 value 4303.672087\n",
      "iter  90 value 4280.469665\n",
      "iter 100 value 4234.141560\n",
      "final  value 4234.141560 \n",
      "stopped after 100 iterations\n",
      "# weights:  46\n",
      "initial  value 6050.049900 \n",
      "iter  10 value 5105.685247\n",
      "iter  20 value 4919.209748\n",
      "iter  30 value 4645.289360\n",
      "iter  40 value 4429.150681\n",
      "iter  50 value 4268.684898\n",
      "iter  60 value 4224.598889\n",
      "iter  70 value 4200.678222\n",
      "iter  80 value 4198.690068\n",
      "iter  90 value 4196.584646\n",
      "iter 100 value 4195.211785\n",
      "final  value 4195.211785 \n",
      "stopped after 100 iterations\n",
      "# weights:  14\n",
      "initial  value 5896.327468 \n",
      "iter  10 value 5145.165683\n",
      "iter  20 value 4935.780765\n",
      "iter  30 value 4769.393959\n",
      "iter  40 value 4762.816076\n",
      "iter  50 value 4762.765858\n",
      "final  value 4762.764602 \n",
      "converged\n",
      "# weights:  30\n",
      "initial  value 5788.762321 \n",
      "iter  10 value 5161.951348\n",
      "iter  20 value 4840.368468\n",
      "iter  30 value 4717.028878\n",
      "iter  40 value 4595.906622\n",
      "iter  50 value 4516.436398\n",
      "iter  60 value 4484.153114\n",
      "iter  70 value 4459.512541\n",
      "iter  80 value 4455.927530\n",
      "iter  90 value 4452.691821\n",
      "final  value 4452.664648 \n",
      "converged\n",
      "# weights:  46\n",
      "initial  value 5736.346316 \n",
      "iter  10 value 5180.383435\n",
      "iter  20 value 4912.987069\n",
      "iter  30 value 4720.463350\n",
      "iter  40 value 4533.403005\n",
      "iter  50 value 4473.357911\n",
      "iter  60 value 4458.853924\n",
      "iter  70 value 4448.153076\n",
      "iter  80 value 4444.457902\n",
      "iter  90 value 4442.529325\n",
      "iter 100 value 4440.848984\n",
      "final  value 4440.848984 \n",
      "stopped after 100 iterations\n",
      "# weights:  14\n",
      "initial  value 5856.511619 \n",
      "iter  10 value 5159.760317\n",
      "iter  20 value 4740.716446\n",
      "iter  30 value 4699.335114\n",
      "iter  40 value 4682.710084\n",
      "iter  50 value 4642.231184\n",
      "iter  60 value 4634.795941\n",
      "iter  70 value 4634.563066\n",
      "iter  80 value 4634.506301\n",
      "final  value 4634.469681 \n",
      "converged\n",
      "# weights:  30\n",
      "initial  value 6179.762775 \n",
      "iter  10 value 5100.949522\n",
      "iter  20 value 4923.464999\n",
      "iter  30 value 4634.471031\n",
      "iter  40 value 4475.450046\n",
      "iter  50 value 4428.969301\n",
      "iter  60 value 4404.684144\n",
      "iter  70 value 4398.671725\n",
      "iter  80 value 4375.905227\n",
      "iter  90 value 4340.108937\n",
      "iter 100 value 4323.321995\n",
      "final  value 4323.321995 \n",
      "stopped after 100 iterations\n",
      "# weights:  46\n",
      "initial  value 6090.870423 \n",
      "iter  10 value 5189.557673\n",
      "iter  20 value 5033.138978\n",
      "iter  30 value 4854.977934\n",
      "iter  40 value 4650.989907\n",
      "iter  50 value 4557.335734\n",
      "iter  60 value 4475.047664\n",
      "iter  70 value 4354.685766\n",
      "iter  80 value 4284.756067\n",
      "iter  90 value 4266.416805\n",
      "iter 100 value 4254.109105\n",
      "final  value 4254.109105 \n",
      "stopped after 100 iterations\n",
      "# weights:  14\n",
      "initial  value 5870.722539 \n",
      "iter  10 value 5186.254827\n",
      "iter  20 value 5182.557160\n",
      "iter  30 value 4957.434874\n",
      "iter  40 value 4674.160845\n",
      "iter  50 value 4624.930076\n",
      "iter  60 value 4616.838016\n",
      "iter  70 value 4586.113255\n",
      "iter  80 value 4558.937690\n",
      "iter  90 value 4557.924069\n",
      "iter 100 value 4557.810520\n",
      "final  value 4557.810520 \n",
      "stopped after 100 iterations\n",
      "# weights:  30\n",
      "initial  value 6777.732451 \n",
      "iter  10 value 5146.617040\n",
      "iter  20 value 4772.819125\n",
      "iter  30 value 4471.672320\n",
      "iter  40 value 4397.729708\n",
      "iter  50 value 4384.401152\n",
      "iter  60 value 4381.154073\n",
      "iter  70 value 4376.848927\n",
      "iter  80 value 4376.297765\n",
      "iter  90 value 4374.951670\n",
      "iter 100 value 4374.406924\n",
      "final  value 4374.406924 \n",
      "stopped after 100 iterations\n",
      "# weights:  46\n",
      "initial  value 5647.094428 \n",
      "iter  10 value 5126.703742\n",
      "iter  20 value 4919.872554\n",
      "iter  30 value 4643.181369\n",
      "iter  40 value 4471.433850\n",
      "iter  50 value 4279.198488\n",
      "iter  60 value 4215.729663\n",
      "iter  70 value 4204.047370\n",
      "iter  80 value 4201.246946\n",
      "iter  90 value 4200.469032\n",
      "iter 100 value 4199.954124\n",
      "final  value 4199.954124 \n",
      "stopped after 100 iterations\n",
      "# weights:  14\n",
      "initial  value 5840.297183 \n",
      "iter  10 value 5049.875243\n",
      "iter  20 value 4751.025676\n",
      "iter  30 value 4705.371276\n",
      "final  value 4705.346056 \n",
      "converged\n",
      "# weights:  30\n",
      "initial  value 5615.001540 \n",
      "iter  10 value 5161.475963\n",
      "iter  20 value 4966.853093\n",
      "iter  30 value 4689.522921\n",
      "iter  40 value 4645.151210\n",
      "iter  50 value 4585.814628\n",
      "iter  60 value 4556.533842\n",
      "iter  70 value 4551.472280\n",
      "iter  80 value 4549.321944\n",
      "iter  90 value 4543.111137\n",
      "iter 100 value 4542.800613\n",
      "final  value 4542.800613 \n",
      "stopped after 100 iterations\n",
      "# weights:  46\n",
      "initial  value 6642.134030 \n",
      "iter  10 value 5171.289972\n",
      "iter  20 value 5037.667947\n",
      "iter  30 value 4707.885264\n",
      "iter  40 value 4585.050471\n",
      "iter  50 value 4545.764471\n",
      "iter  60 value 4539.228873\n",
      "iter  70 value 4535.077942\n",
      "iter  80 value 4495.308998\n",
      "iter  90 value 4469.265319\n",
      "iter 100 value 4460.116083\n",
      "final  value 4460.116083 \n",
      "stopped after 100 iterations\n",
      "# weights:  14\n",
      "initial  value 6087.750863 \n",
      "iter  10 value 5174.896813\n",
      "iter  20 value 4742.728784\n",
      "iter  30 value 4665.188968\n",
      "iter  40 value 4639.214253\n",
      "iter  50 value 4605.756398\n",
      "iter  60 value 4579.542939\n",
      "iter  70 value 4577.745166\n",
      "final  value 4577.245318 \n",
      "converged\n",
      "# weights:  30\n",
      "initial  value 5699.772193 \n",
      "iter  10 value 5042.494110\n",
      "iter  20 value 4679.203430\n",
      "iter  30 value 4539.524394\n",
      "iter  40 value 4453.672313\n",
      "iter  50 value 4444.391684\n",
      "iter  60 value 4426.515075\n",
      "iter  70 value 4420.004550\n",
      "iter  80 value 4400.413711\n",
      "iter  90 value 4381.837957\n",
      "iter 100 value 4377.551843\n",
      "final  value 4377.551843 \n",
      "stopped after 100 iterations\n",
      "# weights:  46\n",
      "initial  value 6119.234284 \n",
      "iter  10 value 5213.167386\n",
      "iter  20 value 4859.739587\n",
      "iter  30 value 4662.917610\n",
      "iter  40 value 4549.539460\n",
      "iter  50 value 4434.607607\n",
      "iter  60 value 4391.940482\n",
      "iter  70 value 4367.832239\n",
      "iter  80 value 4342.752662\n",
      "iter  90 value 4298.951044\n",
      "iter 100 value 4276.953836\n",
      "final  value 4276.953836 \n",
      "stopped after 100 iterations\n",
      "# weights:  14\n",
      "initial  value 6384.561048 \n",
      "iter  10 value 5116.000985\n",
      "iter  20 value 4796.842846\n",
      "iter  30 value 4693.274627\n",
      "iter  40 value 4677.463588\n",
      "iter  50 value 4634.093812\n",
      "iter  60 value 4619.728933\n",
      "iter  70 value 4615.057411\n",
      "iter  80 value 4614.049027\n",
      "iter  90 value 4609.266544\n",
      "iter 100 value 4608.399566\n",
      "final  value 4608.399566 \n",
      "stopped after 100 iterations\n",
      "# weights:  30\n",
      "initial  value 5507.582627 \n",
      "iter  10 value 5185.171376\n",
      "iter  20 value 5029.096646\n",
      "iter  30 value 4647.109862\n",
      "iter  40 value 4547.408864\n",
      "iter  50 value 4429.633660\n",
      "iter  60 value 4425.926320\n",
      "iter  70 value 4425.588546\n",
      "iter  80 value 4425.296588\n",
      "iter  90 value 4425.203277\n",
      "iter 100 value 4425.134427\n",
      "final  value 4425.134427 \n",
      "stopped after 100 iterations\n",
      "# weights:  46\n",
      "initial  value 6132.076339 \n",
      "iter  10 value 5034.916367\n",
      "iter  20 value 4629.091067\n",
      "iter  30 value 4502.560591\n",
      "iter  40 value 4399.696973\n",
      "iter  50 value 4302.771875\n",
      "iter  60 value 4266.527722\n",
      "iter  70 value 4256.278394\n",
      "iter  80 value 4230.363531\n",
      "iter  90 value 4214.065657\n",
      "iter 100 value 4209.855785\n",
      "final  value 4209.855785 \n",
      "stopped after 100 iterations\n",
      "# weights:  14\n",
      "initial  value 5386.019750 \n",
      "iter  10 value 5180.586304\n",
      "iter  20 value 4894.907514\n",
      "iter  30 value 4800.670324\n",
      "iter  40 value 4769.480244\n",
      "iter  50 value 4747.879645\n",
      "final  value 4747.582884 \n",
      "converged\n",
      "# weights:  30\n",
      "initial  value 5592.168982 \n",
      "iter  10 value 5174.692891\n",
      "iter  20 value 4835.358634\n",
      "iter  30 value 4655.859857\n",
      "iter  40 value 4556.268381\n",
      "iter  50 value 4506.605011\n",
      "iter  60 value 4477.822212\n",
      "iter  70 value 4469.281202\n",
      "iter  80 value 4449.191688\n",
      "iter  90 value 4448.688102\n",
      "final  value 4448.687993 \n",
      "converged\n",
      "# weights:  46\n",
      "initial  value 5569.116406 \n",
      "iter  10 value 5064.219158\n",
      "iter  20 value 4800.458033\n",
      "iter  30 value 4558.041864\n",
      "iter  40 value 4497.486579\n",
      "iter  50 value 4466.319782\n",
      "iter  60 value 4448.807854\n",
      "iter  70 value 4440.854821\n",
      "iter  80 value 4438.973408\n",
      "iter  90 value 4437.759943\n",
      "iter 100 value 4437.338805\n",
      "final  value 4437.338805 \n",
      "stopped after 100 iterations\n",
      "# weights:  14\n",
      "initial  value 5691.923218 \n",
      "iter  10 value 5058.481961\n",
      "iter  20 value 4729.208207\n",
      "iter  30 value 4675.717724\n",
      "iter  40 value 4648.519205\n",
      "iter  50 value 4639.216809\n",
      "iter  60 value 4628.412356\n",
      "iter  70 value 4621.829661\n",
      "iter  80 value 4621.157533\n",
      "iter  90 value 4620.786053\n",
      "final  value 4620.669151 \n",
      "converged\n",
      "# weights:  30\n",
      "initial  value 5801.920585 \n",
      "iter  10 value 5077.348178\n",
      "iter  20 value 4881.121021\n",
      "iter  30 value 4706.060032\n",
      "iter  40 value 4543.396062\n",
      "iter  50 value 4391.294527\n",
      "iter  60 value 4285.971954\n",
      "iter  70 value 4243.437577\n",
      "iter  80 value 4233.823100\n",
      "iter  90 value 4230.083363\n",
      "iter 100 value 4229.921081\n",
      "final  value 4229.921081 \n",
      "stopped after 100 iterations\n",
      "# weights:  46\n",
      "initial  value 6832.787213 \n",
      "iter  10 value 5197.965252\n",
      "iter  20 value 4887.896847\n",
      "iter  30 value 4511.616298\n",
      "iter  40 value 4379.524596\n",
      "iter  50 value 4288.232874\n",
      "iter  60 value 4241.304539\n",
      "iter  70 value 4219.778890\n",
      "iter  80 value 4206.435688\n",
      "iter  90 value 4203.954658\n",
      "iter 100 value 4203.265854\n",
      "final  value 4203.265854 \n",
      "stopped after 100 iterations\n",
      "# weights:  14\n",
      "initial  value 5961.942890 \n",
      "iter  10 value 5188.365065\n",
      "iter  20 value 4964.865723\n",
      "iter  30 value 4706.384276\n",
      "iter  40 value 4650.393903\n",
      "iter  50 value 4649.148352\n",
      "iter  60 value 4643.921871\n",
      "iter  70 value 4626.999662\n",
      "iter  80 value 4624.957268\n",
      "iter  90 value 4624.695237\n",
      "iter 100 value 4623.557834\n",
      "final  value 4623.557834 \n",
      "stopped after 100 iterations\n",
      "# weights:  30\n",
      "initial  value 5572.588550 \n",
      "iter  10 value 5190.822762\n",
      "iter  20 value 5036.888899\n",
      "iter  30 value 4708.886986\n",
      "iter  40 value 4534.591233\n",
      "iter  50 value 4462.865472\n",
      "iter  60 value 4445.145723\n",
      "iter  70 value 4443.811692\n",
      "iter  80 value 4441.253394\n",
      "iter  90 value 4438.645910\n",
      "iter 100 value 4437.755605\n",
      "final  value 4437.755605 \n",
      "stopped after 100 iterations\n",
      "# weights:  46\n",
      "initial  value 5985.973364 \n",
      "iter  10 value 5268.681832\n",
      "iter  20 value 4964.690575\n",
      "iter  30 value 4774.129500\n",
      "iter  40 value 4665.310200\n",
      "iter  50 value 4494.876753\n",
      "iter  60 value 4478.812814\n",
      "iter  70 value 4470.641704\n",
      "iter  80 value 4386.663438\n",
      "iter  90 value 4340.182185\n",
      "iter 100 value 4314.978287\n",
      "final  value 4314.978287 \n",
      "stopped after 100 iterations\n",
      "# weights:  14\n",
      "initial  value 5277.615103 \n",
      "iter  10 value 5031.198643\n",
      "iter  20 value 4886.428915\n",
      "iter  30 value 4790.533139\n",
      "iter  40 value 4760.345029\n",
      "iter  50 value 4753.951512\n",
      "iter  50 value 4753.951475\n",
      "iter  50 value 4753.951473\n",
      "final  value 4753.951473 \n",
      "converged\n",
      "# weights:  30\n",
      "initial  value 5772.398168 \n",
      "iter  10 value 5181.494316\n",
      "iter  20 value 4867.632287\n",
      "iter  30 value 4668.556081\n",
      "iter  40 value 4562.578191\n",
      "iter  50 value 4552.124279\n",
      "iter  60 value 4547.382919\n",
      "iter  70 value 4544.677194\n",
      "iter  80 value 4544.145334\n",
      "iter  90 value 4542.733356\n",
      "iter 100 value 4542.653189\n",
      "final  value 4542.653189 \n",
      "stopped after 100 iterations\n",
      "# weights:  46\n",
      "initial  value 5854.472413 \n",
      "iter  10 value 5171.171562\n",
      "iter  20 value 4876.045049\n",
      "iter  30 value 4727.550796\n",
      "iter  40 value 4573.960808\n",
      "iter  50 value 4467.393266\n",
      "iter  60 value 4445.341192\n",
      "iter  70 value 4437.285851\n",
      "iter  80 value 4433.043544\n",
      "iter  90 value 4430.881996\n",
      "iter 100 value 4430.405794\n",
      "final  value 4430.405794 \n",
      "stopped after 100 iterations\n",
      "# weights:  14\n",
      "initial  value 6188.747078 \n",
      "iter  10 value 5072.890515\n",
      "iter  20 value 4804.454720\n",
      "iter  30 value 4694.873286\n",
      "iter  40 value 4658.922908\n",
      "iter  50 value 4656.376910\n",
      "iter  60 value 4639.020603\n",
      "iter  70 value 4638.266031\n",
      "iter  80 value 4638.033034\n",
      "final  value 4638.032039 \n",
      "converged\n",
      "# weights:  30\n",
      "initial  value 6130.994748 \n",
      "iter  10 value 5049.725710\n",
      "iter  20 value 4770.091916\n",
      "iter  30 value 4552.959927\n",
      "iter  40 value 4416.885268\n",
      "iter  50 value 4336.774594\n",
      "iter  60 value 4284.100538\n",
      "iter  70 value 4281.472007\n",
      "iter  80 value 4275.157635\n",
      "iter  90 value 4266.463238\n",
      "iter 100 value 4258.939707\n",
      "final  value 4258.939707 \n",
      "stopped after 100 iterations\n",
      "# weights:  46\n",
      "initial  value 5997.116321 \n",
      "iter  10 value 5179.420960\n",
      "iter  20 value 5075.246388\n",
      "iter  30 value 4702.137280\n",
      "iter  40 value 4506.933256\n",
      "iter  50 value 4466.814434\n",
      "iter  60 value 4456.549417\n",
      "iter  70 value 4444.702880\n",
      "iter  80 value 4349.906407\n",
      "iter  90 value 4301.558837\n",
      "iter 100 value 4287.575257\n",
      "final  value 4287.575257 \n",
      "stopped after 100 iterations\n",
      "# weights:  46\n",
      "initial  value 7503.712872 \n",
      "iter  10 value 6484.805400\n",
      "iter  20 value 6129.843684\n",
      "iter  30 value 5844.365545\n",
      "iter  40 value 5691.719744\n",
      "iter  50 value 5366.831287\n",
      "iter  60 value 5306.473037\n",
      "iter  70 value 5278.088411\n",
      "iter  80 value 5266.545864\n",
      "iter  90 value 5253.231854\n",
      "iter 100 value 5248.935731\n",
      "final  value 5248.935731 \n",
      "stopped after 100 iterations\n"
     ]
    },
    {
     "name": "stderr",
     "output_type": "stream",
     "text": [
      "Starting spatial predict\n",
      "\n"
     ]
    },
    {
     "name": "stdout",
     "output_type": "stream",
     "text": [
      "  |======================================================================| 100%\n",
      "\n"
     ]
    },
    {
     "name": "stderr",
     "output_type": "stream",
     "text": [
      "Begin validation\n",
      "\n",
      "******************** Model summary ********************\n",
      "\n"
     ]
    },
    {
     "name": "stdout",
     "output_type": "stream",
     "text": [
      "Neural Network \n",
      "\n",
      "3913 samples\n",
      "   1 predictor\n",
      "   6 classes: '1', '2', '3', '4', '5', '6' \n",
      "\n",
      "No pre-processing\n",
      "Resampling: Cross-Validated (5 fold) \n",
      "Summary of sample sizes: 3131, 3130, 3129, 3129, 3133 \n",
      "Resampling results across tuning parameters:\n",
      "\n",
      "  size  decay  Accuracy   Kappa    \n",
      "  1     0e+00  0.3391302  0.1432467\n",
      "  1     1e-04  0.3329964  0.1361774\n",
      "  1     1e-01  0.3263506  0.1315194\n",
      "  3     0e+00  0.3869127  0.2146319\n",
      "  3     1e-04  0.4007284  0.2445967\n",
      "  3     1e-01  0.3835823  0.2175400\n",
      "  5     0e+00  0.4111673  0.2587942\n",
      "  5     1e-04  0.4070873  0.2538608\n",
      "  5     1e-01  0.4012432  0.2433079\n",
      "\n",
      "Accuracy was used to select the optimal model using the largest value.\n",
      "The final values used for the model were size = 5 and decay = 0.\n",
      "[[1]]\n",
      "  TrainAccuracy TrainKappa method\n",
      "1     0.4111673  0.2587942   nnet\n",
      "\n",
      "[[2]]\n",
      "Cross-Validated (5 fold) Confusion Matrix \n",
      "\n",
      "(entries are average cell counts across resamples)\n",
      " \n",
      "          Reference\n",
      "Prediction     1     2     3     4     5     6\n",
      "         1 106.8   7.6  50.6  40.6  45.4   0.0\n",
      "         2   5.2  23.6  18.4   5.4  12.0   0.4\n",
      "         3  42.6  34.2  61.6  30.2  30.0   0.2\n",
      "         4  40.4   9.0  42.2  65.8  30.6   0.0\n",
      "         5   0.6   7.2   1.4   1.6  44.2   0.0\n",
      "         6   0.2   4.8   0.0   0.0   0.0  19.8\n",
      "                            \n",
      " Accuracy (average) : 0.4112\n",
      "\n",
      "\n"
     ]
    },
    {
     "name": "stderr",
     "output_type": "stream",
     "text": [
      "******************** Validation summary ********************\n",
      "\n"
     ]
    },
    {
     "name": "stdout",
     "output_type": "stream",
     "text": [
      "Confusion Matrix and Statistics\n",
      "\n",
      "          Reference\n",
      "Prediction   1   2   3   4   5   6\n",
      "         1 280  23  28  33  36   1\n",
      "         2  17  16   9   0  29   0\n",
      "         3  73  62 116  31  77   3\n",
      "         4 195  41  60 107  70   7\n",
      "         5   1   2   2   0  10   0\n",
      "         6   1   0   0   0   0  14\n",
      "\n",
      "Overall Statistics\n",
      "                                          \n",
      "               Accuracy : 0.404           \n",
      "                 95% CI : (0.3776, 0.4308)\n",
      "    No Information Rate : 0.4219          \n",
      "    P-Value [Acc > NIR] : 0.9122          \n",
      "                                          \n",
      "                  Kappa : 0.2338          \n",
      "                                          \n",
      " Mcnemar's Test P-Value : NA              \n",
      "\n",
      "Statistics by Class:\n",
      "\n",
      "                     Class: 1 Class: 2 Class: 3 Class: 4 Class: 5 Class: 6\n",
      "Sensitivity            0.4938  0.11111  0.53953  0.62573  0.04505  0.56000\n",
      "Specificity            0.8443  0.95417  0.78211  0.68201  0.99554  0.99924\n",
      "Pos Pred Value         0.6983  0.22535  0.32044  0.22292  0.66667  0.93333\n",
      "Neg Pred Value         0.6957  0.89945  0.89919  0.92593  0.84048  0.99172\n",
      "Prevalence             0.4219  0.10714  0.15997  0.12723  0.16518  0.01860\n",
      "Detection Rate         0.2083  0.01190  0.08631  0.07961  0.00744  0.01042\n",
      "Detection Prevalence   0.2984  0.05283  0.26935  0.35714  0.01116  0.01116\n",
      "Balanced Accuracy      0.6691  0.53264  0.66082  0.65387  0.52029  0.77962\n"
     ]
    }
   ],
   "source": [
    "sc <- superClass(ROI_wue_indices, trainData=td,\n",
    "                 responseCol = \"Class_ID\",\n",
    "                 model = \"nnet\",\n",
    "                 trainPartition = 0.75,\n",
    "                 mode=\"classification\",\n",
    "                 predict=TRUE,\n",
    "                 filename=\"C:/Users/s1526/Dropbox/EAGLE_Assessments/MB3_Geoinfo/MB3_FINAL/Class_test.tif\",\n",
    "                 overwrite=TRUE,\n",
    "                 verbose=TRUE)"
   ]
  },
  {
   "cell_type": "code",
   "execution_count": 11,
   "metadata": {},
   "outputs": [
    {
     "data": {
      "text/plain": [
       "             Length Class       Mode\n",
       "model            23 train       list\n",
       "modelFit          2 -none-      list\n",
       "training          1 -none-      list\n",
       "validation        3 -none-      list\n",
       "map          970632 RasterLayer S4  \n",
       "classMapping      2 data.frame  list"
      ]
     },
     "metadata": {},
     "output_type": "display_data"
    },
    {
     "data": {
      "text/plain": [
       "Confusion Matrix and Statistics\n",
       "\n",
       "          Reference\n",
       "Prediction   1   2   3   4   5   6\n",
       "         1 280  23  28  33  36   1\n",
       "         2  17  16   9   0  29   0\n",
       "         3  73  62 116  31  77   3\n",
       "         4 195  41  60 107  70   7\n",
       "         5   1   2   2   0  10   0\n",
       "         6   1   0   0   0   0  14\n",
       "\n",
       "Overall Statistics\n",
       "                                          \n",
       "               Accuracy : 0.404           \n",
       "                 95% CI : (0.3776, 0.4308)\n",
       "    No Information Rate : 0.4219          \n",
       "    P-Value [Acc > NIR] : 0.9122          \n",
       "                                          \n",
       "                  Kappa : 0.2338          \n",
       "                                          \n",
       " Mcnemar's Test P-Value : NA              \n",
       "\n",
       "Statistics by Class:\n",
       "\n",
       "                     Class: 1 Class: 2 Class: 3 Class: 4 Class: 5 Class: 6\n",
       "Sensitivity            0.4938  0.11111  0.53953  0.62573  0.04505  0.56000\n",
       "Specificity            0.8443  0.95417  0.78211  0.68201  0.99554  0.99924\n",
       "Pos Pred Value         0.6983  0.22535  0.32044  0.22292  0.66667  0.93333\n",
       "Neg Pred Value         0.6957  0.89945  0.89919  0.92593  0.84048  0.99172\n",
       "Prevalence             0.4219  0.10714  0.15997  0.12723  0.16518  0.01860\n",
       "Detection Rate         0.2083  0.01190  0.08631  0.07961  0.00744  0.01042\n",
       "Detection Prevalence   0.2984  0.05283  0.26935  0.35714  0.01116  0.01116\n",
       "Balanced Accuracy      0.6691  0.53264  0.66082  0.65387  0.52029  0.77962"
      ]
     },
     "metadata": {},
     "output_type": "display_data"
    }
   ],
   "source": [
    "setwd(\"C:/Users/s1526/Dropbox/EAGLE_Assessments/MB3_Geoinfo/MB3_FINAL\")\n",
    "\n",
    "summary(sc)\n",
    "\n",
    "sc$validation$performance\n",
    "\n",
    "save(sc, file = \"RF_model.rda\")"
   ]
  },
  {
   "cell_type": "code",
   "execution_count": 13,
   "metadata": {},
   "outputs": [
    {
     "data": {
      "image/png": "[encoded data removed]",
      "text/plain": [
       "Plot with title \"\""
      ]
     },
     "metadata": {
      "image/png": {
       "height": 420,
       "width": 420
      }
     },
     "output_type": "display_data"
    }
   ],
   "source": [
    "plot(sc$map)"
   ]
  },
  {
   "cell_type": "markdown",
   "metadata": {},
   "source": [
    "## Results:"
   ]
  },
  {
   "cell_type": "markdown",
   "metadata": {},
   "source": [
    "![Result.PNG](Result.png)"
   ]
  }
 ],
 "metadata": {
  "kernelspec": {
   "display_name": "R",
   "language": "R",
   "name": "ir"
  },
  "language_info": {
   "codemirror_mode": "r",
   "file_extension": ".r",
   "mimetype": "text/x-r-source",
   "name": "R",
   "pygments_lexer": "r",
   "version": "4.0.2"
  }
 },
 "nbformat": 4,
 "nbformat_minor": 4
}
