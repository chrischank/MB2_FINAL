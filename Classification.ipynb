{
 "cells": [
  {
   "cell_type": "markdown",
   "metadata": {},
   "source": [
    "# ML Classification from Stacked NDWI, NDVI, IBI, RGB, NIR, MIR"
   ]
  },
  {
   "cell_type": "code",
   "execution_count": 1,
   "metadata": {},
   "outputs": [
    {
     "name": "stderr",
     "output_type": "stream",
     "text": [
      "-- \u001b[1mAttaching packages\u001b[22m --------------------------------------- tidyverse 1.3.0 --\n",
      "\n",
      "\u001b[32mv\u001b[39m \u001b[34mggplot2\u001b[39m 3.3.2     \u001b[32mv\u001b[39m \u001b[34mpurrr  \u001b[39m 0.3.4\n",
      "\u001b[32mv\u001b[39m \u001b[34mtibble \u001b[39m 3.0.1     \u001b[32mv\u001b[39m \u001b[34mdplyr  \u001b[39m 1.0.0\n",
      "\u001b[32mv\u001b[39m \u001b[34mtidyr  \u001b[39m 1.1.0     \u001b[32mv\u001b[39m \u001b[34mstringr\u001b[39m 1.4.0\n",
      "\u001b[32mv\u001b[39m \u001b[34mreadr  \u001b[39m 1.3.1     \u001b[32mv\u001b[39m \u001b[34mforcats\u001b[39m 0.5.0\n",
      "\n",
      "-- \u001b[1mConflicts\u001b[22m ------------------------------------------ tidyverse_conflicts() --\n",
      "\u001b[31mx\u001b[39m \u001b[34mdplyr\u001b[39m::\u001b[32mfilter()\u001b[39m masks \u001b[34mstats\u001b[39m::filter()\n",
      "\u001b[31mx\u001b[39m \u001b[34mdplyr\u001b[39m::\u001b[32mlag()\u001b[39m    masks \u001b[34mstats\u001b[39m::lag()\n",
      "\n",
      "randomForest 4.6-14\n",
      "\n",
      "Type rfNews() to see new features/changes/bug fixes.\n",
      "\n",
      "\n",
      "Attaching package: 'randomForest'\n",
      "\n",
      "\n",
      "The following object is masked from 'package:dplyr':\n",
      "\n",
      "    combine\n",
      "\n",
      "\n",
      "The following object is masked from 'package:ggplot2':\n",
      "\n",
      "    margin\n",
      "\n",
      "\n",
      "Loading required package: raster\n",
      "\n",
      "\n",
      "Attaching package: 'raster'\n",
      "\n",
      "\n",
      "The following object is masked from 'package:e1071':\n",
      "\n",
      "    interpolate\n",
      "\n",
      "\n",
      "The following object is masked from 'package:dplyr':\n",
      "\n",
      "    select\n",
      "\n",
      "\n",
      "The following object is masked from 'package:tidyr':\n",
      "\n",
      "    extract\n",
      "\n",
      "\n",
      "Loading required package: lattice\n",
      "\n",
      "Loading required package: latticeExtra\n",
      "\n",
      "\n",
      "Attaching package: 'latticeExtra'\n",
      "\n",
      "\n",
      "The following object is masked from 'package:ggplot2':\n",
      "\n",
      "    layer\n",
      "\n",
      "\n",
      "rgdal: version: 1.5-12, (SVN revision 1018)\n",
      "Geospatial Data Abstraction Library extensions to R successfully loaded\n",
      "Loaded GDAL runtime: GDAL 3.0.4, released 2020/01/28\n",
      "Path to GDAL shared files: C:/Users/s1526/OneDrive/Documents/R/win-library/4.0/rgdal/gdal\n",
      "GDAL binary built with GEOS: TRUE \n",
      "Loaded PROJ runtime: Rel. 6.3.1, February 10th, 2020, [PJ_VERSION: 631]\n",
      "Path to PROJ shared files: C:\\ProgramData\\Miniconda3\\Library\\share\\proj\n",
      "Linking to sp version:1.4-2\n",
      "To mute warnings of possible GDAL/OSR exportToProj4() degradation,\n",
      "use options(\"rgdal_show_exportToProj4_warnings\"=\"none\") before loading rgdal.\n",
      "Overwritten PROJ_LIB was C:\\ProgramData\\Miniconda3\\Library\\share\\proj\n",
      "\n",
      "\n",
      "Attaching package: 'geojsonio'\n",
      "\n",
      "\n",
      "The following object is masked from 'package:base':\n",
      "\n",
      "    pretty\n",
      "\n",
      "\n",
      "\n",
      "Attaching package: 'caret'\n",
      "\n",
      "\n",
      "The following object is masked from 'package:purrr':\n",
      "\n",
      "    lift\n",
      "\n",
      "\n",
      "Loading required package: gtools\n",
      "\n",
      "\n",
      "Attaching package: 'gtools'\n",
      "\n",
      "\n",
      "The following object is masked from 'package:e1071':\n",
      "\n",
      "    permutations\n",
      "\n",
      "\n"
     ]
    }
   ],
   "source": [
    "library(RStoolbox)\n",
    "library(sp)\n",
    "library(tidyverse)\n",
    "library(e1071)\n",
    "library(randomForest)\n",
    "library(rasterVis)\n",
    "library(rgdal)\n",
    "library(geojsonio)\n",
    "library(caret)\n",
    "library(ClusterR)\n",
    "library(snow)\n",
    "library(nnet)"
   ]
  },
  {
   "cell_type": "code",
   "execution_count": 2,
   "metadata": {},
   "outputs": [],
   "source": [
    "setwd(\"C:/Users/s1526/Dropbox/EAGLE_Assessments/MB3_Geoinfo/MB3_FINAL/Data\")"
   ]
  },
  {
   "cell_type": "markdown",
   "metadata": {},
   "source": [
    "## Read in raster and vector data"
   ]
  },
  {
   "cell_type": "code",
   "execution_count": 3,
   "metadata": {},
   "outputs": [
    {
     "data": {
      "text/html": [
       "<style>\n",
       ".list-inline {list-style: none; margin:0; padding: 0}\n",
       ".list-inline>li {display: inline-block}\n",
       ".list-inline>li:not(:last-child)::after {content: \"\\00b7\"; padding: 0 .5ex}\n",
       "</style>\n",
       "<ol class=list-inline><li>'Chris_Samples'</li><li>'Collection_Antonio'</li><li>'Collection_Diego'</li><li>'Collection_kevin'</li><li>'Luis_FieldSurvey'</li><li>'Merge_df.csv'</li><li>'Merge_df.dbf'</li><li>'Merge_df.shp'</li><li>'Merge_df.shx'</li><li>'Nils_Point_images'</li><li>'Samples_Jakob'</li><li>'Samples_KM'</li><li>'Samples_Maurius'</li><li>'Samples_Sofia'</li><li>'stack_ROI_indices.tif'</li><li>'Training'</li><li>'Wue_ROI_IBI.tif'</li><li>'Wue_ROI_NDVI.tif'</li><li>'Wue_ROI_NDWI.tif'</li><li>'Wue_ROI_RGB.tif'</li></ol>\n"
      ],
      "text/latex": [
       "\\begin{enumerate*}\n",
       "\\item 'Chris\\_Samples'\n",
       "\\item 'Collection\\_Antonio'\n",
       "\\item 'Collection\\_Diego'\n",
       "\\item 'Collection\\_kevin'\n",
       "\\item 'Luis\\_FieldSurvey'\n",
       "\\item 'Merge\\_df.csv'\n",
       "\\item 'Merge\\_df.dbf'\n",
       "\\item 'Merge\\_df.shp'\n",
       "\\item 'Merge\\_df.shx'\n",
       "\\item 'Nils\\_Point\\_images'\n",
       "\\item 'Samples\\_Jakob'\n",
       "\\item 'Samples\\_KM'\n",
       "\\item 'Samples\\_Maurius'\n",
       "\\item 'Samples\\_Sofia'\n",
       "\\item 'stack\\_ROI\\_indices.tif'\n",
       "\\item 'Training'\n",
       "\\item 'Wue\\_ROI\\_IBI.tif'\n",
       "\\item 'Wue\\_ROI\\_NDVI.tif'\n",
       "\\item 'Wue\\_ROI\\_NDWI.tif'\n",
       "\\item 'Wue\\_ROI\\_RGB.tif'\n",
       "\\end{enumerate*}\n"
      ],
      "text/markdown": [
       "1. 'Chris_Samples'\n",
       "2. 'Collection_Antonio'\n",
       "3. 'Collection_Diego'\n",
       "4. 'Collection_kevin'\n",
       "5. 'Luis_FieldSurvey'\n",
       "6. 'Merge_df.csv'\n",
       "7. 'Merge_df.dbf'\n",
       "8. 'Merge_df.shp'\n",
       "9. 'Merge_df.shx'\n",
       "10. 'Nils_Point_images'\n",
       "11. 'Samples_Jakob'\n",
       "12. 'Samples_KM'\n",
       "13. 'Samples_Maurius'\n",
       "14. 'Samples_Sofia'\n",
       "15. 'stack_ROI_indices.tif'\n",
       "16. 'Training'\n",
       "17. 'Wue_ROI_IBI.tif'\n",
       "18. 'Wue_ROI_NDVI.tif'\n",
       "19. 'Wue_ROI_NDWI.tif'\n",
       "20. 'Wue_ROI_RGB.tif'\n",
       "\n",
       "\n"
      ],
      "text/plain": [
       " [1] \"Chris_Samples\"         \"Collection_Antonio\"    \"Collection_Diego\"     \n",
       " [4] \"Collection_kevin\"      \"Luis_FieldSurvey\"      \"Merge_df.csv\"         \n",
       " [7] \"Merge_df.dbf\"          \"Merge_df.shp\"          \"Merge_df.shx\"         \n",
       "[10] \"Nils_Point_images\"     \"Samples_Jakob\"         \"Samples_KM\"           \n",
       "[13] \"Samples_Maurius\"       \"Samples_Sofia\"         \"stack_ROI_indices.tif\"\n",
       "[16] \"Training\"              \"Wue_ROI_IBI.tif\"       \"Wue_ROI_NDVI.tif\"     \n",
       "[19] \"Wue_ROI_NDWI.tif\"      \"Wue_ROI_RGB.tif\"      "
      ]
     },
     "metadata": {},
     "output_type": "display_data"
    }
   ],
   "source": [
    "list.files()"
   ]
  },
  {
   "cell_type": "code",
   "execution_count": 16,
   "metadata": {},
   "outputs": [
    {
     "name": "stdout",
     "output_type": "stream",
     "text": [
      "OGR data source with driver: ESRI Shapefile \n",
      "Source: \"C:\\Users\\s1526\\Dropbox\\EAGLE_Assessments\\MB3_Geoinfo\\MB3_FINAL\\Data\", layer: \"Merge_df\"\n",
      "with 202 features\n",
      "It has 5 fields\n"
     ]
    }
   ],
   "source": [
    "ROI_wue_indices <- raster(\"stack_ROI_indices.tif\", layer=8)\n",
    "Merge_df <- readOGR(\"C:/Users/s1526/Dropbox/EAGLE_Assessments/MB3_Geoinfo/MB3_FINAL/Data\")"
   ]
  },
  {
   "cell_type": "code",
   "execution_count": 17,
   "metadata": {},
   "outputs": [
    {
     "data": {
      "text/plain": [
       "class      : RasterLayer \n",
       "band       : 1  (of  8  bands)\n",
       "dimensions : 732, 1326, 970632  (nrow, ncol, ncell)\n",
       "resolution : 10, 10  (x, y)\n",
       "extent     : 563520, 576780, 5510400, 5517720  (xmin, xmax, ymin, ymax)\n",
       "crs        : +proj=utm +zone=32 +datum=WGS84 +units=m +no_defs \n",
       "source     : C:/Users/s1526/Dropbox/EAGLE_Assessments/MB3_Geoinfo/MB3_FINAL/Data/stack_ROI_indices.tif \n",
       "names      : stack_ROI_indices \n",
       "values     : 0.284402, 0.9865591  (min, max)\n"
      ]
     },
     "metadata": {},
     "output_type": "display_data"
    }
   ],
   "source": [
    "ROI_wue_indices"
   ]
  },
  {
   "cell_type": "code",
   "execution_count": 18,
   "metadata": {},
   "outputs": [],
   "source": [
    "proj4string(Merge_df) <- CRS(\"+init=epsg:32632\")"
   ]
  },
  {
   "cell_type": "code",
   "execution_count": 19,
   "metadata": {},
   "outputs": [],
   "source": [
    "td <- Merge_df"
   ]
  },
  {
   "cell_type": "code",
   "execution_count": 26,
   "metadata": {},
   "outputs": [
    {
     "data": {
      "application/geo+json": {
       "features": [
        {
         "geometry": {
          "coordinates": [
           569655,
           5515275.0005
          ],
          "type": "Point"
         },
         "properties": {
          "Class": "Built-up",
          "Class_ID": "1",
          "ID": "134",
          "Latitude": "49.78589364",
          "Longitude": "9.967641802"
         },
         "type": "Feature"
        },
        {
         "geometry": {
          "coordinates": [
           568725,
           5515364.9999
          ],
          "type": "Point"
         },
         "properties": {
          "Class": "Built-up",
          "Class_ID": "1",
          "ID": "41",
          "Latitude": "49.78681017",
          "Longitude": "9.954740131"
         },
         "type": "Feature"
        },
        {
         "geometry": {
          "coordinates": [
           569325,
           5515785
          ],
          "type": "Point"
         },
         "properties": {
          "Class": "Built-up",
          "Class_ID": "1",
          "ID": "140",
          "Latitude": "49.79051831",
          "Longitude": "9.963149099"
         },
         "type": "Feature"
        },
        {
         "geometry": {
          "coordinates": [
           568725,
           5515335.0003
          ],
          "type": "Point"
         },
         "properties": {
          "Class": "Built-up",
          "Class_ID": "1",
          "ID": "124",
          "Latitude": "49.78654038",
          "Longitude": "9.954734828"
         },
         "type": "Feature"
        },
        {
         "geometry": {
          "coordinates": [
           569055,
           5515635.0005
          ],
          "type": "Point"
         },
         "properties": {
          "Class": "Built-up",
          "Class_ID": "1",
          "ID": "157",
          "Latitude": "49.78920046",
          "Longitude": "9.959371833"
         },
         "type": "Feature"
        },
        {
         "geometry": {
          "coordinates": [
           568845,
           5515515.0005
          ],
          "type": "Point"
         },
         "properties": {
          "Class": "Built-up",
          "Class_ID": "1",
          "ID": "74",
          "Latitude": "49.7881454",
          "Longitude": "9.95643351"
         },
         "type": "Feature"
        },
        {
         "geometry": {
          "coordinates": [
           569235,
           5515064.9999
          ],
          "type": "Point"
         },
         "properties": {
          "Class": "Built-up",
          "Class_ID": "1",
          "ID": "61",
          "Latitude": "49.78405365",
          "Longitude": "9.961770673"
         },
         "type": "Feature"
        },
        {
         "geometry": {
          "coordinates": [
           569175,
           5515304.9995
          ],
          "type": "Point"
         },
         "properties": {
          "Class": "Built-up",
          "Class_ID": "1",
          "ID": "149",
          "Latitude": "49.78621891",
          "Longitude": "9.960980011"
         },
         "type": "Feature"
        },
        {
         "geometry": {
          "coordinates": [
           569235,
           5515574.9999
          ],
          "type": "Point"
         },
         "properties": {
          "Class": "Built-up",
          "Class_ID": "1",
          "ID": "183",
          "Latitude": "49.78864014",
          "Longitude": "9.961861491"
         },
         "type": "Feature"
        },
        {
         "geometry": {
          "coordinates": [
           569625,
           5515395.0003
          ],
          "type": "Point"
         },
         "properties": {
          "Class": "Built-up",
          "Class_ID": "1",
          "ID": "51",
          "Latitude": "49.78697629",
          "Longitude": "9.967246596"
         },
         "type": "Feature"
        },
        {
         "geometry": {
          "coordinates": [
           568725,
           5515754.9996
          ],
          "type": "Point"
         },
         "properties": {
          "Class": "Built-up",
          "Class_ID": "1",
          "ID": "22",
          "Latitude": "49.79031749",
          "Longitude": "9.954809077"
         },
         "type": "Feature"
        },
        {
         "geometry": {
          "coordinates": [
           569445,
           5515244.9995
          ],
          "type": "Point"
         },
         "properties": {
          "Class": "Built-up",
          "Class_ID": "1",
          "ID": "24",
          "Latitude": "49.78564816",
          "Longitude": "9.964719577"
         },
         "type": "Feature"
        },
        {
         "geometry": {
          "coordinates": [
           568905,
           5515844.9995
          ],
          "type": "Point"
         },
         "properties": {
          "Class": "Built-up",
          "Class_ID": "1",
          "ID": "52",
          "Latitude": "49.79110624",
          "Longitude": "9.957325436"
         },
         "type": "Feature"
        },
        {
         "geometry": {
          "coordinates": [
           568815,
           5515364.9995
          ],
          "type": "Point"
         },
         "properties": {
          "Class": "Built-up",
          "Class_ID": "1",
          "ID": "58",
          "Latitude": "49.78679986",
          "Longitude": "9.955990243"
         },
         "type": "Feature"
        },
        {
         "geometry": {
          "coordinates": [
           568845,
           5515545.0001
          ],
          "type": "Point"
         },
         "properties": {
          "Class": "Built-up",
          "Class_ID": "1",
          "ID": "182",
          "Latitude": "49.78841519",
          "Longitude": "9.956438822"
         },
         "type": "Feature"
        },
        {
         "geometry": {
          "coordinates": [
           569535,
           5515035.0004
          ],
          "type": "Point"
         },
         "properties": {
          "Class": "Built-up",
          "Class_ID": "1",
          "ID": "39",
          "Latitude": "49.7837492",
          "Longitude": "9.965932102"
         },
         "type": "Feature"
        },
        {
         "geometry": {
          "coordinates": [
           569355,
           5515124.9998
          ],
          "type": "Point"
         },
         "properties": {
          "Class": "Built-up",
          "Class_ID": "1",
          "ID": "53",
          "Latitude": "49.78457939",
          "Longitude": "9.963448093"
         },
         "type": "Feature"
        },
        {
         "geometry": {
          "coordinates": [
           569025,
           5515635.0005
          ],
          "type": "Point"
         },
         "properties": {
          "Class": "Built-up",
          "Class_ID": "1",
          "ID": "127",
          "Latitude": "49.78920391",
          "Longitude": "9.958955108"
         },
         "type": "Feature"
        },
        {
         "geometry": {
          "coordinates": [
           569475,
           5515185.0003
          ],
          "type": "Point"
         },
         "properties": {
          "Class": "Grassland",
          "Class_ID": "3",
          "ID": "176",
          "Latitude": "49.78510511",
          "Longitude": "9.965125549"
         },
         "type": "Feature"
        },
        {
         "geometry": {
          "coordinates": [
           568725,
           5515754.9996
          ],
          "type": "Point"
         },
         "properties": {
          "Class": "Built-up",
          "Class_ID": "1",
          "ID": "109",
          "Latitude": "49.79031749",
          "Longitude": "9.954809077"
         },
         "type": "Feature"
        },
        {
         "geometry": {
          "coordinates": [
           569624.9815,
           5513985.4448
          ],
          "type": "Point"
         },
         "properties": {
          "Class": "Grassland",
          "Class_ID": "3",
          "ID": "17",
          "Latitude": "49.7743",
          "Longitude": "9.966994"
         },
         "type": "Feature"
        },
        {
         "geometry": {
          "coordinates": [
           569841.5675,
           5514366.3074
          ],
          "type": "Point"
         },
         "properties": {
          "Class": "Grassland",
          "Class_ID": "3",
          "ID": "18",
          "Latitude": "49.7777",
          "Longitude": "9.97007"
         },
         "type": "Feature"
        },
        {
         "geometry": {
          "coordinates": [
           569624.9969,
           5514224.5166
          ],
          "type": "Point"
         },
         "properties": {
          "Class": "Agriculture",
          "Class_ID": "5",
          "ID": "29",
          "Latitude": "49.77645",
          "Longitude": "9.967037"
         },
         "type": "Feature"
        },
        {
         "geometry": {
          "coordinates": [
           569288.1239,
           5514006.6892
          ],
          "type": "Point"
         },
         "properties": {
          "Class": "Trees",
          "Class_ID": "2",
          "ID": "54",
          "Latitude": "49.77453",
          "Longitude": "9.96232"
         },
         "type": "Feature"
        },
        {
         "geometry": {
          "coordinates": [
           569894.9762,
           5514584.9429
          ],
          "type": "Point"
         },
         "properties": {
          "Class": "Built-up",
          "Class_ID": "1",
          "ID": "56",
          "Latitude": "49.77966",
          "Longitude": "9.970851"
         },
         "type": "Feature"
        },
        {
         "geometry": {
          "coordinates": [
           569288.1239,
           5514006.6892
          ],
          "type": "Point"
         },
         "properties": {
          "Class": "Grassland",
          "Class_ID": "3",
          "ID": "95",
          "Latitude": "49.77453",
          "Longitude": "9.96232"
         },
         "type": "Feature"
        },
        {
         "geometry": {
          "coordinates": [
           569925.0118,
           5514645.3776
          ],
          "type": "Point"
         },
         "properties": {
          "Class": "Built-up",
          "Class_ID": "1",
          "ID": "98",
          "Latitude": "49.7802",
          "Longitude": "9.971279"
         },
         "type": "Feature"
        },
        {
         "geometry": {
          "coordinates": [
           569175.0256,
           5514195.3849
          ],
          "type": "Point"
         },
         "properties": {
          "Class": "Built-up",
          "Class_ID": "1",
          "ID": "106",
          "Latitude": "49.77624",
          "Longitude": "9.960783"
         },
         "type": "Feature"
        },
        {
         "geometry": {
          "coordinates": [
           569114.9797,
           5514194.6164
          ],
          "type": "Point"
         },
         "properties": {
          "Class": "Trees",
          "Class_ID": "2",
          "ID": "112",
          "Latitude": "49.77624",
          "Longitude": "9.959949"
         },
         "type": "Feature"
        },
        {
         "geometry": {
          "coordinates": [
           569879.3436,
           5513950.922
          ],
          "type": "Point"
         },
         "properties": {
          "Class": "Grassland",
          "Class_ID": "3",
          "ID": "118",
          "Latitude": "49.77396",
          "Longitude": "9.97052"
         },
         "type": "Feature"
        },
        {
         "geometry": {
          "coordinates": [
           569595.0027,
           5514015.0814
          ],
          "type": "Point"
         },
         "properties": {
          "Class": "Vineyards",
          "Class_ID": "4",
          "ID": "125",
          "Latitude": "49.77457",
          "Longitude": "9.966583"
         },
         "type": "Feature"
        },
        {
         "geometry": {
          "coordinates": [
           569888.9821,
           5514263.5081
          ],
          "type": "Point"
         },
         "properties": {
          "Class": "Built-up",
          "Class_ID": "1",
          "ID": "131",
          "Latitude": "49.77677",
          "Longitude": "9.97071"
         },
         "type": "Feature"
        },
        {
         "geometry": {
          "coordinates": [
           569288.1239,
           5514006.6892
          ],
          "type": "Point"
         },
         "properties": {
          "Class": "Grassland",
          "Class_ID": "3",
          "ID": "146",
          "Latitude": "49.77453",
          "Longitude": "9.96232"
         },
         "type": "Feature"
        },
        {
         "geometry": {
          "coordinates": [
           569841.5675,
           5514366.3074
          ],
          "type": "Point"
         },
         "properties": {
          "Class": "Grassland",
          "Class_ID": "3",
          "ID": "151",
          "Latitude": "49.7777",
          "Longitude": "9.97007"
         },
         "type": "Feature"
        },
        {
         "geometry": {
          "coordinates": [
           569879.3436,
           5513950.922
          ],
          "type": "Point"
         },
         "properties": {
          "Class": "Grassland",
          "Class_ID": "3",
          "ID": "159",
          "Latitude": "49.77396",
          "Longitude": "9.97052"
         },
         "type": "Feature"
        },
        {
         "geometry": {
          "coordinates": [
           569828.1065,
           5513903.5572
          ],
          "type": "Point"
         },
         "properties": {
          "Class": "Grassland",
          "Class_ID": "3",
          "ID": "164",
          "Latitude": "49.77354",
          "Longitude": "9.9698"
         },
         "type": "Feature"
        },
        {
         "geometry": {
          "coordinates": [
           569658.099,
           5514187.1366
          ],
          "type": "Point"
         },
         "properties": {
          "Class": "Built-up",
          "Class_ID": "1",
          "ID": "174",
          "Latitude": "49.77611",
          "Longitude": "9.96749"
         },
         "type": "Feature"
        },
        {
         "geometry": {
          "coordinates": [
           569961.7993,
           5514089.8725
          ],
          "type": "Point"
         },
         "properties": {
          "Class": "Grassland",
          "Class_ID": "3",
          "ID": "185",
          "Latitude": "49.7752",
          "Longitude": "9.97169"
         },
         "type": "Feature"
        },
        {
         "geometry": {
          "coordinates": [
           570253.3371,
           5514374.9826
          ],
          "type": "Point"
         },
         "properties": {
          "Class": "Agriculture",
          "Class_ID": "5",
          "ID": "187",
          "Latitude": "49.77773",
          "Longitude": "9.97579"
         },
         "type": "Feature"
        },
        {
         "geometry": {
          "coordinates": [
           569301.4478,
           5513922.3512
          ],
          "type": "Point"
         },
         "properties": {
          "Class": "Vineyards",
          "Class_ID": "4",
          "ID": "191",
          "Latitude": "49.77377",
          "Longitude": "9.96249"
         },
         "type": "Feature"
        },
        {
         "geometry": {
          "coordinates": [
           568905,
           5513625.0004
          ],
          "type": "Point"
         },
         "properties": {
          "Class": "Build-up",
          "Class_ID": "1",
          "ID": "7",
          "Latitude": "49.77114148",
          "Longitude": "9.956932109"
         },
         "type": "Feature"
        },
        {
         "geometry": {
          "coordinates": [
           568755,
           5513714.9994
          ],
          "type": "Point"
         },
         "properties": {
          "Class": "Build-up",
          "Class_ID": "1",
          "ID": "23",
          "Latitude": "49.77196804",
          "Longitude": "9.954865162"
         },
         "type": "Feature"
        },
        {
         "geometry": {
          "coordinates": [
           569625,
           5513655.0004
          ],
          "type": "Point"
         },
         "properties": {
          "Class": "Vineyards",
          "Class_ID": "4",
          "ID": "26",
          "Latitude": "49.77132827",
          "Longitude": "9.966935127"
         },
         "type": "Feature"
        },
        {
         "geometry": {
          "coordinates": [
           568755,
           5513595.0005
          ],
          "type": "Point"
         },
         "properties": {
          "Class": "Vineyards",
          "Class_ID": "4",
          "ID": "27",
          "Latitude": "49.77088887",
          "Longitude": "9.954843959"
         },
         "type": "Feature"
        },
        {
         "geometry": {
          "coordinates": [
           568785,
           5513654.9998
          ],
          "type": "Point"
         },
         "properties": {
          "Class": "Build-up",
          "Class_ID": "1",
          "ID": "35",
          "Latitude": "49.77142502",
          "Longitude": "9.955271133"
         },
         "type": "Feature"
        },
        {
         "geometry": {
          "coordinates": [
           569625,
           5513684.9999
          ],
          "type": "Point"
         },
         "properties": {
          "Class": "Vineyards",
          "Class_ID": "4",
          "ID": "73",
          "Latitude": "49.77159806",
          "Longitude": "9.966940494"
         },
         "type": "Feature"
        },
        {
         "geometry": {
          "coordinates": [
           569655,
           5513444.9997
          ],
          "type": "Point"
         },
         "properties": {
          "Class": "Agriculture",
          "Class_ID": "5",
          "ID": "78",
          "Latitude": "49.76943623",
          "Longitude": "9.967314108"
         },
         "type": "Feature"
        },
        {
         "geometry": {
          "coordinates": [
           568875,
           5513775
          ],
          "type": "Point"
         },
         "properties": {
          "Class": "Build-up",
          "Class_ID": "1",
          "ID": "79",
          "Latitude": "49.77249389",
          "Longitude": "9.95654209"
         },
         "type": "Feature"
        },
        {
         "geometry": {
          "coordinates": [
           569925,
           5513655.0003
          ],
          "type": "Point"
         },
         "properties": {
          "Class": "Agriculture",
          "Class_ID": "5",
          "ID": "81",
          "Latitude": "49.77129343",
          "Longitude": "9.971100823"
         },
         "type": "Feature"
        },
        {
         "geometry": {
          "coordinates": [
           569685,
           5513654.9999
          ],
          "type": "Point"
         },
         "properties": {
          "Class": "Agriculture",
          "Class_ID": "5",
          "ID": "89",
          "Latitude": "49.77132131",
          "Longitude": "9.967768267"
         },
         "type": "Feature"
        },
        {
         "geometry": {
          "coordinates": [
           569955,
           5513234.9995
          ],
          "type": "Point"
         },
         "properties": {
          "Class": "Vineyards",
          "Class_ID": "4",
          "ID": "103",
          "Latitude": "49.76751282",
          "Longitude": "9.971441895"
         },
         "type": "Feature"
        },
        {
         "geometry": {
          "coordinates": [
           568965,
           5513475
          ],
          "type": "Point"
         },
         "properties": {
          "Class": "Vineyards",
          "Class_ID": "4",
          "ID": "105",
          "Latitude": "49.76978562",
          "Longitude": "9.957738665"
         },
         "type": "Feature"
        },
        {
         "geometry": {
          "coordinates": [
           568725,
           5514014.9995
          ],
          "type": "Point"
         },
         "properties": {
          "Class": "Build-up",
          "Class_ID": "1",
          "ID": "107",
          "Latitude": "49.77466942",
          "Longitude": "9.954501575"
         },
         "type": "Feature"
        },
        {
         "geometry": {
          "coordinates": [
           569205,
           5513625.0004
          ],
          "type": "Point"
         },
         "properties": {
          "Class": "Vineyards",
          "Class_ID": "4",
          "ID": "165",
          "Latitude": "49.771107",
          "Longitude": "9.961097802"
         },
         "type": "Feature"
        },
        {
         "geometry": {
          "coordinates": [
           568785,
           5513685.0004
          ],
          "type": "Point"
         },
         "properties": {
          "Class": "Build-up",
          "Class_ID": "1",
          "ID": "175",
          "Latitude": "49.77169482",
          "Longitude": "9.955276436"
         },
         "type": "Feature"
        },
        {
         "geometry": {
          "coordinates": [
           568845,
           5513955.0005
          ],
          "type": "Point"
         },
         "properties": {
          "Class": "Build-up",
          "Class_ID": "1",
          "ID": "178",
          "Latitude": "49.7741161",
          "Longitude": "9.956157358"
         },
         "type": "Feature"
        },
        {
         "geometry": {
          "coordinates": [
           569385,
           5513684.9995
          ],
          "type": "Point"
         },
         "properties": {
          "Class": "Trees",
          "Class_ID": "2",
          "ID": "180",
          "Latitude": "49.77162582",
          "Longitude": "9.963607913"
         },
         "type": "Feature"
        },
        {
         "geometry": {
          "coordinates": [
           569025,
           5513595.0002
          ],
          "type": "Point"
         },
         "properties": {
          "Class": "Trees",
          "Class_ID": "2",
          "ID": "189",
          "Latitude": "49.77085791",
          "Longitude": "9.958593066"
         },
         "type": "Feature"
        },
        {
         "geometry": {
          "coordinates": [
           568815,
           5513894.9996
          ],
          "type": "Point"
         },
         "properties": {
          "Class": "Build-up",
          "Class_ID": "1",
          "ID": "197",
          "Latitude": "49.77357994",
          "Longitude": "9.955730151"
         },
         "type": "Feature"
        },
        {
         "geometry": {
          "coordinates": [
           569985,
           5513355.0005
          ],
          "type": "Point"
         },
         "properties": {
          "Class": "Vineyards",
          "Class_ID": "4",
          "ID": "198",
          "Latitude": "49.76858851",
          "Longitude": "9.97188001"
         },
         "type": "Feature"
        },
        {
         "geometry": {
          "coordinates": [
           568785,
           5512665.0003
          ],
          "type": "Point"
         },
         "properties": {
          "Class": "Built-up",
          "Class_ID": "1",
          "ID": "8",
          "Latitude": "49.76252179",
          "Longitude": "9.955096174"
         },
         "type": "Feature"
        },
        {
         "geometry": {
          "coordinates": [
           569205,
           5513085.0003
          ],
          "type": "Point"
         },
         "properties": {
          "Class": "Grassland",
          "Class_ID": "3",
          "ID": "10",
          "Latitude": "49.7662507",
          "Longitude": "9.961001778"
         },
         "type": "Feature"
        },
        {
         "geometry": {
          "coordinates": [
           568905,
           5512844.9998
          ],
          "type": "Point"
         },
         "properties": {
          "Class": "tree",
          "Class_ID": "2",
          "ID": "12",
          "Latitude": "49.76412681",
          "Longitude": "9.956794018"
         },
         "type": "Feature"
        },
        {
         "geometry": {
          "coordinates": [
           568785,
           5513354.9996
          ],
          "type": "Point"
         },
         "properties": {
          "Class": "vineyard",
          "Class_ID": "4",
          "ID": "20",
          "Latitude": "49.76872707",
          "Longitude": "9.955218106"
         },
         "type": "Feature"
        },
        {
         "geometry": {
          "coordinates": [
           568815,
           5513084.9995
          ],
          "type": "Point"
         },
         "properties": {
          "Class": "tree",
          "Class_ID": "2",
          "ID": "21",
          "Latitude": "49.76629548",
          "Longitude": "9.955586917"
         },
         "type": "Feature"
        },
        {
         "geometry": {
          "coordinates": [
           569145,
           5513115.0002
          ],
          "type": "Point"
         },
         "properties": {
          "Class": "Built-up",
          "Class_ID": "1",
          "ID": "37",
          "Latitude": "49.7665274",
          "Longitude": "9.960174053"
         },
         "type": "Feature"
        },
        {
         "geometry": {
          "coordinates": [
           569685,
           5513204.9997
          ],
          "type": "Point"
         },
         "properties": {
          "Class": "vineyard",
          "Class_ID": "4",
          "ID": "69",
          "Latitude": "49.7672744",
          "Longitude": "9.967687689"
         },
         "type": "Feature"
        },
        {
         "geometry": {
          "coordinates": [
           569175,
           5513294.9997
          ],
          "type": "Point"
         },
         "properties": {
          "Class": "Built-up",
          "Class_ID": "1",
          "ID": "76",
          "Latitude": "49.76814271",
          "Longitude": "9.960622574"
         },
         "type": "Feature"
        },
        {
         "geometry": {
          "coordinates": [
           568935,
           5512904.9999
          ],
          "type": "Point"
         },
         "properties": {
          "Class": "water",
          "Class_ID": "6",
          "ID": "77",
          "Latitude": "49.76466296",
          "Longitude": "9.957221152"
         },
         "type": "Feature"
        },
        {
         "geometry": {
          "coordinates": [
           569085,
           5513144.9996
          ],
          "type": "Point"
         },
         "properties": {
          "Class": "Grassland",
          "Class_ID": "3",
          "ID": "80",
          "Latitude": "49.76680409",
          "Longitude": "9.959346318"
         },
         "type": "Feature"
        },
        {
         "geometry": {
          "coordinates": [
           569115,
           5512934.9998
          ],
          "type": "Point"
         },
         "properties": {
          "Class": "Built-up",
          "Class_ID": "1",
          "ID": "99",
          "Latitude": "49.76491208",
          "Longitude": "9.959725562"
         },
         "type": "Feature"
        },
        {
         "geometry": {
          "coordinates": [
           569175,
           5512634.9999
          ],
          "type": "Point"
         },
         "properties": {
          "Class": "Built-up",
          "Class_ID": "1",
          "ID": "102",
          "Latitude": "49.76220723",
          "Longitude": "9.960505286"
         },
         "type": "Feature"
        },
        {
         "geometry": {
          "coordinates": [
           569745,
           5513265.0001
          ],
          "type": "Point"
         },
         "properties": {
          "Class": "vineyard",
          "Class_ID": "4",
          "ID": "115",
          "Latitude": "49.76780703",
          "Longitude": "9.968531511"
         },
         "type": "Feature"
        },
        {
         "geometry": {
          "coordinates": [
           568995,
           5512725.0004
          ],
          "type": "Point"
         },
         "properties": {
          "Class": "Grassland",
          "Class_ID": "3",
          "ID": "116",
          "Latitude": "49.76303731",
          "Longitude": "9.958022278"
         },
         "type": "Feature"
        },
        {
         "geometry": {
          "coordinates": [
           569505,
           5513024.9995
          ],
          "type": "Point"
         },
         "properties": {
          "Class": "vineyard",
          "Class_ID": "4",
          "ID": "128",
          "Latitude": "49.76567648",
          "Longitude": "9.965156333"
         },
         "type": "Feature"
        },
        {
         "geometry": {
          "coordinates": [
           569595,
           5513054.9997
          ],
          "type": "Point"
         },
         "properties": {
          "Class": "Grassland",
          "Class_ID": "3",
          "ID": "132",
          "Latitude": "49.76593586",
          "Longitude": "9.966411262"
         },
         "type": "Feature"
        },
        {
         "geometry": {
          "coordinates": [
           569235,
           5513294.9997
          ],
          "type": "Point"
         },
         "properties": {
          "Class": "vineyard",
          "Class_ID": "4",
          "ID": "148",
          "Latitude": "49.7681358",
          "Longitude": "9.961455661"
         },
         "type": "Feature"
        },
        {
         "geometry": {
          "coordinates": [
           569235,
           5513084.9999
          ],
          "type": "Point"
         },
         "properties": {
          "Class": "Built-up",
          "Class_ID": "1",
          "ID": "156",
          "Latitude": "49.76624724",
          "Longitude": "9.961418306"
         },
         "type": "Feature"
        },
        {
         "geometry": {
          "coordinates": [
           569475,
           5513415.0002
          ],
          "type": "Point"
         },
         "properties": {
          "Class": "vineyard",
          "Class_ID": "4",
          "ID": "192",
          "Latitude": "49.76918728",
          "Longitude": "9.964809428"
         },
         "type": "Feature"
        },
        {
         "geometry": {
          "coordinates": [
           568755,
           5512815.0004
          ],
          "type": "Point"
         },
         "properties": {
          "Class": "Grassland",
          "Class_ID": "3",
          "ID": "196",
          "Latitude": "49.7638742",
          "Longitude": "9.95470617"
         },
         "type": "Feature"
        },
        {
         "geometry": {
          "coordinates": [
           570945,
           5513745.0002
          ],
          "type": "Point"
         },
         "properties": {
          "Class": "Agriculture",
          "Class_ID": "5",
          "ID": "19",
          "Latitude": "49.77198323",
          "Longitude": "9.98528054"
         },
         "type": "Feature"
        },
        {
         "geometry": {
          "coordinates": [
           570585,
           5513264.9994
          ],
          "type": "Point"
         },
         "properties": {
          "Class": "Agriculture",
          "Class_ID": "5",
          "ID": "31",
          "Latitude": "49.76770894",
          "Longitude": "9.980194591"
         },
         "type": "Feature"
        },
        {
         "geometry": {
          "coordinates": [
           570585,
           5513505.0002
          ],
          "type": "Point"
         },
         "properties": {
          "Class": "Agriculture",
          "Class_ID": "5",
          "ID": "40",
          "Latitude": "49.76986729",
          "Longitude": "9.980238119"
         },
         "type": "Feature"
        },
        {
         "geometry": {
          "coordinates": [
           570375,
           5513205
          ],
          "type": "Point"
         },
         "properties": {
          "Class": "Agriculture",
          "Class_ID": "5",
          "ID": "55",
          "Latitude": "49.76719399",
          "Longitude": "9.977267978"
         },
         "type": "Feature"
        },
        {
         "geometry": {
          "coordinates": [
           570705,
           5513295
          ],
          "type": "Point"
         },
         "properties": {
          "Class": "Agriculture",
          "Class_ID": "5",
          "ID": "60",
          "Latitude": "49.76796463",
          "Longitude": "9.98186619"
         },
         "type": "Feature"
        },
        {
         "geometry": {
          "coordinates": [
           570315,
           5513684.9995
          ],
          "type": "Point"
         },
         "properties": {
          "Class": "Agriculture",
          "Class_ID": "5",
          "ID": "70",
          "Latitude": "49.7715177",
          "Longitude": "9.976521638"
         },
         "type": "Feature"
        },
        {
         "geometry": {
          "coordinates": [
           570525,
           5513955.0005
          ],
          "type": "Point"
         },
         "properties": {
          "Class": "Grassland",
          "Class_ID": "3",
          "ID": "72",
          "Latitude": "49.77392123",
          "Longitude": "9.979486568"
         },
         "type": "Feature"
        },
        {
         "geometry": {
          "coordinates": [
           570225,
           5513385.0002
          ],
          "type": "Point"
         },
         "properties": {
          "Class": "Vineyards",
          "Class_ID": "4",
          "ID": "87",
          "Latitude": "49.7688303",
          "Longitude": "9.975217789"
         },
         "type": "Feature"
        },
        {
         "geometry": {
          "coordinates": [
           570885,
           5513414.9996
          ],
          "type": "Point"
         },
         "properties": {
          "Class": "Agriculture",
          "Class_ID": "5",
          "ID": "104",
          "Latitude": "49.76902259",
          "Longitude": "9.984387281"
         },
         "type": "Feature"
        },
        {
         "geometry": {
          "coordinates": [
           570435,
           5513834.9997
          ],
          "type": "Point"
         },
         "properties": {
          "Class": "Built-up",
          "Class_ID": "1",
          "ID": "126",
          "Latitude": "49.77285261",
          "Longitude": "9.978215072"
         },
         "type": "Feature"
        },
        {
         "geometry": {
          "coordinates": [
           570105,
           5513805.0003
          ],
          "type": "Point"
         },
         "properties": {
          "Class": "Trees",
          "Class_ID": "2",
          "ID": "142",
          "Latitude": "49.77262142",
          "Longitude": "9.973627262"
         },
         "type": "Feature"
        },
        {
         "geometry": {
          "coordinates": [
           570765,
           5513834.9996
          ],
          "type": "Point"
         },
         "properties": {
          "Class": "Agriculture",
          "Class_ID": "5",
          "ID": "143",
          "Latitude": "49.77281383",
          "Longitude": "9.982797466"
         },
         "type": "Feature"
        },
        {
         "geometry": {
          "coordinates": [
           570255,
           5513774.9997
          ],
          "type": "Point"
         },
         "properties": {
          "Class": "Trees",
          "Class_ID": "2",
          "ID": "145",
          "Latitude": "49.7723341",
          "Longitude": "9.975704746"
         },
         "type": "Feature"
        },
        {
         "geometry": {
          "coordinates": [
           570405,
           5513954.9999
          ],
          "type": "Point"
         },
         "properties": {
          "Class": "Grassland",
          "Class_ID": "3",
          "ID": "152",
          "Latitude": "49.7739353",
          "Longitude": "9.977820204"
         },
         "type": "Feature"
        },
        {
         "geometry": {
          "coordinates": [
           570615,
           5513924.9999
          ],
          "type": "Point"
         },
         "properties": {
          "Class": "Agriculture",
          "Class_ID": "5",
          "ID": "155",
          "Latitude": "49.77364086",
          "Longitude": "9.980730895"
         },
         "type": "Feature"
        },
        {
         "geometry": {
          "coordinates": [
           570795,
           5513384.9999
          ],
          "type": "Point"
         },
         "properties": {
          "Class": "Agriculture",
          "Class_ID": "5",
          "ID": "158",
          "Latitude": "49.76876341",
          "Longitude": "9.983132179"
         },
         "type": "Feature"
        },
        {
         "geometry": {
          "coordinates": [
           570735,
           5513564.9996
          ],
          "type": "Point"
         },
         "properties": {
          "Class": "Agriculture",
          "Class_ID": "5",
          "ID": "173",
          "Latitude": "49.77038923",
          "Longitude": "9.982331804"
         },
         "type": "Feature"
        },
        {
         "geometry": {
          "coordinates": [
           570195,
           5513895.0002
          ],
          "type": "Point"
         },
         "properties": {
          "Class": "Trees",
          "Class_ID": "2",
          "ID": "177",
          "Latitude": "49.77342029",
          "Longitude": "9.97489324"
         },
         "type": "Feature"
        },
        {
         "geometry": {
          "coordinates": [
           570585,
           5513774.9996
          ],
          "type": "Point"
         },
         "properties": {
          "Class": "Agriculture",
          "Class_ID": "5",
          "ID": "194",
          "Latitude": "49.77229542",
          "Longitude": "9.980287095"
         },
         "type": "Feature"
        },
        {
         "geometry": {
          "coordinates": [
           570225,
           5513594.9999
          ],
          "type": "Point"
         },
         "properties": {
          "Class": "Agriculture",
          "Class_ID": "5",
          "ID": "199",
          "Latitude": "49.77071885",
          "Longitude": "9.975255684"
         },
         "type": "Feature"
        },
        {
         "geometry": {
          "coordinates": [
           570525,
           5512785
          ],
          "type": "Point"
         },
         "properties": {
          "Class": "Vineyards",
          "Class_ID": "4",
          "ID": "2",
          "Latitude": "49.7633993",
          "Longitude": "9.979274549"
         },
         "type": "Feature"
        },
        {
         "geometry": {
          "coordinates": [
           570945,
           5512844.9997
          ],
          "type": "Point"
         },
         "properties": {
          "Class": "Vineyards",
          "Class_ID": "4",
          "ID": "3",
          "Latitude": "49.76388945",
          "Longitude": "9.985116484"
         },
         "type": "Feature"
        },
        {
         "geometry": {
          "coordinates": [
           569895,
           5512605.0005
          ],
          "type": "Point"
         },
         "properties": {
          "Class": "Water",
          "Class_ID": "2",
          "ID": "11",
          "Latitude": "49.76185414",
          "Longitude": "9.970495702"
         },
         "type": "Feature"
        },
        {
         "geometry": {
          "coordinates": [
           570525,
           5513055.0002
          ],
          "type": "Point"
         },
         "properties": {
          "Class": "Agriculture",
          "Class_ID": "5",
          "ID": "13",
          "Latitude": "49.76582744",
          "Longitude": "9.979323465"
         },
         "type": "Feature"
        },
        {
         "geometry": {
          "coordinates": [
           569835,
           5513115.0003
          ],
          "type": "Point"
         },
         "properties": {
          "Class": "Vineyards",
          "Class_ID": "4",
          "ID": "33",
          "Latitude": "49.76644761",
          "Longitude": "9.969754216"
         },
         "type": "Feature"
        },
        {
         "geometry": {
          "coordinates": [
           569865,
           5512964.9999
          ],
          "type": "Point"
         },
         "properties": {
          "Class": "Agriculture",
          "Class_ID": "5",
          "ID": "34",
          "Latitude": "49.76509515",
          "Longitude": "9.970143821"
         },
         "type": "Feature"
        },
        {
         "geometry": {
          "coordinates": [
           570375,
           5513054.9996
          ],
          "type": "Point"
         },
         "properties": {
          "Class": "Agriculture",
          "Class_ID": "5",
          "ID": "36",
          "Latitude": "49.76584502",
          "Longitude": "9.977240857"
         },
         "type": "Feature"
        },
        {
         "geometry": {
          "coordinates": [
           570165,
           5512814.9999
          ],
          "type": "Point"
         },
         "properties": {
          "Class": "Vineyards",
          "Class_ID": "4",
          "ID": "44",
          "Latitude": "49.76371123",
          "Longitude": "9.974281943"
         },
         "type": "Feature"
        },
        {
         "geometry": {
          "coordinates": [
           569745,
           5512635.0005
          ],
          "type": "Point"
         },
         "properties": {
          "Class": "Water",
          "Class_ID": "2",
          "ID": "45",
          "Latitude": "49.76214136",
          "Longitude": "9.968418633"
         },
         "type": "Feature"
        },
        {
         "geometry": {
          "coordinates": [
           570015,
           5513054.9994
          ],
          "type": "Point"
         },
         "properties": {
          "Class": "Vineyards",
          "Class_ID": "4",
          "ID": "48",
          "Latitude": "49.76588707",
          "Longitude": "9.97224259"
         },
         "type": "Feature"
        },
        {
         "geometry": {
          "coordinates": [
           570855,
           5512695.0004
          ],
          "type": "Point"
         },
         "properties": {
          "Class": "Vineyards",
          "Class_ID": "4",
          "ID": "50",
          "Latitude": "49.76255111",
          "Longitude": "9.98383967"
         },
         "type": "Feature"
        },
        {
         "geometry": {
          "coordinates": [
           570465,
           5512605.0002
          ],
          "type": "Point"
         },
         "properties": {
          "Class": "Vineyards",
          "Class_ID": "4",
          "ID": "67",
          "Latitude": "49.76178758",
          "Longitude": "9.978408968"
         },
         "type": "Feature"
        },
        {
         "geometry": {
          "coordinates": [
           570825,
           5513234.9997
          ],
          "type": "Point"
         },
         "properties": {
          "Class": "Agriculture",
          "Class_ID": "5",
          "ID": "82",
          "Latitude": "49.76741091",
          "Longitude": "9.983521428"
         },
         "type": "Feature"
        },
        {
         "geometry": {
          "coordinates": [
           570375,
           5512815.0003
          ],
          "type": "Point"
         },
         "properties": {
          "Class": "Vineyards",
          "Class_ID": "4",
          "ID": "86",
          "Latitude": "49.76368668",
          "Longitude": "9.977197468"
         },
         "type": "Feature"
        },
        {
         "geometry": {
          "coordinates": [
           570375,
           5512665
          ],
          "type": "Point"
         },
         "properties": {
          "Class": "Vineyards",
          "Class_ID": "4",
          "ID": "96",
          "Latitude": "49.76233771",
          "Longitude": "9.977170352"
         },
         "type": "Feature"
        },
        {
         "geometry": {
          "coordinates": [
           570345,
           5512844.9997
          ],
          "type": "Point"
         },
         "properties": {
          "Class": "Vineyards",
          "Class_ID": "4",
          "ID": "113",
          "Latitude": "49.76395998",
          "Longitude": "9.976786386"
         },
         "type": "Feature"
        },
        {
         "geometry": {
          "coordinates": [
           570375,
           5513025
          ],
          "type": "Point"
         },
         "properties": {
          "Class": "Agriculture",
          "Class_ID": "5",
          "ID": "130",
          "Latitude": "49.76557523",
          "Longitude": "9.977235433"
         },
         "type": "Feature"
        },
        {
         "geometry": {
          "coordinates": [
           569985,
           5512815.0001
          ],
          "type": "Point"
         },
         "properties": {
          "Class": "Vineyards",
          "Class_ID": "4",
          "ID": "139",
          "Latitude": "49.76373222",
          "Longitude": "9.971782918"
         },
         "type": "Feature"
        },
        {
         "geometry": {
          "coordinates": [
           570735,
           5513114.9997
          ],
          "type": "Point"
         },
         "properties": {
          "Class": "Agriculture",
          "Class_ID": "5",
          "ID": "163",
          "Latitude": "49.76634234",
          "Longitude": "9.982250017"
         },
         "type": "Feature"
        },
        {
         "geometry": {
          "coordinates": [
           570735,
           5513055.0004
          ],
          "type": "Point"
         },
         "properties": {
          "Class": "Agriculture",
          "Class_ID": "5",
          "ID": "166",
          "Latitude": "49.76580276",
          "Longitude": "9.982239113"
         },
         "type": "Feature"
        },
        {
         "geometry": {
          "coordinates": [
           570165,
           5514855.0004
          ],
          "type": "Point"
         },
         "properties": {
          "Class": "Built-up",
          "Class_ID": "1",
          "ID": "136",
          "Latitude": "49.78205717",
          "Longitude": "9.974649817"
         },
         "type": "Feature"
        },
        {
         "geometry": {
          "coordinates": [
           570315,
           5514734.9996
          ],
          "type": "Point"
         },
         "properties": {
          "Class": "Built-up",
          "Class_ID": "1",
          "ID": "93",
          "Latitude": "49.78096045",
          "Longitude": "9.976711425"
         },
         "type": "Feature"
        },
        {
         "geometry": {
          "coordinates": [
           570195,
           5514825.0002
          ],
          "type": "Point"
         },
         "properties": {
          "Class": "Built-up",
          "Class_ID": "1",
          "ID": "88",
          "Latitude": "49.78178387",
          "Longitude": "9.975061063"
         },
         "type": "Feature"
        },
        {
         "geometry": {
          "coordinates": [
           569985,
           5515035.0005
          ],
          "type": "Point"
         },
         "properties": {
          "Class": "Built-up",
          "Class_ID": "1",
          "ID": "66",
          "Latitude": "49.78369693",
          "Longitude": "9.972182243"
         },
         "type": "Feature"
        },
        {
         "geometry": {
          "coordinates": [
           570255,
           5514885.0002
          ],
          "type": "Point"
         },
         "properties": {
          "Class": "Built-up",
          "Class_ID": "1",
          "ID": "42",
          "Latitude": "49.78231644",
          "Longitude": "9.97590522"
         },
         "type": "Feature"
        },
        {
         "geometry": {
          "coordinates": [
           569805,
           5514885.0001
          ],
          "type": "Point"
         },
         "properties": {
          "Class": "Grassland",
          "Class_ID": "3",
          "ID": "94",
          "Latitude": "49.78236891",
          "Longitude": "9.969655263"
         },
         "type": "Feature"
        },
        {
         "geometry": {
          "coordinates": [
           570045,
           5514824.9999
          ],
          "type": "Point"
         },
         "properties": {
          "Class": "Built-up",
          "Class_ID": "1",
          "ID": "117",
          "Latitude": "49.78180138",
          "Longitude": "9.972977769"
         },
         "type": "Feature"
        },
        {
         "geometry": {
          "coordinates": [
           570945,
           5514944.9999
          ],
          "type": "Point"
         },
         "properties": {
          "Class": "Built-up",
          "Class_ID": "1",
          "ID": "91",
          "Latitude": "49.78277491",
          "Longitude": "9.985499397"
         },
         "type": "Feature"
        },
        {
         "geometry": {
          "coordinates": [
           570375,
           5514794.9999
          ],
          "type": "Point"
         },
         "properties": {
          "Class": "Built-up",
          "Class_ID": "1",
          "ID": "141",
          "Latitude": "49.78149301",
          "Longitude": "9.977555585"
         },
         "type": "Feature"
        },
        {
         "geometry": {
          "coordinates": [
           569685,
           5514974.9996
          ],
          "type": "Point"
         },
         "properties": {
          "Class": "Grassland",
          "Class_ID": "3",
          "ID": "60",
          "Latitude": "49.78319222",
          "Longitude": "9.968004732"
         },
         "type": "Feature"
        },
        {
         "geometry": {
          "coordinates": [
           570285,
           5515334.9994
          ],
          "type": "Point"
         },
         "properties": {
          "Class": "Built-up",
          "Class_ID": "1",
          "ID": "129",
          "Latitude": "49.78635981",
          "Longitude": "9.976403222"
         },
         "type": "Feature"
        },
        {
         "geometry": {
          "coordinates": [
           569805,
           5515034.9995
          ],
          "type": "Point"
         },
         "properties": {
          "Class": "Grassland",
          "Class_ID": "3",
          "ID": "63",
          "Latitude": "49.78371787",
          "Longitude": "9.969682189"
         },
         "type": "Feature"
        },
        {
         "geometry": {
          "coordinates": [
           570585,
           5514704.9999
          ],
          "type": "Point"
         },
         "properties": {
          "Class": "Built-up",
          "Class_ID": "1",
          "ID": "120",
          "Latitude": "49.78065899",
          "Longitude": "9.98045584"
         },
         "type": "Feature"
        },
        {
         "geometry": {
          "coordinates": [
           570435,
           5514734.9997
          ],
          "type": "Point"
         },
         "properties": {
          "Class": "Built-up",
          "Class_ID": "1",
          "ID": "184",
          "Latitude": "49.78094639",
          "Longitude": "9.97837803"
         },
         "type": "Feature"
        },
        {
         "geometry": {
          "coordinates": [
           570255,
           5515125.0002
          ],
          "type": "Point"
         },
         "properties": {
          "Class": "Built-up",
          "Class_ID": "1",
          "ID": "122",
          "Latitude": "49.78447478",
          "Longitude": "9.97594858"
         },
         "type": "Feature"
        },
        {
         "geometry": {
          "coordinates": [
           569685,
           5515005.0003
          ],
          "type": "Point"
         },
         "properties": {
          "Class": "Grassland",
          "Class_ID": "3",
          "ID": "111",
          "Latitude": "49.78346202",
          "Longitude": "9.968010108"
         },
         "type": "Feature"
        },
        {
         "geometry": {
          "coordinates": [
           570945,
           5514794.9998
          ],
          "type": "Point"
         },
         "properties": {
          "Class": "Built-up",
          "Class_ID": "1",
          "ID": "92",
          "Latitude": "49.78142595",
          "Longitude": "9.985472033"
         },
         "type": "Feature"
        },
        {
         "geometry": {
          "coordinates": [
           569955,
           5514854.9997
          ],
          "type": "Point"
         },
         "properties": {
          "Class": "Built-up",
          "Class_ID": "1",
          "ID": "65",
          "Latitude": "49.78208166",
          "Longitude": "9.971733187"
         },
         "type": "Feature"
        },
        {
         "geometry": {
          "coordinates": [
           569685,
           5514915.0003
          ],
          "type": "Point"
         },
         "properties": {
          "Class": "Built-up",
          "Class_ID": "1",
          "ID": "75",
          "Latitude": "49.78265264",
          "Longitude": "9.967993981"
         },
         "type": "Feature"
        },
        {
         "geometry": {
          "coordinates": [
           570525,
           5514705.0001
          ],
          "type": "Point"
         },
         "properties": {
          "Class": "Built-up",
          "Class_ID": "1",
          "ID": "119",
          "Latitude": "49.78066604",
          "Longitude": "9.979622543"
         },
         "type": "Feature"
        },
        {
         "geometry": {
          "coordinates": [
           569895,
           5515365.0002
          ],
          "type": "Point"
         },
         "properties": {
          "Class": "Grassland",
          "Class_ID": "3",
          "ID": "1",
          "Latitude": "49.78667513",
          "Longitude": "9.970991538"
         },
         "type": "Feature"
        },
        {
         "geometry": {
          "coordinates": [
           570045,
           5515604.9999
          ],
          "type": "Point"
         },
         "properties": {
          "Class": "Built-up",
          "Class_ID": "1",
          "ID": "43",
          "Latitude": "49.78881599",
          "Longitude": "9.973118284"
         },
         "type": "Feature"
        },
        {
         "geometry": {
          "coordinates": [
           570645,
           5515184.9998
          ],
          "type": "Point"
         },
         "properties": {
          "Class": "Grassland",
          "Class_ID": "3",
          "ID": "46",
          "Latitude": "49.78496861",
          "Longitude": "9.981376336"
         },
         "type": "Feature"
        },
        {
         "geometry": {
          "coordinates": [
           570405,
           5515514.9999
          ],
          "type": "Point"
         },
         "properties": {
          "Class": "Built-up",
          "Class_ID": "1",
          "ID": "47",
          "Latitude": "49.78796451",
          "Longitude": "9.97810261"
         },
         "type": "Feature"
        },
        {
         "geometry": {
          "coordinates": [
           569955,
           5515665.0002
          ],
          "type": "Point"
         },
         "properties": {
          "Class": "Grassland",
          "Class_ID": "3",
          "ID": "57",
          "Latitude": "49.78936607",
          "Longitude": "9.971878923"
         },
         "type": "Feature"
        },
        {
         "geometry": {
          "coordinates": [
           570435,
           5515305.0003
          ],
          "type": "Point"
         },
         "properties": {
          "Class": "Built-up",
          "Class_ID": "1",
          "ID": "71",
          "Latitude": "49.78607245",
          "Longitude": "9.978481276"
         },
         "type": "Feature"
        },
        {
         "geometry": {
          "coordinates": [
           569805,
           5515485.0002
          ],
          "type": "Point"
         },
         "properties": {
          "Class": "Grassland",
          "Class_ID": "3",
          "ID": "84",
          "Latitude": "49.78776477",
          "Longitude": "9.96976298"
         },
         "type": "Feature"
        },
        {
         "geometry": {
          "coordinates": [
           570945,
           5515635.0001
          ],
          "type": "Point"
         },
         "properties": {
          "Class": "Agriculture",
          "Class_ID": "5",
          "ID": "97",
          "Latitude": "49.78898012",
          "Longitude": "9.9856253"
         },
         "type": "Feature"
        },
        {
         "geometry": {
          "coordinates": [
           570225,
           5515635.0002
          ],
          "type": "Point"
         },
         "properties": {
          "Class": "Grassland",
          "Class_ID": "3",
          "ID": "110",
          "Latitude": "49.78906476",
          "Longitude": "9.975624017"
         },
         "type": "Feature"
        },
        {
         "geometry": {
          "coordinates": [
           570405,
           5515694.9996
          ],
          "type": "Point"
         },
         "properties": {
          "Class": "Grassland",
          "Class_ID": "3",
          "ID": "114",
          "Latitude": "49.78958326",
          "Longitude": "9.978135209"
         },
         "type": "Feature"
        },
        {
         "geometry": {
          "coordinates": [
           570945,
           5515215.0003
          ],
          "type": "Point"
         },
         "properties": {
          "Class": "Grassland",
          "Class_ID": "3",
          "ID": "123",
          "Latitude": "49.78520304",
          "Longitude": "9.985548658"
         },
         "type": "Feature"
        },
        {
         "geometry": {
          "coordinates": [
           569565,
           5515665.0001
          ],
          "type": "Point"
         },
         "properties": {
          "Class": "Grassland",
          "Class_ID": "3",
          "ID": "161",
          "Latitude": "49.78941138",
          "Longitude": "9.966461502"
         },
         "type": "Feature"
        },
        {
         "geometry": {
          "coordinates": [
           569685,
           5515874.9996
          ],
          "type": "Point"
         },
         "properties": {
          "Class": "Built-up",
          "Class_ID": "1",
          "ID": "168",
          "Latitude": "49.79128601",
          "Longitude": "9.968166049"
         },
         "type": "Feature"
        },
        {
         "geometry": {
          "coordinates": [
           570405,
           5515455.0004
          ],
          "type": "Point"
         },
         "properties": {
          "Class": "Grassland",
          "Class_ID": "3",
          "ID": "170",
          "Latitude": "49.78742493",
          "Longitude": "9.978091744"
         },
         "type": "Feature"
        },
        {
         "geometry": {
          "coordinates": [
           570315,
           5515484.9995
          ],
          "type": "Point"
         },
         "properties": {
          "Class": "Built-up",
          "Class_ID": "1",
          "ID": "172",
          "Latitude": "49.78770526",
          "Longitude": "9.976847049"
         },
         "type": "Feature"
        },
        {
         "geometry": {
          "coordinates": [
           570495,
           5515635
          ],
          "type": "Point"
         },
         "properties": {
          "Class": "Built-up",
          "Class_ID": "1",
          "ID": "188",
          "Latitude": "49.78903312",
          "Longitude": "9.979374504"
         },
         "type": "Feature"
        },
        {
         "geometry": {
          "coordinates": [
           570645,
           5515214.9996
          ],
          "type": "Point"
         },
         "properties": {
          "Class": "Grassland",
          "Class_ID": "3",
          "ID": "190",
          "Latitude": "49.7852384",
          "Longitude": "9.981381787"
         },
         "type": "Feature"
        },
        {
         "geometry": {
          "coordinates": [
           570135,
           5515875.0004
          ],
          "type": "Point"
         },
         "properties": {
          "Class": "Grassland",
          "Class_ID": "3",
          "ID": "193",
          "Latitude": "49.79123362",
          "Longitude": "9.974417156"
         },
         "type": "Feature"
        },
        {
         "geometry": {
          "coordinates": [
           570285,
           5515574.9996
          ],
          "type": "Point"
         },
         "properties": {
          "Class": "Built-up",
          "Class_ID": "1",
          "ID": "200",
          "Latitude": "49.78851815",
          "Longitude": "9.976446611"
         },
         "type": "Feature"
        },
        {
         "geometry": {
          "coordinates": [
           570735,
           5514554.9996
          ],
          "type": "Point"
         },
         "properties": {
          "Class": "Built-Up",
          "Class_ID": "1",
          "ID": "153",
          "Latitude": "49.77929238",
          "Longitude": "9.982511801"
         },
         "type": "Feature"
        },
        {
         "geometry": {
          "coordinates": [
           570945,
           5513804.9997
          ],
          "type": "Point"
         },
         "properties": {
          "Class": "Agriculture",
          "Class_ID": "5",
          "ID": "154",
          "Latitude": "49.77252281",
          "Longitude": "9.98529148"
         },
         "type": "Feature"
        },
        {
         "geometry": {
          "coordinates": [
           570555,
           5514524.9998
          ],
          "type": "Point"
         },
         "properties": {
          "Class": "Built-Up",
          "Class_ID": "1",
          "ID": "64",
          "Latitude": "49.77904376",
          "Longitude": "9.980006539"
         },
         "type": "Feature"
        },
        {
         "geometry": {
          "coordinates": [
           570825,
           5514464.9998
          ],
          "type": "Point"
         },
         "properties": {
          "Class": "Built-Up",
          "Class_ID": "1",
          "ID": "15",
          "Latitude": "49.7784724",
          "Longitude": "9.983745322"
         },
         "type": "Feature"
        },
        {
         "geometry": {
          "coordinates": [
           570795,
           5514285.0006
          ],
          "type": "Point"
         },
         "properties": {
          "Class": "Built-Up",
          "Class_ID": "1",
          "ID": "179",
          "Latitude": "49.77685719",
          "Longitude": "9.983295933"
         },
         "type": "Feature"
        },
        {
         "geometry": {
          "coordinates": [
           570795,
           5514045.0004
          ],
          "type": "Point"
         },
         "properties": {
          "Class": "Agriculture",
          "Class_ID": "5",
          "ID": "32",
          "Latitude": "49.77469885",
          "Longitude": "9.983252258"
         },
         "type": "Feature"
        },
        {
         "geometry": {
          "coordinates": [
           570735,
           5514524.9998
          ],
          "type": "Point"
         },
         "properties": {
          "Class": "Built-Up",
          "Class_ID": "1",
          "ID": "144",
          "Latitude": "49.77902259",
          "Longitude": "9.982506345"
         },
         "type": "Feature"
        },
        {
         "geometry": {
          "coordinates": [
           570645,
           5514284.9995
          ],
          "type": "Point"
         },
         "properties": {
          "Class": "Grassland",
          "Class_ID": "3",
          "ID": "5",
          "Latitude": "49.77687484",
          "Longitude": "9.981212855"
         },
         "type": "Feature"
        },
        {
         "geometry": {
          "coordinates": [
           570645,
           5514435.0004
          ],
          "type": "Point"
         },
         "properties": {
          "Class": "Built-Up",
          "Class_ID": "1",
          "ID": "90",
          "Latitude": "49.77822381",
          "Longitude": "9.981240097"
         },
         "type": "Feature"
        },
        {
         "geometry": {
          "coordinates": [
           570525,
           5514585
          ],
          "type": "Point"
         },
         "properties": {
          "Class": "Built-Up",
          "Class_ID": "1",
          "ID": "28",
          "Latitude": "49.77958687",
          "Longitude": "9.979600784"
         },
         "type": "Feature"
        },
        {
         "geometry": {
          "coordinates": [
           570315,
           5514585
          ],
          "type": "Point"
         },
         "properties": {
          "Class": "Built-Up",
          "Class_ID": "1",
          "ID": "59",
          "Latitude": "49.77961149",
          "Longitude": "9.976684307"
         },
         "type": "Feature"
        },
        {
         "geometry": {
          "coordinates": [
           570465,
           5514555.0001
          ],
          "type": "Point"
         },
         "properties": {
          "Class": "Built-Up",
          "Class_ID": "1",
          "ID": "171",
          "Latitude": "49.77932412",
          "Longitude": "9.97876207"
         },
         "type": "Feature"
        },
        {
         "geometry": {
          "coordinates": [
           570675,
           5514345
          ],
          "type": "Point"
         },
         "properties": {
          "Class": "Built-Up",
          "Class_ID": "1",
          "ID": "195",
          "Latitude": "49.7774109",
          "Longitude": "9.981640372"
         },
         "type": "Feature"
        },
        {
         "geometry": {
          "coordinates": [
           570195,
           5514705.0003
          ],
          "type": "Point"
         },
         "properties": {
          "Class": "Grassland",
          "Class_ID": "3",
          "ID": "138",
          "Latitude": "49.7807047",
          "Longitude": "9.975039404"
         },
         "type": "Feature"
        },
        {
         "geometry": {
          "coordinates": [
           570255,
           5514645.0004
          ],
          "type": "Point"
         },
         "properties": {
          "Class": "Trees",
          "Class_ID": "2",
          "ID": "167",
          "Latitude": "49.7801581",
          "Longitude": "9.975861865"
         },
         "type": "Feature"
        },
        {
         "geometry": {
          "coordinates": [
           570795,
           5514315.0003
          ],
          "type": "Point"
         },
         "properties": {
          "Class": "Built-Up",
          "Class_ID": "1",
          "ID": "133",
          "Latitude": "49.77712698",
          "Longitude": "9.983301393"
         },
         "type": "Feature"
        },
        {
         "geometry": {
          "coordinates": [
           570885,
           5514314.9996
          ],
          "type": "Point"
         },
         "properties": {
          "Class": "Grassland",
          "Class_ID": "3",
          "ID": "16",
          "Latitude": "49.77711636",
          "Longitude": "9.984551246"
         },
         "type": "Feature"
        },
        {
         "geometry": {
          "coordinates": [
           570645,
           5514195.0003
          ],
          "type": "Point"
         },
         "properties": {
          "Class": "Agriculture",
          "Class_ID": "5",
          "ID": "135",
          "Latitude": "49.77606547",
          "Longitude": "9.981196511"
         },
         "type": "Feature"
        },
        {
         "geometry": {
          "coordinates": [
           570705,
           5514104.9999
          ],
          "type": "Point"
         },
         "properties": {
          "Class": "Trees",
          "Class_ID": "2",
          "ID": "100",
          "Latitude": "49.77524903",
          "Longitude": "9.982013371"
         },
         "type": "Feature"
        },
        {
         "geometry": {
          "coordinates": [
           570975,
           5514045.0003
          ],
          "type": "Point"
         },
         "properties": {
          "Class": "Agriculture",
          "Class_ID": "5",
          "ID": "101",
          "Latitude": "49.77467761",
          "Longitude": "9.985751838"
         },
         "type": "Feature"
        },
        {
         "geometry": {
          "coordinates": [
           569625,
           5514614.9997
          ],
          "type": "Point"
         },
         "properties": {
          "Class": "Grassland",
          "Class_ID": "3",
          "ID": "4",
          "Latitude": "49.77996166",
          "Longitude": "9.967106938"
         },
         "type": "Feature"
        },
        {
         "geometry": {
          "coordinates": [
           568874.5283,
           5514492.7827
          ],
          "type": "Point"
         },
         "properties": {
          "Class": "Built-up",
          "Class_ID": "1",
          "ID": "6",
          "Latitude": "49.77894907",
          "Longitude": "9.956662618"
         },
         "type": "Feature"
        },
        {
         "geometry": {
          "coordinates": [
           568905,
           5514585.0002
          ],
          "type": "Point"
         },
         "properties": {
          "Class": "Trees",
          "Class_ID": "2",
          "ID": "9",
          "Latitude": "49.7797749",
          "Longitude": "9.957102142"
         },
         "type": "Feature"
        },
        {
         "geometry": {
          "coordinates": [
           569505,
           5514614.9999
          ],
          "type": "Point"
         },
         "properties": {
          "Class": "Built-up",
          "Class_ID": "1",
          "ID": "14",
          "Latitude": "49.77997556",
          "Longitude": "9.965440361"
         },
         "type": "Feature"
        },
        {
         "geometry": {
          "coordinates": [
           568935,
           5514344.9998
          ],
          "type": "Point"
         },
         "properties": {
          "Class": "Built-up",
          "Class_ID": "1",
          "ID": "25",
          "Latitude": "49.7776131",
          "Longitude": "9.957476252"
         },
         "type": "Feature"
        },
        {
         "geometry": {
          "coordinates": [
           569700.4039,
           5514837.8987
          ],
          "type": "Point"
         },
         "properties": {
          "Class": "Built-up",
          "Class_ID": "1",
          "ID": "30",
          "Latitude": "49.78195747",
          "Longitude": "9.968194105"
         },
         "type": "Feature"
        },
        {
         "geometry": {
          "coordinates": [
           569415,
           5514404.9997
          ],
          "type": "Point"
         },
         "properties": {
          "Class": "Built-up",
          "Class_ID": "1",
          "ID": "38",
          "Latitude": "49.77809741",
          "Longitude": "9.96415295"
         },
         "type": "Feature"
        },
        {
         "geometry": {
          "coordinates": [
           569355,
           5514314.9997
          ],
          "type": "Point"
         },
         "properties": {
          "Class": "Built-up",
          "Class_ID": "1",
          "ID": "62",
          "Latitude": "49.77729496",
          "Longitude": "9.963303646"
         },
         "type": "Feature"
        },
        {
         "geometry": {
          "coordinates": [
           569445,
           5514675.0002
          ],
          "type": "Point"
         },
         "properties": {
          "Class": "Built-up",
          "Class_ID": "1",
          "ID": "68",
          "Latitude": "49.78052209",
          "Longitude": "9.964617786"
         },
         "type": "Feature"
        },
        {
         "geometry": {
          "coordinates": [
           569145,
           5514285.0003
          ],
          "type": "Point"
         },
         "properties": {
          "Class": "Grassland",
          "Class_ID": "3",
          "ID": "83",
          "Latitude": "49.77704938",
          "Longitude": "9.96038196"
         },
         "type": "Feature"
        },
        {
         "geometry": {
          "coordinates": [
           568931.8947,
           5514439.3476
          ],
          "type": "Point"
         },
         "properties": {
          "Class": "Trees",
          "Class_ID": "2",
          "ID": "85",
          "Latitude": "49.77846194",
          "Longitude": "9.957449846"
         },
         "type": "Feature"
        },
        {
         "geometry": {
          "coordinates": [
           568897.2566,
           5514334.8086
          ],
          "type": "Point"
         },
         "properties": {
          "Class": "Built-up",
          "Class_ID": "1",
          "ID": "108",
          "Latitude": "49.77752578",
          "Longitude": "9.956950285"
         },
         "type": "Feature"
        },
        {
         "geometry": {
          "coordinates": [
           569535,
           5514945.0004
          ],
          "type": "Point"
         },
         "properties": {
          "Class": "Grassland",
          "Class_ID": "3",
          "ID": "121",
          "Latitude": "49.78293982",
          "Longitude": "9.965916009"
         },
         "type": "Feature"
        },
        {
         "geometry": {
          "coordinates": [
           568815,
           5514735.0002
          ],
          "type": "Point"
         },
         "properties": {
          "Class": "Built-up",
          "Class_ID": "1",
          "ID": "137",
          "Latitude": "49.78113419",
          "Longitude": "9.955878751"
         },
         "type": "Feature"
        },
        {
         "geometry": {
          "coordinates": [
           569335.5729,
           5514416.6604
          ],
          "type": "Point"
         },
         "properties": {
          "Class": "Grassland",
          "Class_ID": "3",
          "ID": "147",
          "Latitude": "49.77821145",
          "Longitude": "9.963051975"
         },
         "type": "Feature"
        },
        {
         "geometry": {
          "coordinates": [
           569565,
           5514764.9998
          ],
          "type": "Point"
         },
         "properties": {
          "Class": "Built-up",
          "Class_ID": "1",
          "ID": "150",
          "Latitude": "49.78131758",
          "Longitude": "9.96630048"
         },
         "type": "Feature"
        },
        {
         "geometry": {
          "coordinates": [
           569505,
           5514345.0002
          ],
          "type": "Point"
         },
         "properties": {
          "Class": "Agriculture",
          "Class_ID": "5",
          "ID": "162",
          "Latitude": "49.77754742",
          "Longitude": "9.965392114"
         },
         "type": "Feature"
        },
        {
         "geometry": {
          "coordinates": [
           568815,
           5514854.9995
          ],
          "type": "Point"
         },
         "properties": {
          "Class": "Built-up",
          "Class_ID": "1",
          "ID": "169",
          "Latitude": "49.78221336",
          "Longitude": "9.955899985"
         },
         "type": "Feature"
        },
        {
         "geometry": {
          "coordinates": [
           569445,
           5514614.9999
          ],
          "type": "Point"
         },
         "properties": {
          "Class": "Built-up",
          "Class_ID": "1",
          "ID": "181",
          "Latitude": "49.7799825",
          "Longitude": "9.964607072"
         },
         "type": "Feature"
        },
        {
         "geometry": {
          "coordinates": [
           569625,
           5514434.9998
          ],
          "type": "Point"
         },
         "properties": {
          "Class": "Trees",
          "Class_ID": "2",
          "ID": "186",
          "Latitude": "49.7783429",
          "Longitude": "9.967074717"
         },
         "type": "Feature"
        },
        {
         "geometry": {
          "coordinates": [
           569077.9865,
           5512836.3155
          ],
          "type": "Point"
         },
         "properties": {
          "Class": "Water",
          "Class_ID": "6",
          "ID": "201",
          "Latitude": {},
          "Longitude": {}
         },
         "type": "Feature"
        },
        {
         "geometry": {
          "coordinates": [
           569644.6617,
           5512699.9106
          ],
          "type": "Point"
         },
         "properties": {
          "Class": "Water",
          "Class_ID": "6",
          "ID": "202",
          "Latitude": {},
          "Longitude": {}
         },
         "type": "Feature"
        },
        {
         "geometry": {
          "coordinates": [
           570024.5813,
           5512603.7864
          ],
          "type": "Point"
         },
         "properties": {
          "Class": "Water",
          "Class_ID": "6",
          "ID": "203",
          "Latitude": {},
          "Longitude": {}
         },
         "type": "Feature"
        }
       ],
       "name": "file79c79ce265b",
       "type": "FeatureCollection"
      },
      "text/plain": [
       "            coordinates  ID    Latitude   Longitude Class_ID       Class\n",
       "1     (569655, 5515275) 134 49.78589364 9.967641802        1    Built-up\n",
       "2     (568725, 5515365)  41 49.78681017 9.954740131        1    Built-up\n",
       "3     (569325, 5515785) 140 49.79051831 9.963149099        1    Built-up\n",
       "4     (568725, 5515335) 124 49.78654038 9.954734828        1    Built-up\n",
       "5     (569055, 5515635) 157 49.78920046 9.959371833        1    Built-up\n",
       "6     (568845, 5515515)  74  49.7881454  9.95643351        1    Built-up\n",
       "7     (569235, 5515065)  61 49.78405365 9.961770673        1    Built-up\n",
       "8     (569175, 5515305) 149 49.78621891 9.960980011        1    Built-up\n",
       "9     (569235, 5515575) 183 49.78864014 9.961861491        1    Built-up\n",
       "10    (569625, 5515395)  51 49.78697629 9.967246596        1    Built-up\n",
       "11    (568725, 5515755)  22 49.79031749 9.954809077        1    Built-up\n",
       "12    (569445, 5515245)  24 49.78564816 9.964719577        1    Built-up\n",
       "13    (568905, 5515845)  52 49.79110624 9.957325436        1    Built-up\n",
       "14    (568815, 5515365)  58 49.78679986 9.955990243        1    Built-up\n",
       "15    (568845, 5515545) 182 49.78841519 9.956438822        1    Built-up\n",
       "16    (569535, 5515035)  39  49.7837492 9.965932102        1    Built-up\n",
       "17    (569355, 5515125)  53 49.78457939 9.963448093        1    Built-up\n",
       "18    (569025, 5515635) 127 49.78920391 9.958955108        1    Built-up\n",
       "19    (569475, 5515185) 176 49.78510511 9.965125549        3   Grassland\n",
       "20    (568725, 5515755) 109 49.79031749 9.954809077        1    Built-up\n",
       "21    (569625, 5513985)  17     49.7743    9.966994        3   Grassland\n",
       "22  (569841.6, 5514366)  18     49.7777     9.97007        3   Grassland\n",
       "23    (569625, 5514225)  29    49.77645    9.967037        5 Agriculture\n",
       "24  (569288.1, 5514007)  54    49.77453     9.96232        2       Trees\n",
       "25    (569895, 5514585)  56    49.77966    9.970851        1    Built-up\n",
       "26  (569288.1, 5514007)  95    49.77453     9.96232        3   Grassland\n",
       "27    (569925, 5514645)  98     49.7802    9.971279        1    Built-up\n",
       "28    (569175, 5514195) 106    49.77624    9.960783        1    Built-up\n",
       "29    (569115, 5514195) 112    49.77624    9.959949        2       Trees\n",
       "30  (569879.3, 5513951) 118    49.77396     9.97052        3   Grassland\n",
       "31    (569595, 5514015) 125    49.77457    9.966583        4   Vineyards\n",
       "32    (569889, 5514264) 131    49.77677     9.97071        1    Built-up\n",
       "33  (569288.1, 5514007) 146    49.77453     9.96232        3   Grassland\n",
       "34  (569841.6, 5514366) 151     49.7777     9.97007        3   Grassland\n",
       "35  (569879.3, 5513951) 159    49.77396     9.97052        3   Grassland\n",
       "36  (569828.1, 5513904) 164    49.77354      9.9698        3   Grassland\n",
       "37  (569658.1, 5514187) 174    49.77611     9.96749        1    Built-up\n",
       "38  (569961.8, 5514090) 185     49.7752     9.97169        3   Grassland\n",
       "39  (570253.3, 5514375) 187    49.77773     9.97579        5 Agriculture\n",
       "40  (569301.4, 5513922) 191    49.77377     9.96249        4   Vineyards\n",
       "41    (568905, 5513625)   7 49.77114148 9.956932109        1    Build-up\n",
       "42    (568755, 5513715)  23 49.77196804 9.954865162        1    Build-up\n",
       "43    (569625, 5513655)  26 49.77132827 9.966935127        4   Vineyards\n",
       "44    (568755, 5513595)  27 49.77088887 9.954843959        4   Vineyards\n",
       "45    (568785, 5513655)  35 49.77142502 9.955271133        1    Build-up\n",
       "46    (569625, 5513685)  73 49.77159806 9.966940494        4   Vineyards\n",
       "47    (569655, 5513445)  78 49.76943623 9.967314108        5 Agriculture\n",
       "48    (568875, 5513775)  79 49.77249389  9.95654209        1    Build-up\n",
       "49    (569925, 5513655)  81 49.77129343 9.971100823        5 Agriculture\n",
       "50    (569685, 5513655)  89 49.77132131 9.967768267        5 Agriculture\n",
       "51    (569955, 5513235) 103 49.76751282 9.971441895        4   Vineyards\n",
       "52    (568965, 5513475) 105 49.76978562 9.957738665        4   Vineyards\n",
       "53    (568725, 5514015) 107 49.77466942 9.954501575        1    Build-up\n",
       "54    (569205, 5513625) 165   49.771107 9.961097802        4   Vineyards\n",
       "55    (568785, 5513685) 175 49.77169482 9.955276436        1    Build-up\n",
       "56    (568845, 5513955) 178  49.7741161 9.956157358        1    Build-up\n",
       "57    (569385, 5513685) 180 49.77162582 9.963607913        2       Trees\n",
       "58    (569025, 5513595) 189 49.77085791 9.958593066        2       Trees\n",
       "59    (568815, 5513895) 197 49.77357994 9.955730151        1    Build-up\n",
       "60    (569985, 5513355) 198 49.76858851  9.97188001        4   Vineyards\n",
       "61    (568785, 5512665)   8 49.76252179 9.955096174        1    Built-up\n",
       "62    (569205, 5513085)  10  49.7662507 9.961001778        3   Grassland\n",
       "63    (568905, 5512845)  12 49.76412681 9.956794018        2        tree\n",
       "64    (568785, 5513355)  20 49.76872707 9.955218106        4    vineyard\n",
       "65    (568815, 5513085)  21 49.76629548 9.955586917        2        tree\n",
       "66    (569145, 5513115)  37  49.7665274 9.960174053        1    Built-up\n",
       "67    (569685, 5513205)  69  49.7672744 9.967687689        4    vineyard\n",
       "68    (569175, 5513295)  76 49.76814271 9.960622574        1    Built-up\n",
       "69    (568935, 5512905)  77 49.76466296 9.957221152        6       water\n",
       "70    (569085, 5513145)  80 49.76680409 9.959346318        3   Grassland\n",
       "71    (569115, 5512935)  99 49.76491208 9.959725562        1    Built-up\n",
       "72    (569175, 5512635) 102 49.76220723 9.960505286        1    Built-up\n",
       "73    (569745, 5513265) 115 49.76780703 9.968531511        4    vineyard\n",
       "74    (568995, 5512725) 116 49.76303731 9.958022278        3   Grassland\n",
       "75    (569505, 5513025) 128 49.76567648 9.965156333        4    vineyard\n",
       "76    (569595, 5513055) 132 49.76593586 9.966411262        3   Grassland\n",
       "77    (569235, 5513295) 148  49.7681358 9.961455661        4    vineyard\n",
       "78    (569235, 5513085) 156 49.76624724 9.961418306        1    Built-up\n",
       "79    (569475, 5513415) 192 49.76918728 9.964809428        4    vineyard\n",
       "80    (568755, 5512815) 196  49.7638742  9.95470617        3   Grassland\n",
       "81    (570945, 5513745)  19 49.77198323  9.98528054        5 Agriculture\n",
       "82    (570585, 5513265)  31 49.76770894 9.980194591        5 Agriculture\n",
       "83    (570585, 5513505)  40 49.76986729 9.980238119        5 Agriculture\n",
       "84    (570375, 5513205)  55 49.76719399 9.977267978        5 Agriculture\n",
       "85    (570705, 5513295)  60 49.76796463  9.98186619        5 Agriculture\n",
       "86    (570315, 5513685)  70  49.7715177 9.976521638        5 Agriculture\n",
       "87    (570525, 5513955)  72 49.77392123 9.979486568        3   Grassland\n",
       "88    (570225, 5513385)  87  49.7688303 9.975217789        4   Vineyards\n",
       "89    (570885, 5513415) 104 49.76902259 9.984387281        5 Agriculture\n",
       "90    (570435, 5513835) 126 49.77285261 9.978215072        1    Built-up\n",
       "91    (570105, 5513805) 142 49.77262142 9.973627262        2       Trees\n",
       "92    (570765, 5513835) 143 49.77281383 9.982797466        5 Agriculture\n",
       "93    (570255, 5513775) 145  49.7723341 9.975704746        2       Trees\n",
       "94    (570405, 5513955) 152  49.7739353 9.977820204        3   Grassland\n",
       "95    (570615, 5513925) 155 49.77364086 9.980730895        5 Agriculture\n",
       "96    (570795, 5513385) 158 49.76876341 9.983132179        5 Agriculture\n",
       "97    (570735, 5513565) 173 49.77038923 9.982331804        5 Agriculture\n",
       "98    (570195, 5513895) 177 49.77342029  9.97489324        2       Trees\n",
       "99    (570585, 5513775) 194 49.77229542 9.980287095        5 Agriculture\n",
       "100   (570225, 5513595) 199 49.77071885 9.975255684        5 Agriculture\n",
       "101   (570525, 5512785)   2  49.7633993 9.979274549        4   Vineyards\n",
       "102   (570945, 5512845)   3 49.76388945 9.985116484        4   Vineyards\n",
       "103   (569895, 5512605)  11 49.76185414 9.970495702        2       Water\n",
       "104   (570525, 5513055)  13 49.76582744 9.979323465        5 Agriculture\n",
       "105   (569835, 5513115)  33 49.76644761 9.969754216        4   Vineyards\n",
       "106   (569865, 5512965)  34 49.76509515 9.970143821        5 Agriculture\n",
       "107   (570375, 5513055)  36 49.76584502 9.977240857        5 Agriculture\n",
       "108   (570165, 5512815)  44 49.76371123 9.974281943        4   Vineyards\n",
       "109   (569745, 5512635)  45 49.76214136 9.968418633        2       Water\n",
       "110   (570015, 5513055)  48 49.76588707  9.97224259        4   Vineyards\n",
       "111   (570855, 5512695)  50 49.76255111  9.98383967        4   Vineyards\n",
       "112   (570465, 5512605)  67 49.76178758 9.978408968        4   Vineyards\n",
       "113   (570825, 5513235)  82 49.76741091 9.983521428        5 Agriculture\n",
       "114   (570375, 5512815)  86 49.76368668 9.977197468        4   Vineyards\n",
       "115   (570375, 5512665)  96 49.76233771 9.977170352        4   Vineyards\n",
       "116   (570345, 5512845) 113 49.76395998 9.976786386        4   Vineyards\n",
       "117   (570375, 5513025) 130 49.76557523 9.977235433        5 Agriculture\n",
       "118   (569985, 5512815) 139 49.76373222 9.971782918        4   Vineyards\n",
       "119   (570735, 5513115) 163 49.76634234 9.982250017        5 Agriculture\n",
       "120   (570735, 5513055) 166 49.76580276 9.982239113        5 Agriculture\n",
       "121   (570165, 5514855) 136 49.78205717 9.974649817        1    Built-up\n",
       "122   (570315, 5514735)  93 49.78096045 9.976711425        1    Built-up\n",
       "123   (570195, 5514825)  88 49.78178387 9.975061063        1    Built-up\n",
       "124   (569985, 5515035)  66 49.78369693 9.972182243        1    Built-up\n",
       "125   (570255, 5514885)  42 49.78231644  9.97590522        1    Built-up\n",
       "126   (569805, 5514885)  94 49.78236891 9.969655263        3   Grassland\n",
       "127   (570045, 5514825) 117 49.78180138 9.972977769        1    Built-up\n",
       "128   (570945, 5514945)  91 49.78277491 9.985499397        1    Built-up\n",
       "129   (570375, 5514795) 141 49.78149301 9.977555585        1    Built-up\n",
       "130   (569685, 5514975)  60 49.78319222 9.968004732        3   Grassland\n",
       "131   (570285, 5515335) 129 49.78635981 9.976403222        1    Built-up\n",
       "132   (569805, 5515035)  63 49.78371787 9.969682189        3   Grassland\n",
       "133   (570585, 5514705) 120 49.78065899  9.98045584        1    Built-up\n",
       "134   (570435, 5514735) 184 49.78094639  9.97837803        1    Built-up\n",
       "135   (570255, 5515125) 122 49.78447478  9.97594858        1    Built-up\n",
       "136   (569685, 5515005) 111 49.78346202 9.968010108        3   Grassland\n",
       "137   (570945, 5514795)  92 49.78142595 9.985472033        1    Built-up\n",
       "138   (569955, 5514855)  65 49.78208166 9.971733187        1    Built-up\n",
       "139   (569685, 5514915)  75 49.78265264 9.967993981        1    Built-up\n",
       "140   (570525, 5514705) 119 49.78066604 9.979622543        1    Built-up\n",
       "141   (569895, 5515365)   1 49.78667513 9.970991538        3   Grassland\n",
       "142   (570045, 5515605)  43 49.78881599 9.973118284        1    Built-up\n",
       "143   (570645, 5515185)  46 49.78496861 9.981376336        3   Grassland\n",
       "144   (570405, 5515515)  47 49.78796451  9.97810261        1    Built-up\n",
       "145   (569955, 5515665)  57 49.78936607 9.971878923        3   Grassland\n",
       "146   (570435, 5515305)  71 49.78607245 9.978481276        1    Built-up\n",
       "147   (569805, 5515485)  84 49.78776477  9.96976298        3   Grassland\n",
       "148   (570945, 5515635)  97 49.78898012   9.9856253        5 Agriculture\n",
       "149   (570225, 5515635) 110 49.78906476 9.975624017        3   Grassland\n",
       "150   (570405, 5515695) 114 49.78958326 9.978135209        3   Grassland\n",
       "151   (570945, 5515215) 123 49.78520304 9.985548658        3   Grassland\n",
       "152   (569565, 5515665) 161 49.78941138 9.966461502        3   Grassland\n",
       "153   (569685, 5515875) 168 49.79128601 9.968166049        1    Built-up\n",
       "154   (570405, 5515455) 170 49.78742493 9.978091744        3   Grassland\n",
       "155   (570315, 5515485) 172 49.78770526 9.976847049        1    Built-up\n",
       "156   (570495, 5515635) 188 49.78903312 9.979374504        1    Built-up\n",
       "157   (570645, 5515215) 190  49.7852384 9.981381787        3   Grassland\n",
       "158   (570135, 5515875) 193 49.79123362 9.974417156        3   Grassland\n",
       "159   (570285, 5515575) 200 49.78851815 9.976446611        1    Built-up\n",
       "160   (570735, 5514555) 153 49.77929238 9.982511801        1    Built-Up\n",
       "161   (570945, 5513805) 154 49.77252281  9.98529148        5 Agriculture\n",
       "162   (570555, 5514525)  64 49.77904376 9.980006539        1    Built-Up\n",
       "163   (570825, 5514465)  15  49.7784724 9.983745322        1    Built-Up\n",
       "164   (570795, 5514285) 179 49.77685719 9.983295933        1    Built-Up\n",
       "165   (570795, 5514045)  32 49.77469885 9.983252258        5 Agriculture\n",
       "166   (570735, 5514525) 144 49.77902259 9.982506345        1    Built-Up\n",
       "167   (570645, 5514285)   5 49.77687484 9.981212855        3   Grassland\n",
       "168   (570645, 5514435)  90 49.77822381 9.981240097        1    Built-Up\n",
       "169   (570525, 5514585)  28 49.77958687 9.979600784        1    Built-Up\n",
       "170   (570315, 5514585)  59 49.77961149 9.976684307        1    Built-Up\n",
       "171   (570465, 5514555) 171 49.77932412  9.97876207        1    Built-Up\n",
       "172   (570675, 5514345) 195  49.7774109 9.981640372        1    Built-Up\n",
       "173   (570195, 5514705) 138  49.7807047 9.975039404        3   Grassland\n",
       "174   (570255, 5514645) 167  49.7801581 9.975861865        2       Trees\n",
       "175   (570795, 5514315) 133 49.77712698 9.983301393        1    Built-Up\n",
       "176   (570885, 5514315)  16 49.77711636 9.984551246        3   Grassland\n",
       "177   (570645, 5514195) 135 49.77606547 9.981196511        5 Agriculture\n",
       "178   (570705, 5514105) 100 49.77524903 9.982013371        2       Trees\n",
       "179   (570975, 5514045) 101 49.77467761 9.985751838        5 Agriculture\n",
       "180   (569625, 5514615)   4 49.77996166 9.967106938        3   Grassland\n",
       "181 (568874.5, 5514493)   6 49.77894907 9.956662618        1    Built-up\n",
       "182   (568905, 5514585)   9  49.7797749 9.957102142        2       Trees\n",
       "183   (569505, 5514615)  14 49.77997556 9.965440361        1    Built-up\n",
       "184   (568935, 5514345)  25  49.7776131 9.957476252        1    Built-up\n",
       "185 (569700.4, 5514838)  30 49.78195747 9.968194105        1    Built-up\n",
       "186   (569415, 5514405)  38 49.77809741  9.96415295        1    Built-up\n",
       "187   (569355, 5514315)  62 49.77729496 9.963303646        1    Built-up\n",
       "188   (569445, 5514675)  68 49.78052209 9.964617786        1    Built-up\n",
       "189   (569145, 5514285)  83 49.77704938  9.96038196        3   Grassland\n",
       "190 (568931.9, 5514439)  85 49.77846194 9.957449846        2       Trees\n",
       "191 (568897.3, 5514335) 108 49.77752578 9.956950285        1    Built-up\n",
       "192   (569535, 5514945) 121 49.78293982 9.965916009        3   Grassland\n",
       "193   (568815, 5514735) 137 49.78113419 9.955878751        1    Built-up\n",
       "194 (569335.6, 5514417) 147 49.77821145 9.963051975        3   Grassland\n",
       "195   (569565, 5514765) 150 49.78131758  9.96630048        1    Built-up\n",
       "196   (569505, 5514345) 162 49.77754742 9.965392114        5 Agriculture\n",
       "197   (568815, 5514855) 169 49.78221336 9.955899985        1    Built-up\n",
       "198   (569445, 5514615) 181  49.7799825 9.964607072        1    Built-up\n",
       "199   (569625, 5514435) 186  49.7783429 9.967074717        2       Trees\n",
       "200   (569078, 5512836) 201        <NA>        <NA>        6       Water\n",
       "201 (569644.7, 5512700) 202        <NA>        <NA>        6       Water\n",
       "202 (570024.6, 5512604) 203        <NA>        <NA>        6       Water"
      ]
     },
     "metadata": {},
     "output_type": "display_data"
    }
   ],
   "source": [
    "td"
   ]
  },
  {
   "cell_type": "code",
   "execution_count": 27,
   "metadata": {},
   "outputs": [
    {
     "data": {
      "image/png": "[encoded data removed]",
      "text/plain": [
       "Plot with title \"\""
      ]
     },
     "metadata": {
      "image/png": {
       "height": 420,
       "width": 420
      }
     },
     "output_type": "display_data"
    }
   ],
   "source": [
    "plot(ROI_wue_indices)"
   ]
  },
  {
   "cell_type": "markdown",
   "metadata": {},
   "source": [
    "## NNET (This is not working too well)"
   ]
  },
  {
   "cell_type": "code",
   "execution_count": 28,
   "metadata": {},
   "outputs": [
    {
     "name": "stderr",
     "output_type": "stream",
     "text": [
      "Begin sampling training data\n",
      "\n",
      "Starting to fit model\n",
      "\n"
     ]
    },
    {
     "name": "stdout",
     "output_type": "stream",
     "text": [
      "# weights:  14\n",
      "initial  value 235.866154 \n",
      "iter  10 value 186.328748\n",
      "iter  20 value 168.904422\n",
      "iter  30 value 162.740040\n",
      "iter  40 value 161.054486\n",
      "iter  50 value 160.889506\n",
      "iter  60 value 160.733684\n",
      "iter  70 value 160.205422\n",
      "iter  80 value 160.148290\n",
      "iter  90 value 160.072414\n",
      "iter 100 value 160.072223\n",
      "final  value 160.072223 \n",
      "stopped after 100 iterations\n",
      "# weights:  30\n",
      "initial  value 215.823621 \n",
      "iter  10 value 187.253047\n",
      "iter  20 value 175.423689\n",
      "iter  30 value 163.645472\n",
      "iter  40 value 160.649810\n",
      "iter  50 value 155.638142\n",
      "iter  60 value 154.144903\n",
      "iter  70 value 153.984482\n",
      "iter  80 value 153.883803\n",
      "iter  90 value 153.818924\n",
      "iter 100 value 153.274260\n",
      "final  value 153.274260 \n",
      "stopped after 100 iterations\n",
      "# weights:  46\n",
      "initial  value 204.289477 \n",
      "iter  10 value 179.990035\n",
      "iter  20 value 164.295991\n",
      "iter  30 value 155.804140\n",
      "iter  40 value 151.895055\n",
      "iter  50 value 147.698385\n",
      "iter  60 value 144.592007\n",
      "iter  70 value 143.864580\n",
      "iter  80 value 143.271543\n",
      "iter  90 value 142.491151\n",
      "iter 100 value 141.876442\n",
      "final  value 141.876442 \n",
      "stopped after 100 iterations\n",
      "# weights:  14\n",
      "initial  value 229.347243 \n",
      "iter  10 value 185.809881\n",
      "iter  20 value 181.925895\n",
      "iter  30 value 181.563260\n",
      "iter  30 value 181.563260\n",
      "final  value 181.563260 \n",
      "converged\n",
      "# weights:  30\n",
      "initial  value 206.671023 \n",
      "iter  10 value 187.047886\n",
      "iter  20 value 180.752798\n",
      "iter  30 value 179.889187\n",
      "iter  40 value 179.834014\n",
      "iter  50 value 179.832657\n",
      "iter  60 value 179.832462\n",
      "final  value 179.832440 \n",
      "converged\n",
      "# weights:  46\n",
      "initial  value 209.392093 \n",
      "iter  10 value 183.450560\n",
      "iter  20 value 179.794510\n",
      "iter  30 value 179.731818\n",
      "iter  40 value 179.708416\n",
      "iter  50 value 179.697975\n",
      "iter  60 value 179.695763\n",
      "final  value 179.695685 \n",
      "converged\n",
      "# weights:  14\n",
      "initial  value 211.782695 \n",
      "iter  10 value 187.140870\n",
      "iter  20 value 181.007958\n",
      "iter  30 value 163.506864\n",
      "iter  40 value 161.793172\n",
      "iter  50 value 161.604482\n",
      "iter  60 value 161.398705\n",
      "iter  70 value 161.193207\n",
      "iter  80 value 161.192122\n",
      "final  value 161.191754 \n",
      "converged\n",
      "# weights:  30\n",
      "initial  value 219.572452 \n",
      "iter  10 value 185.166146\n",
      "iter  20 value 168.880168\n",
      "iter  30 value 162.288708\n",
      "iter  40 value 156.035053\n",
      "iter  50 value 153.988094\n",
      "iter  60 value 152.994346\n",
      "iter  70 value 148.090512\n",
      "iter  80 value 143.537531\n",
      "iter  90 value 141.667434\n",
      "iter 100 value 141.026261\n",
      "final  value 141.026261 \n",
      "stopped after 100 iterations\n",
      "# weights:  46\n",
      "initial  value 265.413666 \n",
      "iter  10 value 185.874821\n",
      "iter  20 value 172.507380\n",
      "iter  30 value 159.658735\n",
      "iter  40 value 153.762386\n",
      "iter  50 value 148.910189\n",
      "iter  60 value 145.912393\n",
      "iter  70 value 143.960880\n",
      "iter  80 value 142.337484\n",
      "iter  90 value 141.619180\n",
      "iter 100 value 140.824511\n",
      "final  value 140.824511 \n",
      "stopped after 100 iterations\n",
      "# weights:  14\n",
      "initial  value 241.650476 \n",
      "iter  10 value 186.231067\n",
      "iter  20 value 166.474718\n",
      "iter  30 value 158.930971\n",
      "iter  40 value 157.505171\n",
      "iter  50 value 157.452718\n",
      "iter  60 value 157.394654\n",
      "iter  70 value 156.751004\n",
      "iter  80 value 156.720809\n",
      "final  value 156.717237 \n",
      "converged\n",
      "# weights:  30\n",
      "initial  value 229.044876 \n",
      "iter  10 value 184.944027\n",
      "iter  20 value 173.228914\n",
      "iter  30 value 160.590640\n",
      "iter  40 value 152.967701\n",
      "iter  50 value 150.624758\n",
      "iter  60 value 149.934387\n",
      "iter  70 value 149.498092\n",
      "iter  80 value 149.388313\n",
      "iter  90 value 149.124312\n",
      "iter 100 value 148.917395\n",
      "final  value 148.917395 \n",
      "stopped after 100 iterations\n",
      "# weights:  46\n",
      "initial  value 197.977831 \n",
      "iter  10 value 184.077462\n",
      "iter  20 value 166.334321\n",
      "iter  30 value 158.704208\n",
      "iter  40 value 151.945921\n",
      "iter  50 value 147.775378\n",
      "iter  60 value 145.261071\n",
      "iter  70 value 142.825370\n",
      "iter  80 value 141.990077\n",
      "iter  90 value 141.640200\n",
      "iter 100 value 140.928277\n",
      "final  value 140.928277 \n",
      "stopped after 100 iterations\n",
      "# weights:  14\n",
      "initial  value 207.297949 \n",
      "iter  10 value 185.857203\n",
      "iter  20 value 178.709472\n",
      "iter  30 value 178.660355\n",
      "iter  30 value 178.660354\n",
      "final  value 178.660354 \n",
      "converged\n",
      "# weights:  30\n",
      "initial  value 199.211652 \n",
      "iter  10 value 183.561027\n",
      "iter  20 value 178.641974\n",
      "iter  30 value 177.726002\n",
      "iter  40 value 177.636076\n",
      "iter  50 value 177.629158\n",
      "iter  60 value 177.628940\n",
      "final  value 177.628914 \n",
      "converged\n",
      "# weights:  46\n",
      "initial  value 232.101781 \n",
      "iter  10 value 184.740579\n",
      "iter  20 value 177.895283\n",
      "iter  30 value 177.639770\n",
      "iter  40 value 177.524857\n",
      "iter  50 value 177.499811\n",
      "iter  60 value 177.492067\n",
      "iter  70 value 177.490742\n",
      "iter  80 value 177.489570\n",
      "iter  90 value 177.489071\n",
      "final  value 177.489031 \n",
      "converged\n",
      "# weights:  14\n",
      "initial  value 206.201577 \n",
      "iter  10 value 186.238283\n",
      "iter  20 value 179.276029\n",
      "iter  30 value 160.424570\n",
      "iter  40 value 159.743566\n",
      "iter  50 value 158.916307\n",
      "iter  60 value 158.480819\n",
      "final  value 158.018752 \n",
      "converged\n",
      "# weights:  30\n",
      "initial  value 256.833401 \n",
      "iter  10 value 184.322330\n",
      "iter  20 value 168.925835\n",
      "iter  30 value 156.869240\n",
      "iter  40 value 151.627460\n",
      "iter  50 value 149.974967\n",
      "iter  60 value 148.334328\n",
      "iter  70 value 147.005498\n",
      "iter  80 value 146.123425\n",
      "iter  90 value 144.864093\n",
      "iter 100 value 144.045862\n",
      "final  value 144.045862 \n",
      "stopped after 100 iterations\n",
      "# weights:  46\n",
      "initial  value 217.160721 \n",
      "iter  10 value 179.003795\n",
      "iter  20 value 163.059852\n",
      "iter  30 value 157.840949\n",
      "iter  40 value 150.479931\n",
      "iter  50 value 144.695618\n",
      "iter  60 value 142.233589\n",
      "iter  70 value 141.543556\n",
      "iter  80 value 140.671089\n",
      "iter  90 value 140.462377\n",
      "iter 100 value 140.405576\n",
      "final  value 140.405576 \n",
      "stopped after 100 iterations\n",
      "# weights:  14\n",
      "initial  value 193.176773 \n",
      "iter  10 value 178.000296\n",
      "iter  20 value 166.196139\n",
      "iter  30 value 158.072335\n",
      "iter  40 value 156.737223\n",
      "iter  50 value 156.600940\n",
      "iter  60 value 156.360278\n",
      "iter  70 value 156.258757\n",
      "iter  80 value 156.209094\n",
      "iter  90 value 156.152823\n",
      "iter 100 value 156.144366\n",
      "final  value 156.144366 \n",
      "stopped after 100 iterations\n",
      "# weights:  30\n",
      "initial  value 249.547319 \n",
      "iter  10 value 177.103879\n",
      "iter  20 value 162.325625\n",
      "iter  30 value 157.270204\n",
      "iter  40 value 153.174044\n",
      "iter  50 value 150.618012\n",
      "iter  60 value 147.160817\n",
      "iter  70 value 145.439302\n",
      "iter  80 value 144.082934\n",
      "iter  90 value 143.049562\n",
      "iter 100 value 142.251434\n",
      "final  value 142.251434 \n",
      "stopped after 100 iterations\n",
      "# weights:  46\n",
      "initial  value 237.674333 \n",
      "iter  10 value 178.632320\n",
      "iter  20 value 167.935062\n",
      "iter  30 value 157.776587\n",
      "iter  40 value 149.434556\n",
      "iter  50 value 143.909060\n",
      "iter  60 value 138.271807\n",
      "iter  70 value 136.977927\n",
      "iter  80 value 136.682033\n",
      "iter  90 value 136.435069\n",
      "iter 100 value 136.289000\n",
      "final  value 136.289000 \n",
      "stopped after 100 iterations\n",
      "# weights:  14\n",
      "initial  value 232.866303 \n",
      "iter  10 value 177.849527\n",
      "iter  20 value 174.213267\n",
      "iter  30 value 173.976045\n",
      "final  value 173.976042 \n",
      "converged\n",
      "# weights:  30\n",
      "initial  value 206.212795 \n",
      "iter  10 value 178.454205\n",
      "iter  20 value 173.021685\n",
      "iter  30 value 172.841243\n",
      "iter  40 value 172.823280\n",
      "iter  50 value 172.816491\n",
      "iter  60 value 172.815658\n",
      "final  value 172.815550 \n",
      "converged\n",
      "# weights:  46\n",
      "initial  value 230.717948 \n",
      "iter  10 value 180.234094\n",
      "iter  20 value 173.488904\n",
      "iter  30 value 172.823489\n",
      "iter  40 value 172.735319\n",
      "iter  50 value 172.715651\n",
      "iter  60 value 172.696137\n",
      "iter  70 value 172.688882\n",
      "iter  80 value 172.685952\n",
      "final  value 172.685717 \n",
      "converged\n",
      "# weights:  14\n",
      "initial  value 207.981477 \n",
      "iter  10 value 174.890199\n",
      "iter  20 value 160.529886\n",
      "iter  30 value 157.461569\n",
      "iter  40 value 157.205529\n",
      "iter  50 value 157.159589\n",
      "final  value 157.106517 \n",
      "converged\n",
      "# weights:  30\n",
      "initial  value 203.007651 \n",
      "iter  10 value 175.966848\n",
      "iter  20 value 165.191963\n",
      "iter  30 value 159.646761\n",
      "iter  40 value 149.629444\n",
      "iter  50 value 147.751382\n",
      "iter  60 value 146.727031\n",
      "iter  70 value 146.330748\n",
      "iter  80 value 146.287130\n",
      "iter  90 value 146.208660\n",
      "iter 100 value 146.139534\n",
      "final  value 146.139534 \n",
      "stopped after 100 iterations\n",
      "# weights:  46\n",
      "initial  value 229.013359 \n",
      "iter  10 value 175.527846\n",
      "iter  20 value 162.182326\n",
      "iter  30 value 155.919193\n",
      "iter  40 value 150.112306\n",
      "iter  50 value 146.789193\n",
      "iter  60 value 142.714268\n",
      "iter  70 value 140.251709\n",
      "iter  80 value 139.768759\n",
      "iter  90 value 139.208458\n",
      "iter 100 value 138.889095\n",
      "final  value 138.889095 \n",
      "stopped after 100 iterations\n",
      "# weights:  14\n",
      "initial  value 214.144203 \n",
      "iter  10 value 178.644115\n",
      "iter  20 value 171.122604\n",
      "iter  30 value 157.941558\n",
      "iter  40 value 155.095454\n",
      "iter  50 value 154.542931\n",
      "iter  60 value 154.125093\n",
      "iter  70 value 152.551324\n",
      "iter  80 value 152.365879\n",
      "iter  90 value 152.286445\n",
      "final  value 152.280663 \n",
      "converged\n",
      "# weights:  30\n",
      "initial  value 219.962729 \n",
      "iter  10 value 178.668679\n",
      "iter  20 value 163.333915\n",
      "iter  30 value 150.493582\n",
      "iter  40 value 145.786407\n",
      "iter  50 value 135.268897\n",
      "iter  60 value 131.993693\n",
      "iter  70 value 131.716776\n",
      "iter  80 value 131.300503\n",
      "iter  90 value 130.738445\n",
      "iter 100 value 130.396855\n",
      "final  value 130.396855 \n",
      "stopped after 100 iterations\n",
      "# weights:  46\n",
      "initial  value 243.980246 \n",
      "iter  10 value 173.193194\n",
      "iter  20 value 158.996538\n",
      "iter  30 value 150.027711\n",
      "iter  40 value 144.041300\n",
      "iter  50 value 141.428154\n",
      "iter  60 value 141.082644\n",
      "iter  70 value 141.008659\n",
      "iter  80 value 140.871150\n",
      "iter  90 value 140.773870\n",
      "final  value 140.773849 \n",
      "converged\n",
      "# weights:  14\n",
      "initial  value 230.031073 \n",
      "iter  10 value 178.121016\n",
      "iter  20 value 173.192671\n",
      "iter  30 value 172.822735\n",
      "iter  30 value 172.822735\n",
      "iter  30 value 172.822735\n",
      "final  value 172.822735 \n",
      "converged\n",
      "# weights:  30\n",
      "initial  value 201.529865 \n",
      "iter  10 value 178.485935\n",
      "iter  20 value 173.006231\n",
      "iter  30 value 171.762931\n",
      "iter  40 value 171.609569\n",
      "iter  50 value 171.609069\n",
      "iter  60 value 171.602957\n",
      "iter  70 value 171.551279\n",
      "iter  80 value 171.534186\n",
      "iter  90 value 171.525313\n",
      "iter 100 value 171.521655\n",
      "final  value 171.521655 \n",
      "stopped after 100 iterations\n",
      "# weights:  46\n",
      "initial  value 227.612494 \n",
      "iter  10 value 178.905402\n",
      "iter  20 value 171.754681\n",
      "iter  30 value 171.476527\n",
      "iter  40 value 171.409274\n",
      "iter  50 value 171.382078\n",
      "iter  60 value 171.376768\n",
      "iter  70 value 171.375510\n",
      "iter  80 value 171.374295\n",
      "iter  90 value 171.374153\n",
      "final  value 171.374143 \n",
      "converged\n",
      "# weights:  14\n",
      "initial  value 220.207974 \n",
      "iter  10 value 175.267325\n",
      "iter  20 value 158.710999\n",
      "iter  30 value 155.098407\n",
      "iter  40 value 154.421226\n",
      "iter  50 value 154.288364\n",
      "iter  60 value 154.014049\n",
      "iter  70 value 154.013833\n",
      "final  value 154.013777 \n",
      "converged\n",
      "# weights:  30\n",
      "initial  value 220.539891 \n",
      "iter  10 value 174.091399\n",
      "iter  20 value 156.397769\n",
      "iter  30 value 148.418840\n",
      "iter  40 value 146.380590\n",
      "iter  50 value 145.324613\n",
      "iter  60 value 141.312753\n",
      "iter  70 value 140.366978\n",
      "iter  80 value 138.825491\n",
      "iter  90 value 136.979891\n",
      "iter 100 value 135.665886\n",
      "final  value 135.665886 \n",
      "stopped after 100 iterations\n",
      "# weights:  46\n",
      "initial  value 187.005294 \n",
      "iter  10 value 172.674862\n",
      "iter  20 value 158.006964\n",
      "iter  30 value 151.934420\n",
      "iter  40 value 147.278180\n",
      "iter  50 value 144.100200\n",
      "iter  60 value 140.390747\n",
      "iter  70 value 136.841180\n",
      "iter  80 value 135.432197\n",
      "iter  90 value 134.337312\n",
      "iter 100 value 133.621432\n",
      "final  value 133.621432 \n",
      "stopped after 100 iterations\n",
      "# weights:  14\n",
      "initial  value 230.970323 \n",
      "iter  10 value 173.186657\n",
      "iter  20 value 153.917451\n",
      "iter  30 value 146.909907\n",
      "iter  40 value 146.198838\n",
      "iter  50 value 145.969497\n",
      "iter  60 value 145.875271\n",
      "iter  70 value 145.865434\n",
      "iter  80 value 145.859425\n",
      "iter  90 value 145.842148\n",
      "iter 100 value 145.798955\n",
      "final  value 145.798955 \n",
      "stopped after 100 iterations\n",
      "# weights:  30\n",
      "initial  value 208.996864 \n",
      "iter  10 value 166.095210\n",
      "iter  20 value 151.810598\n",
      "iter  30 value 141.409169\n",
      "iter  40 value 136.155312\n",
      "iter  50 value 133.781349\n",
      "iter  60 value 131.843359\n",
      "iter  70 value 130.561203\n",
      "iter  80 value 130.443947\n",
      "iter  90 value 130.023782\n",
      "iter 100 value 129.414041\n",
      "final  value 129.414041 \n",
      "stopped after 100 iterations\n",
      "# weights:  46\n",
      "initial  value 197.347215 \n",
      "iter  10 value 176.847688\n",
      "iter  20 value 159.977663\n",
      "iter  30 value 141.692917\n",
      "iter  40 value 135.164057\n",
      "iter  50 value 130.304412\n",
      "iter  60 value 128.240104\n",
      "iter  70 value 127.983298\n",
      "iter  80 value 126.758754\n",
      "iter  90 value 126.480597\n",
      "iter 100 value 125.775046\n",
      "final  value 125.775046 \n",
      "stopped after 100 iterations\n",
      "# weights:  14\n",
      "initial  value 215.784427 \n",
      "iter  10 value 178.932508\n",
      "iter  20 value 171.072966\n",
      "iter  30 value 170.850416\n",
      "iter  30 value 170.850414\n",
      "iter  30 value 170.850414\n",
      "final  value 170.850414 \n",
      "converged\n",
      "# weights:  30\n",
      "initial  value 254.875823 \n",
      "iter  10 value 181.423096\n",
      "iter  20 value 170.905504\n",
      "iter  30 value 169.443938\n",
      "iter  40 value 169.364597\n",
      "iter  50 value 169.341881\n",
      "iter  60 value 169.338234\n",
      "iter  70 value 169.337021\n",
      "iter  80 value 169.328728\n",
      "iter  90 value 169.197190\n",
      "iter 100 value 169.184026\n",
      "final  value 169.184026 \n",
      "stopped after 100 iterations\n",
      "# weights:  46\n",
      "initial  value 222.598075 \n",
      "iter  10 value 180.906798\n",
      "iter  20 value 173.741275\n",
      "iter  30 value 169.337632\n",
      "iter  40 value 169.127588\n",
      "iter  50 value 169.055172\n",
      "iter  60 value 169.032161\n",
      "iter  70 value 169.002628\n",
      "iter  80 value 168.969850\n",
      "iter  90 value 168.961316\n",
      "iter 100 value 168.959330\n",
      "final  value 168.959330 \n",
      "stopped after 100 iterations\n",
      "# weights:  14\n",
      "initial  value 235.482979 \n",
      "iter  10 value 171.792786\n",
      "iter  20 value 151.254279\n",
      "iter  30 value 147.623740\n",
      "iter  40 value 146.739765\n",
      "iter  50 value 146.292135\n",
      "iter  60 value 146.212110\n",
      "iter  70 value 146.210783\n",
      "iter  80 value 146.210378\n",
      "final  value 146.210364 \n",
      "converged\n",
      "# weights:  30\n",
      "initial  value 214.293233 \n",
      "iter  10 value 178.164362\n",
      "iter  20 value 151.295928\n",
      "iter  30 value 144.987881\n",
      "iter  40 value 139.894871\n",
      "iter  50 value 137.241987\n",
      "iter  60 value 135.958063\n",
      "iter  70 value 135.759937\n",
      "iter  80 value 134.724330\n",
      "iter  90 value 133.511041\n",
      "iter 100 value 132.897896\n",
      "final  value 132.897896 \n",
      "stopped after 100 iterations\n",
      "# weights:  46\n",
      "initial  value 200.592251 \n",
      "iter  10 value 171.427449\n",
      "iter  20 value 156.619742\n",
      "iter  30 value 143.744464\n",
      "iter  40 value 137.807046\n",
      "iter  50 value 134.156452\n",
      "iter  60 value 132.571107\n",
      "iter  70 value 131.590984\n",
      "iter  80 value 129.883345\n",
      "iter  90 value 129.232944\n",
      "iter 100 value 128.616531\n",
      "final  value 128.616531 \n",
      "stopped after 100 iterations\n",
      "# weights:  46\n",
      "initial  value 258.281562 \n",
      "iter  10 value 226.813115\n",
      "iter  20 value 204.855091\n",
      "iter  30 value 196.336702\n",
      "iter  40 value 192.254452\n",
      "iter  50 value 186.276317\n",
      "iter  60 value 179.409066\n",
      "iter  70 value 174.891710\n",
      "iter  80 value 173.856381\n",
      "iter  90 value 173.322427\n",
      "iter 100 value 173.130870\n",
      "final  value 173.130870 \n",
      "stopped after 100 iterations\n"
     ]
    },
    {
     "name": "stderr",
     "output_type": "stream",
     "text": [
      "Starting spatial predict\n",
      "\n"
     ]
    },
    {
     "name": "stdout",
     "output_type": "stream",
     "text": [
      "  |======================================================================| 100%\n",
      "\n"
     ]
    },
    {
     "name": "stderr",
     "output_type": "stream",
     "text": [
      "Begin validation\n",
      "\n",
      "******************** Model summary ********************\n",
      "\n"
     ]
    },
    {
     "name": "stdout",
     "output_type": "stream",
     "text": [
      "Neural Network \n",
      "\n",
      "149 samples\n",
      "  1 predictor\n",
      "  6 classes: '1', '2', '3', '4', '5', '6' \n",
      "\n",
      "No pre-processing\n",
      "Resampling: Cross-Validated (5 fold) \n",
      "Summary of sample sizes: 121, 121, 118, 118, 118 \n",
      "Resampling results across tuning parameters:\n",
      "\n",
      "  size  decay  Accuracy   Kappa    \n",
      "  1     0e+00  0.4638249  0.1972836\n",
      "  1     1e-04  0.4702765  0.2093781\n",
      "  1     1e-01  0.4523041  0.1278430\n",
      "  3     0e+00  0.4981567  0.2581182\n",
      "  3     1e-04  0.4917051  0.2491146\n",
      "  3     1e-01  0.4652074  0.1523992\n",
      "  5     0e+00  0.4774194  0.2160393\n",
      "  5     1e-04  0.5046083  0.2571139\n",
      "  5     1e-01  0.4652074  0.1523992\n",
      "\n",
      "Accuracy was used to select the optimal model using the largest value.\n",
      "The final values used for the model were size = 5 and decay = 1e-04.\n",
      "[[1]]\n",
      "  TrainAccuracy TrainKappa method\n",
      "1     0.5046083  0.2571139   nnet\n",
      "\n",
      "[[2]]\n",
      "Cross-Validated (5 fold) Confusion Matrix \n",
      "\n",
      "(entries are average cell counts across resamples)\n",
      " \n",
      "          Reference\n",
      "Prediction    1    2    3    4    5    6\n",
      "         1 10.4  0.6  2.4  3.6  2.8  0.0\n",
      "         2  0.0  0.0  0.0  0.0  0.0  0.0\n",
      "         3  1.8  1.0  2.6  0.4  0.8  0.0\n",
      "         4  0.2  0.2  0.2  0.2  0.0  0.0\n",
      "         5  0.0  0.4  0.2  0.0  1.2  0.0\n",
      "         6  0.0  0.2  0.0  0.0  0.0  0.6\n",
      "                            \n",
      " Accuracy (average) : 0.5034\n",
      "\n",
      "\n"
     ]
    },
    {
     "name": "stderr",
     "output_type": "stream",
     "text": [
      "******************** Validation summary ********************\n",
      "\n"
     ]
    },
    {
     "name": "stdout",
     "output_type": "stream",
     "text": [
      "Confusion Matrix and Statistics\n",
      "\n",
      "          Reference\n",
      "Prediction  1  2  3  4  5  6\n",
      "         1 20  0  1  6  4  0\n",
      "         2  0  0  0  0  0  0\n",
      "         3  1  3  7  0  1  0\n",
      "         4  0  0  0  0  0  0\n",
      "         5  0  1  0  0  2  0\n",
      "         6  0  0  0  0  0  1\n",
      "\n",
      "Overall Statistics\n",
      "                                          \n",
      "               Accuracy : 0.6383          \n",
      "                 95% CI : (0.4852, 0.7733)\n",
      "    No Information Rate : 0.4468          \n",
      "    P-Value [Acc > NIR] : 0.00639         \n",
      "                                          \n",
      "                  Kappa : 0.4451          \n",
      "                                          \n",
      " Mcnemar's Test P-Value : NA              \n",
      "\n",
      "Statistics by Class:\n",
      "\n",
      "                     Class: 1 Class: 2 Class: 3 Class: 4 Class: 5 Class: 6\n",
      "Sensitivity            0.9524  0.00000   0.8750   0.0000  0.28571  1.00000\n",
      "Specificity            0.5769  1.00000   0.8718   1.0000  0.97500  1.00000\n",
      "Pos Pred Value         0.6452      NaN   0.5833      NaN  0.66667  1.00000\n",
      "Neg Pred Value         0.9375  0.91489   0.9714   0.8723  0.88636  1.00000\n",
      "Prevalence             0.4468  0.08511   0.1702   0.1277  0.14894  0.02128\n",
      "Detection Rate         0.4255  0.00000   0.1489   0.0000  0.04255  0.02128\n",
      "Detection Prevalence   0.6596  0.00000   0.2553   0.0000  0.06383  0.02128\n",
      "Balanced Accuracy      0.7647  0.50000   0.8734   0.5000  0.63036  1.00000\n"
     ]
    }
   ],
   "source": [
    "sc <- superClass(ROI_wue_indices, trainData=td,\n",
    "                 responseCol = \"Class_ID\",\n",
    "                 model = \"nnet\",\n",
    "                 trainPartition = 0.75,\n",
    "                 mode=\"classification\",\n",
    "                 predict=TRUE,\n",
    "                 filename=\"C:/Users/s1526/Dropbox/EAGLE_Assessments/MB3_Geoinfo/MB3_FINAL/Class_test.tif\",\n",
    "                 overwrite=TRUE,\n",
    "                 verbose=TRUE)"
   ]
  },
  {
   "cell_type": "code",
   "execution_count": 29,
   "metadata": {},
   "outputs": [
    {
     "name": "stderr",
     "output_type": "stream",
     "text": [
      "Begin sampling training data\n",
      "\n",
      "Starting to fit model\n",
      "\n",
      "Warning message in randomForest.default(x, y, mtry = param$mtry, ...):\n",
      "\"invalid mtry: reset to within valid range\"\n",
      "Warning message in randomForest.default(x, y, mtry = param$mtry, ...):\n",
      "\"invalid mtry: reset to within valid range\"\n",
      "Warning message in randomForest.default(x, y, mtry = param$mtry, ...):\n",
      "\"invalid mtry: reset to within valid range\"\n",
      "Warning message in randomForest.default(x, y, mtry = param$mtry, ...):\n",
      "\"invalid mtry: reset to within valid range\"\n",
      "Warning message in randomForest.default(x, y, mtry = param$mtry, ...):\n",
      "\"invalid mtry: reset to within valid range\"\n",
      "Warning message in randomForest.default(x, y, mtry = param$mtry, ...):\n",
      "\"invalid mtry: reset to within valid range\"\n",
      "Starting spatial predict\n",
      "\n"
     ]
    },
    {
     "name": "stdout",
     "output_type": "stream",
     "text": [
      "  |======================================================================| 100%\n",
      "\n"
     ]
    },
    {
     "name": "stderr",
     "output_type": "stream",
     "text": [
      "Begin validation\n",
      "\n",
      "******************** Model summary ********************\n",
      "\n"
     ]
    },
    {
     "name": "stdout",
     "output_type": "stream",
     "text": [
      "Random Forest \n",
      "\n",
      "150 samples\n",
      "  1 predictor\n",
      "  6 classes: '1', '2', '3', '4', '5', '6' \n",
      "\n",
      "No pre-processing\n",
      "Resampling: Cross-Validated (5 fold) \n",
      "Summary of sample sizes: 122, 120, 120, 120, 118 \n",
      "Resampling results:\n",
      "\n",
      "  Accuracy   Kappa    \n",
      "  0.4069048  0.1857107\n",
      "\n",
      "Tuning parameter 'mtry' was held constant at a value of 2\n",
      "[[1]]\n",
      "  TrainAccuracy TrainKappa method\n",
      "1     0.4069048  0.1857107     rf\n",
      "\n",
      "[[2]]\n",
      "Cross-Validated (5 fold) Confusion Matrix \n",
      "\n",
      "(entries are average cell counts across resamples)\n",
      " \n",
      "          Reference\n",
      "Prediction   1   2   3   4   5   6\n",
      "         1 7.4 0.4 1.6 2.2 2.0 0.0\n",
      "         2 0.4 0.4 1.0 0.0 0.2 0.0\n",
      "         3 1.6 0.8 1.6 0.4 1.2 0.0\n",
      "         4 1.8 0.2 0.4 1.2 0.4 0.0\n",
      "         5 1.4 0.4 0.8 0.4 1.0 0.0\n",
      "         6 0.0 0.2 0.0 0.0 0.0 0.6\n",
      "                            \n",
      " Accuracy (average) : 0.4067\n",
      "\n",
      "\n"
     ]
    },
    {
     "name": "stderr",
     "output_type": "stream",
     "text": [
      "******************** Validation summary ********************\n",
      "\n"
     ]
    },
    {
     "name": "stdout",
     "output_type": "stream",
     "text": [
      "Confusion Matrix and Statistics\n",
      "\n",
      "          Reference\n",
      "Prediction  1  2  3  4  5  6\n",
      "         1 10  0  1  3  2  0\n",
      "         2  0  0  0  0  1  0\n",
      "         3  5  3  4  1  0  0\n",
      "         4  3  0  1  0  0  0\n",
      "         5  2  1  2  2  4  0\n",
      "         6  0  0  0  0  0  1\n",
      "\n",
      "Overall Statistics\n",
      "                                        \n",
      "               Accuracy : 0.413         \n",
      "                 95% CI : (0.27, 0.5677)\n",
      "    No Information Rate : 0.4348        \n",
      "    P-Value [Acc > NIR] : 0.6701        \n",
      "                                        \n",
      "                  Kappa : 0.2169        \n",
      "                                        \n",
      " Mcnemar's Test P-Value : NA            \n",
      "\n",
      "Statistics by Class:\n",
      "\n",
      "                     Class: 1 Class: 2 Class: 3 Class: 4 Class: 5 Class: 6\n",
      "Sensitivity            0.5000  0.00000  0.50000  0.00000  0.57143  1.00000\n",
      "Specificity            0.7692  0.97619  0.76316  0.90000  0.82051  1.00000\n",
      "Pos Pred Value         0.6250  0.00000  0.30769  0.00000  0.36364  1.00000\n",
      "Neg Pred Value         0.6667  0.91111  0.87879  0.85714  0.91429  1.00000\n",
      "Prevalence             0.4348  0.08696  0.17391  0.13043  0.15217  0.02174\n",
      "Detection Rate         0.2174  0.00000  0.08696  0.00000  0.08696  0.02174\n",
      "Detection Prevalence   0.3478  0.02174  0.28261  0.08696  0.23913  0.02174\n",
      "Balanced Accuracy      0.6346  0.48810  0.63158  0.45000  0.69597  1.00000\n"
     ]
    }
   ],
   "source": [
    "sc_RF <- superClass(ROI_wue_indices, trainData=td,\n",
    "                 responseCol = \"Class_ID\",\n",
    "                 model = \"rf\",\n",
    "                 trainPartition = 0.75,\n",
    "                 mode=\"classification\",\n",
    "                 predict=TRUE,\n",
    "                 filename=\"C:/Users/s1526/Dropbox/EAGLE_Assessments/MB3_Geoinfo/MB3_FINAL/Class_rf_test.tif\",\n",
    "                 overwrite=TRUE,\n",
    "                 verbose=TRUE)"
   ]
  },
  {
   "cell_type": "code",
   "execution_count": 30,
   "metadata": {},
   "outputs": [
    {
     "data": {
      "text/plain": [
       "             Length Class       Mode\n",
       "model            23 train       list\n",
       "modelFit          2 -none-      list\n",
       "training          1 -none-      list\n",
       "validation        3 -none-      list\n",
       "map          970632 RasterLayer S4  \n",
       "classMapping      2 data.frame  list"
      ]
     },
     "metadata": {},
     "output_type": "display_data"
    },
    {
     "data": {
      "text/plain": [
       "Confusion Matrix and Statistics\n",
       "\n",
       "          Reference\n",
       "Prediction  1  2  3  4  5  6\n",
       "         1 20  0  1  6  4  0\n",
       "         2  0  0  0  0  0  0\n",
       "         3  1  3  7  0  1  0\n",
       "         4  0  0  0  0  0  0\n",
       "         5  0  1  0  0  2  0\n",
       "         6  0  0  0  0  0  1\n",
       "\n",
       "Overall Statistics\n",
       "                                          \n",
       "               Accuracy : 0.6383          \n",
       "                 95% CI : (0.4852, 0.7733)\n",
       "    No Information Rate : 0.4468          \n",
       "    P-Value [Acc > NIR] : 0.00639         \n",
       "                                          \n",
       "                  Kappa : 0.4451          \n",
       "                                          \n",
       " Mcnemar's Test P-Value : NA              \n",
       "\n",
       "Statistics by Class:\n",
       "\n",
       "                     Class: 1 Class: 2 Class: 3 Class: 4 Class: 5 Class: 6\n",
       "Sensitivity            0.9524  0.00000   0.8750   0.0000  0.28571  1.00000\n",
       "Specificity            0.5769  1.00000   0.8718   1.0000  0.97500  1.00000\n",
       "Pos Pred Value         0.6452      NaN   0.5833      NaN  0.66667  1.00000\n",
       "Neg Pred Value         0.9375  0.91489   0.9714   0.8723  0.88636  1.00000\n",
       "Prevalence             0.4468  0.08511   0.1702   0.1277  0.14894  0.02128\n",
       "Detection Rate         0.4255  0.00000   0.1489   0.0000  0.04255  0.02128\n",
       "Detection Prevalence   0.6596  0.00000   0.2553   0.0000  0.06383  0.02128\n",
       "Balanced Accuracy      0.7647  0.50000   0.8734   0.5000  0.63036  1.00000"
      ]
     },
     "metadata": {},
     "output_type": "display_data"
    }
   ],
   "source": [
    "setwd(\"C:/Users/s1526/Dropbox/EAGLE_Assessments/MB3_Geoinfo/MB3_FINAL\")\n",
    "\n",
    "summary(sc)\n",
    "\n",
    "sc$validation$performance\n",
    "\n",
    "save(sc, file = \"RF_model.rda\")"
   ]
  },
  {
   "cell_type": "code",
   "execution_count": 31,
   "metadata": {},
   "outputs": [
    {
     "data": {
      "image/png": "[encoded data removed]",
      "text/plain": [
       "Plot with title \"\""
      ]
     },
     "metadata": {
      "image/png": {
       "height": 420,
       "width": 420
      }
     },
     "output_type": "display_data"
    }
   ],
   "source": [
    "plot(sc$map)"
   ]
  },
  {
   "cell_type": "markdown",
   "metadata": {},
   "source": [
    "## Results:"
   ]
  },
  {
   "cell_type": "markdown",
   "metadata": {},
   "source": [
    "![Result.PNG](Result.png)"
   ]
  }
 ],
 "metadata": {
  "kernelspec": {
   "display_name": "R",
   "language": "R",
   "name": "ir"
  },
  "language_info": {
   "codemirror_mode": "r",
   "file_extension": ".r",
   "mimetype": "text/x-r-source",
   "name": "R",
   "pygments_lexer": "r",
   "version": "4.0.2"
  }
 },
 "nbformat": 4,
 "nbformat_minor": 4
}
